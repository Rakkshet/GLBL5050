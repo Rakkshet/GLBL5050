{
 "cells": [
  {
   "cell_type": "markdown",
   "id": "52c91f53",
   "metadata": {},
   "source": [
    "# GLBL 5050: Introduction to Python for Global Affairs"
   ]
  },
  {
   "cell_type": "markdown",
   "id": "8c6daf7b",
   "metadata": {},
   "source": [
    "## Final Project: An Analytics Dashboard for Examining the Economic Dynamics of Countries that have Undergone Democracy Backsliding\n",
    "#### December 17, 2023\n",
    "#### Rakkshet Singhaal"
   ]
  },
  {
   "cell_type": "markdown",
   "id": "11384627",
   "metadata": {},
   "source": [
    "###### Summary\n",
    "\n",
    "Based on the concepts and skills learnt over the last semester, our team has developed a democracy backsliding economic analytics dashboard! The tool is designed to provide a comprehensive economic analysis of countries that have witnessed a regression in their democratic principles. Through intuitive visualizations and data-driven insights, our dashboard aims to shed light on the economic landscape amidst democracy backsliding. "
   ]
  },
  {
   "cell_type": "markdown",
   "id": "26fa3c02",
   "metadata": {},
   "source": [
    "###### Methodology \n",
    "\n",
    "Our team embarked on a systematic process to reach our final outcome. Beginning with the utilization of the V-Dem dataset, we meticulously identified key indicators that serve as markers for democracy backsliding. With a clear definition of democracy backsliding in place, we then pinpointed countries that have undergone this phenomenon. To enrich our analysis, we incorporated data from reputable sources such as the  World Development Index from World Bank Group, ensuring a comprehensive exploration of economic factors in nations affected by democracy backsliding. The culmination of these efforts resulted in the development of a dynamic dashboard, empowering users to delve into diverse indicators and datasets through a variety of visualizations."
   ]
  },
  {
   "cell_type": "markdown",
   "id": "b5f629e4",
   "metadata": {},
   "source": [
    "###### Code"
   ]
  },
  {
   "cell_type": "code",
   "execution_count": 1,
   "id": "19663cb1",
   "metadata": {},
   "outputs": [],
   "source": [
    "# Importing necessary libraries for data manipulation, visualization, and building the dashboard\n",
    "import pandas as pd\n",
    "import numpy as np\n",
    "import plotly.express as px\n",
    "import dash"
   ]
  },
  {
   "cell_type": "code",
   "execution_count": 2,
   "id": "292c693a",
   "metadata": {},
   "outputs": [],
   "source": [
    "# Importing specific modules from Dash for constructing the dashboard components\n",
    "from dash import html, dcc, dash_table\n",
    "from dash.dependencies import Input, Output"
   ]
  },
  {
   "cell_type": "code",
   "execution_count": 3,
   "id": "afa18752",
   "metadata": {},
   "outputs": [
    {
     "name": "stderr",
     "output_type": "stream",
     "text": [
      "/var/folders/jr/yk_drf0n3ys0hbglvhv_fsth0000gn/T/ipykernel_8188/2301435376.py:2: DtypeWarning: Columns (364,365,366,394,410,821,831,832,930,1235,1252,1481,3063,3282,3283,3351,3353,3357,3358,3360,3361,3362) have mixed types. Specify dtype option on import or set low_memory=False.\n",
      "  df_vdem = pd.read_csv('V-Dem-CY-Full+Others-v13.csv')\n"
     ]
    }
   ],
   "source": [
    "# Reading the V-Dem dataset and storing it in a DataFrame\n",
    "df_vdem = pd.read_csv('V-Dem-CY-Full+Others-v13.csv')"
   ]
  },
  {
   "cell_type": "code",
   "execution_count": 4,
   "id": "2370f2e0",
   "metadata": {},
   "outputs": [],
   "source": [
    "# Creating pivot tables for specific indicators\n",
    "# Each pivot table organizes data by country_name and year for the respective indicator\n",
    "df_regime_1 = df_vdem.pivot(index='country_name', columns='year', values='v2x_regime')\n",
    "df_dem_1 = df_vdem.pivot(index='country_name', columns='year', values='e_boix_regime')\n",
    "df_polity_1 = df_vdem.pivot(index='country_name', columns='year', values='e_polity2')"
   ]
  },
  {
   "cell_type": "code",
   "execution_count": 5,
   "id": "354e95eb",
   "metadata": {},
   "outputs": [],
   "source": [
    "# Dropping columns corresponding to the range from 1789-1991 and years 2019-2022\n",
    "df_regime_2 = df_regime_1.drop(columns=list(range(1789, 1991)) + [2019, 2020, 2021, 2022])\n",
    "df_dem_2 = df_dem_1.drop(columns=list(range(1789, 1991)) + [2019, 2020, 2021, 2022])\n",
    "df_polity_2 = df_polity_1.drop(columns=list(range(1789, 1991)) + [2019, 2020, 2021, 2022])"
   ]
  },
  {
   "cell_type": "code",
   "execution_count": 6,
   "id": "db6f5370",
   "metadata": {},
   "outputs": [],
   "source": [
    "# Removing rows with missing values (NaN)\n",
    "df_regime_3 = df_regime_2.dropna()\n",
    "df_dem_3 = df_dem_2.dropna()\n",
    "df_polity_3 = df_polity_2.dropna()"
   ]
  },
  {
   "cell_type": "code",
   "execution_count": 7,
   "id": "26f03e0c",
   "metadata": {},
   "outputs": [],
   "source": [
    "# Iterating through rows of the regime pivot table to identify and record regime transition years\n",
    "regime_transitions_list = []\n",
    "\n",
    "for index, row in df_regime_3.iterrows():\n",
    "    country_name = index\n",
    "    transition_started = False\n",
    "    \n",
    "    for year in df_regime_3.columns[:-1]:\n",
    "        current_value = row[year]\n",
    "        \n",
    "        # Checking if the regime value is greater than or equal to 2 and subsequent years have values less than 2\n",
    "        if (current_value >= 2) and all(row[year + i] < 2 for i in range(1, len(df_regime_3.columns) - df_regime_3.columns.get_loc(year))):\n",
    "            transition_started = True\n",
    "            transition_start_year = year\n",
    "\n",
    "        # Checking if a transition has started and subsequent years have values less than 2\n",
    "        elif transition_started and all(row[year + i] < 2 for i in range(1, len(df_regime_3.columns) - df_regime_3.columns.get_loc(year))):\n",
    "            transition_info = {'country': country_name, 'start_year': transition_start_year}\n",
    "            regime_transitions_list.append(transition_info)\n",
    "            transition_started = False\n",
    "            break"
   ]
  },
  {
   "cell_type": "code",
   "execution_count": 8,
   "id": "36d2ce09",
   "metadata": {},
   "outputs": [],
   "source": [
    "# Iterating through rows of the democracy pivot table to identify and record democratization transition years\n",
    "dem_transitions_list = []\n",
    "\n",
    "for index, row in df_dem_3.iterrows():\n",
    "    country_name = index\n",
    "    transition_started = False\n",
    "    \n",
    "    for year in df_dem_3.columns[:-1]:\n",
    "        current_value = row[year]\n",
    "        \n",
    "        # Checking if the democracy value is 1.0 and subsequent years have values of 0.0\n",
    "        if current_value == 1.0 and all(row[year + i] == 0.0 for i in range(1, len(df_dem_3.columns) - df_dem_3.columns.get_loc(year) - 1)):\n",
    "            transition_started = True\n",
    "            transition_start_year = year\n",
    "\n",
    "        # Checking if a transition has started and subsequent years have values of 0.0\n",
    "        elif transition_started and all(row[year + i] == 0.0 for i in range(1, len(df_dem_3.columns) - df_dem_3.columns.get_loc(year) - 1)):\n",
    "            transition_info = {'country': country_name, 'start_year': transition_start_year}\n",
    "            dem_transitions_list.append(transition_info)\n",
    "            transition_started = False\n",
    "            break"
   ]
  },
  {
   "cell_type": "code",
   "execution_count": 9,
   "id": "80ec1755",
   "metadata": {},
   "outputs": [],
   "source": [
    "# Iterating through rows of the polity pivot table to identify and record transitions in polity scores\n",
    "polity_transitions_list = []\n",
    "\n",
    "for index, row in df_polity_3.iterrows():\n",
    "    country_name = index\n",
    "    transition_started = False\n",
    "    \n",
    "    for year in df_polity_3.columns[:-1]:\n",
    "        current_value = row[year]\n",
    "        \n",
    "        # Checking if the polity score is greater than or equal to 7 and subsequent years have values less than 7\n",
    "        if (current_value >= 7) and all(row[year + i] < 7 for i in range(1, len(df_polity_3.columns) - df_polity_3.columns.get_loc(year) - 1)):\n",
    "            transition_started = True\n",
    "            transition_start_year = year\n",
    "\n",
    "        # Checking if a transition has started and subsequent years have values less than 7\n",
    "        elif transition_started and all(row[year + i] < 7 for i in range(1, len(df_polity_3.columns) - df_polity_3.columns.get_loc(year) - 1)):\n",
    "            transition_info = {'country': country_name, 'start_year': transition_start_year}\n",
    "            polity_transitions_list.append(transition_info)\n",
    "            transition_started = False\n",
    "            break"
   ]
  },
  {
   "cell_type": "code",
   "execution_count": 10,
   "id": "d603cd3d",
   "metadata": {},
   "outputs": [],
   "source": [
    "# Creating sets of unique countries involved in regime, democratization, and polity transitions\n",
    "regime_set = {entry['country'] for entry in regime_transitions_list}\n",
    "dem_set = {entry['country'] for entry in dem_transitions_list}\n",
    "polity_set = {entry['country'] for entry in polity_transitions_list}"
   ]
  },
  {
   "cell_type": "code",
   "execution_count": 11,
   "id": "bf55a552",
   "metadata": {},
   "outputs": [],
   "source": [
    "# Finding the intersection sets between regime and democratization, regime and polity, and democratization and polity sets\n",
    "intersection_set_1 = regime_set.intersection(dem_set)\n",
    "intersection_set_2 = regime_set.intersection(polity_set)\n",
    "intersection_set_3 = dem_set.intersection(polity_set)"
   ]
  },
  {
   "cell_type": "code",
   "execution_count": 12,
   "id": "dd41c36b",
   "metadata": {},
   "outputs": [],
   "source": [
    "# Creating a union set of countries involved in at least two types of transitions\n",
    "union_of_sets = (intersection_set_1.union(intersection_set_2)).union(intersection_set_3)"
   ]
  },
  {
   "cell_type": "code",
   "execution_count": 13,
   "id": "be3d5d0d",
   "metadata": {},
   "outputs": [],
   "source": [
    "# Filtering regime transitions list to include only entries corresponding to countries in the union set\n",
    "union_list = [{'country': entry['country'], 'start_year': entry['start_year']} for entry in regime_transitions_list if entry['country'] in union_of_sets]"
   ]
  },
  {
   "cell_type": "code",
   "execution_count": 14,
   "id": "d31b931d",
   "metadata": {},
   "outputs": [],
   "source": [
    "# Converting the filtered list to a DataFrame for further analysis or visualization\n",
    "df_union_list = pd.DataFrame(union_list)"
   ]
  },
  {
   "cell_type": "code",
   "execution_count": 15,
   "id": "0f9f9217",
   "metadata": {},
   "outputs": [],
   "source": [
    "# Reading World Development Indicators data\n",
    "df_wdi_1 = pd.read_excel('P_Data_Extract_From_World_Development_Indicators.xlsx')"
   ]
  },
  {
   "cell_type": "code",
   "execution_count": 16,
   "id": "37a8f5b3",
   "metadata": {},
   "outputs": [],
   "source": [
    "# Extracting country names from the union_list of transition information\n",
    "country_names = [country_dict['country'] for country_dict in union_list]"
   ]
  },
  {
   "cell_type": "code",
   "execution_count": 17,
   "id": "7bcfd227",
   "metadata": {},
   "outputs": [],
   "source": [
    "# Filtering the World Development Indicators DataFrame to include only rows corresponding to countries in the union list\n",
    "df_wdi_2 = df_wdi_1[df_wdi_1['Country Name'].isin(country_names)]"
   ]
  },
  {
   "cell_type": "code",
   "execution_count": 18,
   "id": "fb3c550d",
   "metadata": {},
   "outputs": [
    {
     "name": "stderr",
     "output_type": "stream",
     "text": [
      "/var/folders/jr/yk_drf0n3ys0hbglvhv_fsth0000gn/T/ipykernel_8188/1390409372.py:2: SettingWithCopyWarning: \n",
      "A value is trying to be set on a copy of a slice from a DataFrame\n",
      "\n",
      "See the caveats in the documentation: https://pandas.pydata.org/pandas-docs/stable/user_guide/indexing.html#returning-a-view-versus-a-copy\n",
      "  df_wdi_2.replace({'..': np.nan, '...': np.nan}, inplace=True)\n",
      "/var/folders/jr/yk_drf0n3ys0hbglvhv_fsth0000gn/T/ipykernel_8188/1390409372.py:3: SettingWithCopyWarning: \n",
      "A value is trying to be set on a copy of a slice from a DataFrame\n",
      "\n",
      "See the caveats in the documentation: https://pandas.pydata.org/pandas-docs/stable/user_guide/indexing.html#returning-a-view-versus-a-copy\n",
      "  df_wdi_2.dropna(inplace=True)\n"
     ]
    }
   ],
   "source": [
    "# Replacing string representations of missing values with actual NaN and dropping rows with missing values\n",
    "df_wdi_2.replace({'..': np.nan, '...': np.nan}, inplace=True)\n",
    "df_wdi_2.dropna(inplace=True)"
   ]
  },
  {
   "cell_type": "code",
   "execution_count": 19,
   "id": "472e5f73",
   "metadata": {},
   "outputs": [],
   "source": [
    "# Identifying common indicators across all countries in the filtered WDI DataFrame\n",
    "common_indicators = set(df_wdi_2['Series Name'])"
   ]
  },
  {
   "cell_type": "code",
   "execution_count": 20,
   "id": "86117f3d",
   "metadata": {},
   "outputs": [],
   "source": [
    "# Iterating through countries and finding the intersection of indicators for each country with common indicators\n",
    "for country in df_wdi_2['Country Name'].unique():\n",
    "    country_indicators = set(df_wdi_2[df_wdi_2['Country Name'] == country]['Series Name'])\n",
    "    common_indicators = common_indicators.intersection(country_indicators)"
   ]
  },
  {
   "cell_type": "code",
   "execution_count": 21,
   "id": "8ae252a3",
   "metadata": {},
   "outputs": [],
   "source": [
    "# Filtering the WDI DataFrame to include only rows corresponding to common indicators\n",
    "df_wdi_3 = df_wdi_2[df_wdi_2['Series Name'].isin(common_indicators)]"
   ]
  },
  {
   "cell_type": "code",
   "execution_count": 22,
   "id": "c9389955",
   "metadata": {},
   "outputs": [],
   "source": [
    "# Melting the WDI DataFrame to transform it into a long format\n",
    "df_wdi_melted = df_wdi_3.melt(id_vars=['Country Name', 'Series Name', 'Series Code'], var_name='Year', value_name='Value')"
   ]
  },
  {
   "cell_type": "code",
   "execution_count": 24,
   "id": "441f3360",
   "metadata": {},
   "outputs": [],
   "source": [
    "# Function to create a line plot\n",
    "def line_plot(data, x_column, y_column, color_column, title):\n",
    "    fig = px.line(data, x=x_column, y=y_column, color=color_column, title=title)\n",
    "    fig.update_traces(mode='lines')    \n",
    "    return fig\n",
    "\n",
    "# Function to create a scatter plot\n",
    "def scatter_plot(data, x_column, y_column, color_column, hover_column, animation_column, title, x_label, y_label):\n",
    "    min_value_x = data[x_column].min()\n",
    "    max_value_x = data[x_column].max()\n",
    "    min_value_y = data[y_column].min()\n",
    "    max_value_y = data[y_column].max()\n",
    "    fig = px.scatter(data, x=x_column, y=y_column, color=color_column,\n",
    "                     hover_name=hover_column, animation_frame=animation_column,\n",
    "                     title=title, animation_group=hover_column,\n",
    "                     labels={x_column: x_label, y_column: y_label})\n",
    "    fig.update_traces(marker=dict(size=10))\n",
    "    fig.update_layout(xaxis=dict(range=[min_value_x, max_value_x]), yaxis=dict(range=[min_value_y, max_value_y]))\n",
    "    return fig\n",
    "\n",
    "# Function to create a log-scale scatter plot\n",
    "def log_scatter_plot(data, x_column, y_column, color_column, hover_column, animation_column, title, x_label, y_label):\n",
    "    min_value_x = data[x_column].min()\n",
    "    max_value_x = data[x_column].max()\n",
    "    min_value_y = data[y_column].min()\n",
    "    max_value_y = data[y_column].max()\n",
    "    fig = px.scatter(data, x=x_column, y=y_column, color=color_column,\n",
    "                     hover_name=hover_column, animation_frame=animation_column, log_x=True, log_y=True,\n",
    "                     title=title, animation_group=hover_column,\n",
    "                     labels={x_column: x_label, y_column: y_label})\n",
    "    fig.update_traces(marker=dict(size=10))\n",
    "    fig.update_layout(xaxis=dict(range=np.log10([min_value_x, max_value_x])),\n",
    "                      yaxis=dict(range=np.log10([min_value_y, max_value_y])))\n",
    "    return fig"
   ]
  },
  {
   "cell_type": "code",
   "execution_count": 25,
   "id": "663fe623",
   "metadata": {},
   "outputs": [
    {
     "data": {
      "text/html": [
       "\n",
       "        <iframe\n",
       "            width=\"100%\"\n",
       "            height=\"650\"\n",
       "            src=\"http://127.0.0.1:8050/\"\n",
       "            frameborder=\"0\"\n",
       "            allowfullscreen\n",
       "            \n",
       "        ></iframe>\n",
       "        "
      ],
      "text/plain": [
       "<IPython.lib.display.IFrame at 0x123c50110>"
      ]
     },
     "metadata": {},
     "output_type": "display_data"
    }
   ],
   "source": [
    "# Creating a Dash app instance\n",
    "app = dash.Dash(__name__)\n",
    "\n",
    "# Defining the layout of the Dash app\n",
    "app.layout = html.Div([\n",
    "    # Header and introduction section\n",
    "    html.Div(children='Democracy Backsliding and Analysis', style={'textAlign': 'center', 'fontSize': 24, 'fontWeight': 'bold'}),\n",
    "    dcc.Markdown('''\n",
    "        ## Understanding Democracy Backsliding\n",
    "        In examining democracy backsliding across countries spanning the years 1991 to 2018, \n",
    "        our project relies on democracy metrics sourced from the Varieties of Democracy (V-Dem) dataset, version 13. \n",
    "        A nation is categorized as a democratic backslider under two specific conditions: \n",
    "        firstly, it must have attained a notable level of democracy, and subsequently, \n",
    "        it should undergo significant erosion of democratic institutions. \n",
    "        Our approach to defining a significant level of democracy considers a country to have achieved this status \n",
    "        when meeting criteria such as a Regimes of the World (ROW) measure of equal to or greater than 2, \n",
    "        a Democracy (BMR) score of 1, and a Polity revised combined score equal to or greater than 7. \n",
    "        Similarly, our criteria for democratic decline inclusively encompass countries experiencing a \n",
    "        qualitative rating decline or identified as backsliders by at least two major democracy indices. \n",
    "        This involves a ROW measure of less than 2, a Democracy (BMR) score of 0, and a Polity revised combined score of less than 7. \n",
    "        Based on our approach produces thirteen cases of democratic backsliding since the end of the Cold War.\n",
    "    ''', style={'textAlign': 'justify'}),\n",
    "    \n",
    "    # Table displaying countries and years of democracy backsliding\n",
    "    html.Div([\n",
    "        dash_table.DataTable(\n",
    "            data=df_union_list.to_dict('records'),\n",
    "            columns=[\n",
    "                {'name': 'Country', 'id': 'country'},\n",
    "                {'name': 'Year of Democracy Backsliding', 'id': 'start_year'},\n",
    "            ],\n",
    "            style_table={'height': '800px', 'overflowY': 'auto', 'width': '400px', 'margin': '0px'},\n",
    "            style_cell={'textAlign': 'center'}\n",
    "        )\n",
    "    ], style={'display': 'flex', 'justify-content': 'center', 'margin-bottom': '10px'}),\n",
    "    \n",
    "    # Choropleth map displaying democracy backsliding over time\n",
    "    dcc.Graph(\n",
    "        figure=px.choropleth(\n",
    "            df_union_list,\n",
    "            locations='country',\n",
    "            locationmode='country names',\n",
    "            hover_name='country',\n",
    "            color='start_year',\n",
    "            color_continuous_scale=px.colors.sequential.Plasma,\n",
    "            title='Democracy Consolidation and Backsliding (Year 1991 to 2019)',\n",
    "            labels={'start_year': 'Year of Democracy Backsliding', 'country': 'Country'},\n",
    "        ),\n",
    "        style={'width': '100%', 'height': '800px', 'margin-top': '-350px'}),\n",
    "    \n",
    "    # Introduction to economics analysis section\n",
    "    dcc.Markdown('''\n",
    "        ## Economics Analysis\n",
    "        In order to comprehend the economic context of countries that have undergone democracy backsliding, \n",
    "        this section empowers you to delve into specific economic indicators through insightful graphical representations.\n",
    "        #### Indicator Selection\n",
    "        To tailor your analysis, select from a diverse array of economic indicators available for visualization. \n",
    "        The chosen indicators will be graphically presented, \n",
    "        providing a nuanced understanding of their trends and relationships over time.\n",
    "        #### Graph Types\n",
    "        Choose from various graph types to suit your analytical needs:\n",
    "        - **Line Plot:** Trace the evolution of a single economic indicator over time for selected countries. (Note: Please be aware that only the option in the initial dropdown menu will be chosen.)\n",
    "        - **Scatter Plot:** Investigate the relationship between two chosen economic indicators across countries, with the flexibility of including a time dimension.\n",
    "        - **Scatter Plot (Log):** Similar to the Scatter Plot, but with a logarithmic scale, offering enhanced visibility for a wide range of values.\n",
    "        #### Interactivity\n",
    "        The interactive nature of the graphs allows you to hover over data points, explore specific years, \n",
    "        and discern trends with ease. Analyze the economic landscape of countries that have experienced \n",
    "        democracy backsliding, fostering a comprehensive understanding of their economic trajectories.\n",
    "        Feel empowered to engage with the data, uncover insights, and draw meaningful conclusions about \n",
    "        the economic dimensions intertwined with democracy backsliding.\n",
    "    ''', style={'textAlign': 'justify'}),\n",
    "    \n",
    "    # Dropdowns for selecting graph type and economic indicators\n",
    "    dcc.Dropdown(\n",
    "        id='graph-dropdown',\n",
    "        options=[\n",
    "            {'label': 'Line Plot', 'value': 'Line Plot'},\n",
    "            {'label': 'Scatter Plot', 'value': 'Scatter Plot'},\n",
    "            {'label': 'Scatter Plot (Log)', 'value': 'Scatter Plot (Log)'}\n",
    "        ],\n",
    "        value='Line Plot',\n",
    "        style={'width': '50%', 'margin-top': '10px'}),\n",
    "\n",
    "    dcc.Dropdown(\n",
    "        id='indicator-dropdown-1',\n",
    "        options=[{'label': indicator, 'value': indicator} for indicator in df_wdi_melted['Series Name'].unique()],\n",
    "        value=df_wdi_melted['Series Name'].iloc[0],\n",
    "        style={'width': '50%', 'margin-top': '10px'}\n",
    "    ),\n",
    "    \n",
    "    dcc.Dropdown(\n",
    "        id='indicator-dropdown-2',\n",
    "        options=[{'label': indicator, 'value': indicator} for indicator in df_wdi_melted['Series Name'].unique()],\n",
    "        value=df_wdi_melted['Series Name'].iloc[0],\n",
    "        style={'width': '50%', 'margin-top': '10px'}\n",
    "    ),\n",
    "    \n",
    "    # Graph displaying selected economic indicators\n",
    "    dcc.Graph(id='selected-graph', style={'width': '100%', 'height': '600px'})\n",
    "])\n",
    "\n",
    "# Callback function to update the selected graph based on user inputs\n",
    "@app.callback(\n",
    "    Output('selected-graph', 'figure'),\n",
    "    [Input('graph-dropdown', 'value'),\n",
    "     Input('indicator-dropdown-1', 'value'),\n",
    "     Input('indicator-dropdown-2', 'value')]\n",
    ")\n",
    "def update_graph(selected_graph, selected_indicator_1, selected_indicator_2):\n",
    "    # Filtering data for the selected economic indicators\n",
    "    df_indicator_1 = df_wdi_melted[df_wdi_melted['Series Name'] == selected_indicator_1]\n",
    "    df_indicator_2 = df_wdi_melted[df_wdi_melted['Series Name'] == selected_indicator_2]\n",
    "    \n",
    "    # Merging data based on common columns (Country Name and Year)\n",
    "    merged_data = pd.merge(df_indicator_1, df_indicator_2, on=['Country Name', 'Year'])\n",
    "    \n",
    "    # Choosing the appropriate plot based on user selection\n",
    "    if selected_graph == 'Line Plot':\n",
    "        return line_plot(merged_data, 'Year', 'Value_x', 'Country Name', f'{selected_indicator_1} Over Time')\n",
    "\n",
    "    elif selected_graph == 'Scatter Plot':\n",
    "        return scatter_plot(merged_data, 'Value_x', 'Value_y', 'Country Name', 'Country Name', 'Year',\n",
    "                            f'{selected_indicator_1} vs. {selected_indicator_2}', selected_indicator_1, selected_indicator_2)\n",
    "\n",
    "    elif selected_graph == 'Scatter Plot (Log)':\n",
    "        return log_scatter_plot(merged_data, 'Value_x', 'Value_y', 'Country Name', 'Country Name', 'Year',\n",
    "                                f'{selected_indicator_1} vs. {selected_indicator_2} (Log Scale)', selected_indicator_1, selected_indicator_2)\n",
    "\n",
    "# Running the Dash app\n",
    "if __name__ == '__main__':\n",
    "    app.run_server(debug=True, use_reloader=True, open_browser=True)"
   ]
  },
  {
   "cell_type": "markdown",
   "id": "6f94caf2",
   "metadata": {},
   "source": [
    "###### Conclusion\n",
    "\n",
    "In conclusion, our Python project provides a comprehensive economic analysis of countries that have experienced democracy backsliding, spanning the years 1991 to 2018. Leveraging data from the V-Dem dataset, our approach defines backsliding based on multiple criteria, including Regimes of the World measures, Democracy (BMR) scores, and Polity revised combined scores. The identification of countries experiencing significant erosion of democratic institutions, as well as a detailed exploration of economic indicators through World Development Indicators, offers valuable insights into the complex interplay between political and economic factors.\n",
    "\n",
    "The visualization tools incorporated into our Dash app, such as choropleth maps, line plots, and scatter plots, enhance the user's ability to understand and interpret the data. The project not only highlights the countries that have undergone democracy backsliding but also allows users to explore the economic context of these transitions.\n",
    "\n",
    "This Python project showcases the power of data analysis and visualization in understanding complex socio-political phenomena. The combination of rigorous data processing, insightful criteria definition, and dynamic visualization tools provides a robust platform for researchers, policymakers, and the public to delve into the nuanced dynamics of democracy and its intersections with economic indicators.\n"
   ]
  }
 ],
 "metadata": {
  "kernelspec": {
   "display_name": "Python 3 (ipykernel)",
   "language": "python",
   "name": "python3"
  },
  "language_info": {
   "codemirror_mode": {
    "name": "ipython",
    "version": 3
   },
   "file_extension": ".py",
   "mimetype": "text/x-python",
   "name": "python",
   "nbconvert_exporter": "python",
   "pygments_lexer": "ipython3",
   "version": "3.11.4"
  }
 },
 "nbformat": 4,
 "nbformat_minor": 5
}
