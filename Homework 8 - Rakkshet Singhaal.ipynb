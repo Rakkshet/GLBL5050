{
 "cells": [
  {
   "cell_type": "markdown",
   "id": "cf08b43a",
   "metadata": {},
   "source": [
    "## RAND Database of Worldwide Terrorism Incidents\n",
    "\n",
    "The RAND Database of Worldwide Terrorism Incidents (RDWTI) is a compilation of data from 1968 through 2009.\n",
    "\n",
    "This legacy RAND project developed and maintained a database of terrorism incidents stretching back to 1968, which provides comprehensive information on international and domestic terrorism. Over the years, many public and private sponsors have contributed to the maintenance of the RDWTI and its predecessors, the RAND Terrorism Chronology and the RAND-MIPT Terrorism Incident Database.\n",
    "\n",
    "The data can be found here: https://www.rand.org/nsrd/projects/terrorism-incidents.html\n",
    "\n",
    "With over 40,000 incidents of terrorism coded and detailed, the quality and completeness of the RDWTI was remarkable for its time. RAND staff conducted extensive research on candidate terrorist attacks, drawing on staff with regional expertise, relevant language skills, and in-country field work experience."
   ]
  },
  {
   "cell_type": "markdown",
   "id": "8bd8015c",
   "metadata": {},
   "source": [
    "1. Please navigate to this website and download the data\n",
    "2. Save the data as a csv file\n",
    "3. Read the csv file into a pandas dataframe."
   ]
  },
  {
   "cell_type": "code",
   "execution_count": 1,
   "id": "3f8df837",
   "metadata": {},
   "outputs": [],
   "source": [
    "import pandas as pd"
   ]
  },
  {
   "cell_type": "code",
   "execution_count": 2,
   "id": "b10553e2",
   "metadata": {},
   "outputs": [],
   "source": [
    "df_RAND = pd.read_csv(\"RAND_Database.csv\", encoding='latin-1')"
   ]
  },
  {
   "cell_type": "markdown",
   "id": "4c94c3ca",
   "metadata": {},
   "source": [
    "## Pandas groupby and get_group\n",
    "Please review pandas groupby and get_group methods here: https://www.geeksforgeeks.org/python-pandas-dataframe-groupby/\n",
    "\n",
    "These methods will be very helpful in completing your homeword!\n"
   ]
  },
  {
   "cell_type": "markdown",
   "id": "799106b5",
   "metadata": {},
   "source": [
    "Part 1: Please use the data, and provide evidence to answer the questions below. Please use visualizations/plots where appropriate to tell convey your evidence more completely."
   ]
  },
  {
   "cell_type": "markdown",
   "id": "cb6d54c9",
   "metadata": {},
   "source": [
    "1. What are the top 5 countries where terrorism incidents occured?"
   ]
  },
  {
   "cell_type": "code",
   "execution_count": 3,
   "id": "ff250b92",
   "metadata": {},
   "outputs": [
    {
     "data": {
      "text/plain": [
       "Index(['Iraq', 'West Bank/Gaza', 'Afghanistan', 'Thailand', 'Colombia'], dtype='object')"
      ]
     },
     "execution_count": 3,
     "metadata": {},
     "output_type": "execute_result"
    }
   ],
   "source": [
    "top5_countries = df_RAND['Country'].value_counts().head(5).index\n",
    "top5_countries"
   ]
  },
  {
   "cell_type": "markdown",
   "id": "1f7efecf",
   "metadata": {},
   "source": [
    "\n",
    "2. In those top 5 countries, what were the common perpetrators, weapons and objectives?"
   ]
  },
  {
   "cell_type": "code",
   "execution_count": 4,
   "id": "69bb3043",
   "metadata": {},
   "outputs": [
    {
     "data": {
      "text/plain": [
       "Unknown                                          14694\n",
       "Taliban                                            957\n",
       "Revolutionary Armed Forces of Colombia (FARC)      608\n",
       "Hamas (Islamic Resistance Movement)                453\n",
       "National Liberation Army of Colombia (ELN)         273\n",
       "Tanzim QaÕidat al-Jihad fi Bilad al-Rafidayn       208\n",
       "Name: Perpetrator, dtype: int64"
      ]
     },
     "execution_count": 4,
     "metadata": {},
     "output_type": "execute_result"
    }
   ],
   "source": [
    "df_top5 = df_RAND[df_RAND['Country'].isin(top5_countries)]\n",
    "common_prep = df_top5['Perpetrator'].value_counts().head(6)\n",
    "common_prep"
   ]
  },
  {
   "cell_type": "code",
   "execution_count": 5,
   "id": "614bd9c4",
   "metadata": {},
   "outputs": [
    {
     "data": {
      "text/plain": [
       "Explosives                    8340\n",
       "Firearms                      7580\n",
       "Unknown                       1216\n",
       "Remote-detonated explosive     898\n",
       "Fire or Firebomb               460\n",
       "Name: Weapon, dtype: int64"
      ]
     },
     "execution_count": 5,
     "metadata": {},
     "output_type": "execute_result"
    }
   ],
   "source": [
    "weapons = df_top5['Weapon'].value_counts().head(5)\n",
    "weapons"
   ]
  },
  {
   "cell_type": "markdown",
   "id": "19cd5297",
   "metadata": {},
   "source": [
    "3. What were the top 10 most deadly attacks?"
   ]
  },
  {
   "cell_type": "code",
   "execution_count": 6,
   "id": "9e6e7d00",
   "metadata": {
    "scrolled": true
   },
   "outputs": [
    {
     "data": {
      "text/html": [
       "<div>\n",
       "<style scoped>\n",
       "    .dataframe tbody tr th:only-of-type {\n",
       "        vertical-align: middle;\n",
       "    }\n",
       "\n",
       "    .dataframe tbody tr th {\n",
       "        vertical-align: top;\n",
       "    }\n",
       "\n",
       "    .dataframe thead th {\n",
       "        text-align: right;\n",
       "    }\n",
       "</style>\n",
       "<table border=\"1\" class=\"dataframe\">\n",
       "  <thead>\n",
       "    <tr style=\"text-align: right;\">\n",
       "      <th></th>\n",
       "      <th>Date</th>\n",
       "      <th>City</th>\n",
       "      <th>Country</th>\n",
       "      <th>Perpetrator</th>\n",
       "      <th>Weapon</th>\n",
       "      <th>Injuries</th>\n",
       "      <th>Fatalities</th>\n",
       "      <th>Description</th>\n",
       "    </tr>\n",
       "  </thead>\n",
       "  <tbody>\n",
       "    <tr>\n",
       "      <th>12718</th>\n",
       "      <td>11-Sep-01</td>\n",
       "      <td>New York City</td>\n",
       "      <td>United States</td>\n",
       "      <td>Al Qaeda</td>\n",
       "      <td>Other</td>\n",
       "      <td>2261</td>\n",
       "      <td>2749</td>\n",
       "      <td>Hijacked American Airlines Flight 11 from Bost...</td>\n",
       "    </tr>\n",
       "    <tr>\n",
       "      <th>35403</th>\n",
       "      <td>14-Aug-07</td>\n",
       "      <td>Sinjar</td>\n",
       "      <td>Iraq</td>\n",
       "      <td>Unknown</td>\n",
       "      <td>Explosives</td>\n",
       "      <td>1500</td>\n",
       "      <td>500</td>\n",
       "      <td>Four truck bombs hit a poor rural area near th...</td>\n",
       "    </tr>\n",
       "    <tr>\n",
       "      <th>8062</th>\n",
       "      <td>11-Jan-98</td>\n",
       "      <td>NaN</td>\n",
       "      <td>Algeria</td>\n",
       "      <td>Armed Islamic Group (GIA)</td>\n",
       "      <td>Firearms</td>\n",
       "      <td>0</td>\n",
       "      <td>400</td>\n",
       "      <td>A group of 100 armed men opened fire on civili...</td>\n",
       "    </tr>\n",
       "    <tr>\n",
       "      <th>19357</th>\n",
       "      <td>01-Sep-04</td>\n",
       "      <td>Beslan</td>\n",
       "      <td>Russia</td>\n",
       "      <td>Riyad us-Saliheyn Martyrs' Brigade</td>\n",
       "      <td>Firearms</td>\n",
       "      <td>727</td>\n",
       "      <td>331</td>\n",
       "      <td>A group of thirty to thirty-five (sources vari...</td>\n",
       "    </tr>\n",
       "    <tr>\n",
       "      <th>4060</th>\n",
       "      <td>23-Jun-85</td>\n",
       "      <td>Montreal</td>\n",
       "      <td>Canada</td>\n",
       "      <td>Other</td>\n",
       "      <td>Explosives</td>\n",
       "      <td>0</td>\n",
       "      <td>329</td>\n",
       "      <td>CANADA.  An Air-India Boeing 747 en route from...</td>\n",
       "    </tr>\n",
       "    <tr>\n",
       "      <th>6796</th>\n",
       "      <td>12-Mar-93</td>\n",
       "      <td>Bombay</td>\n",
       "      <td>India</td>\n",
       "      <td>Other</td>\n",
       "      <td>Explosives</td>\n",
       "      <td>1200</td>\n",
       "      <td>317</td>\n",
       "      <td>INDIA.  Within three hours in the city of Bomb...</td>\n",
       "    </tr>\n",
       "    <tr>\n",
       "      <th>5393</th>\n",
       "      <td>21-Dec-88</td>\n",
       "      <td>Lockerbie</td>\n",
       "      <td>United Kingdom</td>\n",
       "      <td>Other</td>\n",
       "      <td>Explosives</td>\n",
       "      <td>12</td>\n",
       "      <td>270</td>\n",
       "      <td>UNITED KINGDOM.  SCOTLAND.  Pan Am Flight 103,...</td>\n",
       "    </tr>\n",
       "    <tr>\n",
       "      <th>12535</th>\n",
       "      <td>11-Aug-01</td>\n",
       "      <td>Luanda</td>\n",
       "      <td>Angola</td>\n",
       "      <td>National Union for the Total Independence of A...</td>\n",
       "      <td>Remote-detonated explosive</td>\n",
       "      <td>165</td>\n",
       "      <td>252</td>\n",
       "      <td>A train carrying refugees was derailed by an e...</td>\n",
       "    </tr>\n",
       "    <tr>\n",
       "      <th>3466</th>\n",
       "      <td>23-Oct-83</td>\n",
       "      <td>Beirut</td>\n",
       "      <td>Lebanon</td>\n",
       "      <td>Hizballah</td>\n",
       "      <td>Explosives</td>\n",
       "      <td>81</td>\n",
       "      <td>241</td>\n",
       "      <td>LEBANON.  The buildings housing the U.S. Marin...</td>\n",
       "    </tr>\n",
       "    <tr>\n",
       "      <th>18121</th>\n",
       "      <td>21-Feb-04</td>\n",
       "      <td>Lira</td>\n",
       "      <td>Uganda</td>\n",
       "      <td>Lord's Resistance Army (LRA)</td>\n",
       "      <td>Fire or Firebomb</td>\n",
       "      <td>60</td>\n",
       "      <td>239</td>\n",
       "      <td>The Lords Resistance Army (LRA) killed more th...</td>\n",
       "    </tr>\n",
       "  </tbody>\n",
       "</table>\n",
       "</div>"
      ],
      "text/plain": [
       "            Date           City         Country  \\\n",
       "12718  11-Sep-01  New York City   United States   \n",
       "35403  14-Aug-07         Sinjar            Iraq   \n",
       "8062   11-Jan-98            NaN         Algeria   \n",
       "19357  01-Sep-04         Beslan          Russia   \n",
       "4060   23-Jun-85       Montreal          Canada   \n",
       "6796   12-Mar-93         Bombay           India   \n",
       "5393   21-Dec-88      Lockerbie  United Kingdom   \n",
       "12535  11-Aug-01         Luanda          Angola   \n",
       "3466   23-Oct-83         Beirut         Lebanon   \n",
       "18121  21-Feb-04           Lira          Uganda   \n",
       "\n",
       "                                             Perpetrator  \\\n",
       "12718                                           Al Qaeda   \n",
       "35403                                            Unknown   \n",
       "8062                           Armed Islamic Group (GIA)   \n",
       "19357                 Riyad us-Saliheyn Martyrs' Brigade   \n",
       "4060                                               Other   \n",
       "6796                                               Other   \n",
       "5393                                               Other   \n",
       "12535  National Union for the Total Independence of A...   \n",
       "3466                                           Hizballah   \n",
       "18121                       Lord's Resistance Army (LRA)   \n",
       "\n",
       "                           Weapon  Injuries  Fatalities  \\\n",
       "12718                       Other      2261        2749   \n",
       "35403                  Explosives      1500         500   \n",
       "8062                     Firearms         0         400   \n",
       "19357                    Firearms       727         331   \n",
       "4060                   Explosives         0         329   \n",
       "6796                   Explosives      1200         317   \n",
       "5393                   Explosives        12         270   \n",
       "12535  Remote-detonated explosive       165         252   \n",
       "3466                   Explosives        81         241   \n",
       "18121            Fire or Firebomb        60         239   \n",
       "\n",
       "                                             Description  \n",
       "12718  Hijacked American Airlines Flight 11 from Bost...  \n",
       "35403  Four truck bombs hit a poor rural area near th...  \n",
       "8062   A group of 100 armed men opened fire on civili...  \n",
       "19357  A group of thirty to thirty-five (sources vari...  \n",
       "4060   CANADA.  An Air-India Boeing 747 en route from...  \n",
       "6796   INDIA.  Within three hours in the city of Bomb...  \n",
       "5393   UNITED KINGDOM.  SCOTLAND.  Pan Am Flight 103,...  \n",
       "12535  A train carrying refugees was derailed by an e...  \n",
       "3466   LEBANON.  The buildings housing the U.S. Marin...  \n",
       "18121  The Lords Resistance Army (LRA) killed more th...  "
      ]
     },
     "execution_count": 6,
     "metadata": {},
     "output_type": "execute_result"
    }
   ],
   "source": [
    "top10_fatalities = df_RAND.nlargest(10, 'Fatalities')\n",
    "top10_fatalities"
   ]
  },
  {
   "cell_type": "markdown",
   "id": "c683102c",
   "metadata": {},
   "source": [
    "\n",
    "4. How often was \"kidnapping\" or some derviation of the word mentioned in all of the incident reports?"
   ]
  },
  {
   "cell_type": "code",
   "execution_count": 7,
   "id": "62448ff5",
   "metadata": {},
   "outputs": [
    {
     "data": {
      "text/plain": [
       "2880"
      ]
     },
     "execution_count": 7,
     "metadata": {},
     "output_type": "execute_result"
    }
   ],
   "source": [
    "kidnapping_count = len(df_RAND[df_RAND['Description'].str.contains(r'kidnap|kidnapped|kidnapper|kidnapping|kidnappee|abduct|abduction|traffick|trafficking', case=False, na=False, regex=True)])\n",
    "kidnapping_count"
   ]
  },
  {
   "cell_type": "markdown",
   "id": "37ff92a4",
   "metadata": {},
   "source": [
    "5. When kindapping was mentioned, how often did the incident result in fatalities?"
   ]
  },
  {
   "cell_type": "code",
   "execution_count": 8,
   "id": "230e74f3",
   "metadata": {},
   "outputs": [
    {
     "data": {
      "text/plain": [
       "939"
      ]
     },
     "execution_count": 8,
     "metadata": {},
     "output_type": "execute_result"
    }
   ],
   "source": [
    "fatalities_kidnapping = len(df_RAND.query('Description.str.contains(r\"kidnap|kidnapped|kidnapper|kidnapping|kidnappee|abduct|abduction|traffick|trafficking\", case=False, na=False, regex=True) and Fatalities > 0'))\n",
    "fatalities_kidnapping"
   ]
  },
  {
   "cell_type": "markdown",
   "id": "7bf0d137",
   "metadata": {},
   "source": [
    "6. When kidnapping was mentioned, how often was \"ransom\" mentioned?"
   ]
  },
  {
   "cell_type": "code",
   "execution_count": 9,
   "id": "c5b6f211",
   "metadata": {},
   "outputs": [
    {
     "data": {
      "text/plain": [
       "158"
      ]
     },
     "execution_count": 9,
     "metadata": {},
     "output_type": "execute_result"
    }
   ],
   "source": [
    "ransom_kidnapping = len(df_RAND.query('Description.str.contains(r\"kidnap|kidnapped|kidnapper|kidnapping|kidnappee|abduct|abduction|traffick|trafficking\", case=False, na=False, regex=True) and Description.str.contains(\"ransom\", case=False, na=False, regex=True)'))\n",
    "ransom_kidnapping"
   ]
  },
  {
   "cell_type": "markdown",
   "id": "eb333607",
   "metadata": {},
   "source": [
    "7. In all of the incidents, how often were \"students\" mentioned as perpertators?"
   ]
  },
  {
   "cell_type": "code",
   "execution_count": 10,
   "id": "2ceb70f4",
   "metadata": {},
   "outputs": [
    {
     "data": {
      "text/plain": [
       "452"
      ]
     },
     "execution_count": 10,
     "metadata": {},
     "output_type": "execute_result"
    }
   ],
   "source": [
    "student_perp = len(df_RAND.query('Description.str.contains(\"student\", case=False, na=False, regex=True)'))\n",
    "student_perp"
   ]
  },
  {
   "cell_type": "markdown",
   "id": "2a85d19d",
   "metadata": {},
   "source": [
    "\n",
    "8. What was the first incident where a \"suicide bomber\" was mentioned?"
   ]
  },
  {
   "cell_type": "code",
   "execution_count": 11,
   "id": "0cb97597",
   "metadata": {},
   "outputs": [
    {
     "data": {
      "text/html": [
       "<div>\n",
       "<style scoped>\n",
       "    .dataframe tbody tr th:only-of-type {\n",
       "        vertical-align: middle;\n",
       "    }\n",
       "\n",
       "    .dataframe tbody tr th {\n",
       "        vertical-align: top;\n",
       "    }\n",
       "\n",
       "    .dataframe thead th {\n",
       "        text-align: right;\n",
       "    }\n",
       "</style>\n",
       "<table border=\"1\" class=\"dataframe\">\n",
       "  <thead>\n",
       "    <tr style=\"text-align: right;\">\n",
       "      <th></th>\n",
       "      <th>Date</th>\n",
       "      <th>City</th>\n",
       "      <th>Country</th>\n",
       "      <th>Perpetrator</th>\n",
       "      <th>Weapon</th>\n",
       "      <th>Injuries</th>\n",
       "      <th>Fatalities</th>\n",
       "      <th>Description</th>\n",
       "    </tr>\n",
       "  </thead>\n",
       "  <tbody>\n",
       "    <tr>\n",
       "      <th>3889</th>\n",
       "      <td>06-Feb-85</td>\n",
       "      <td>NaN</td>\n",
       "      <td>Lebanon</td>\n",
       "      <td>Unknown</td>\n",
       "      <td>Explosives</td>\n",
       "      <td>10</td>\n",
       "      <td>0</td>\n",
       "      <td>LEBANON.  Ten Israeli soldiers were wounded in...</td>\n",
       "    </tr>\n",
       "  </tbody>\n",
       "</table>\n",
       "</div>"
      ],
      "text/plain": [
       "           Date City  Country Perpetrator      Weapon  Injuries  Fatalities  \\\n",
       "3889  06-Feb-85  NaN  Lebanon     Unknown  Explosives        10           0   \n",
       "\n",
       "                                            Description  \n",
       "3889  LEBANON.  Ten Israeli soldiers were wounded in...  "
      ]
     },
     "execution_count": 11,
     "metadata": {},
     "output_type": "execute_result"
    }
   ],
   "source": [
    "suicide_bomber = df_RAND.query('Description.str.contains(\"suicide bomber\", case=False, na=False, regex=True)').head(1)\n",
    "suicide_bomber"
   ]
  },
  {
   "cell_type": "markdown",
   "id": "f5dff1d9",
   "metadata": {},
   "source": [
    "9. How often were \"priests\" or \"clergy\" mentioned?"
   ]
  },
  {
   "cell_type": "code",
   "execution_count": 12,
   "id": "1359a9a0",
   "metadata": {},
   "outputs": [
    {
     "data": {
      "text/plain": [
       "23"
      ]
     },
     "execution_count": 12,
     "metadata": {},
     "output_type": "execute_result"
    }
   ],
   "source": [
    "priests_clergy = len(df_RAND.query('Description.str.contains(r\"priests|clergy\", case=False, na=False, regex=True)'))\n",
    "priests_clergy"
   ]
  },
  {
   "cell_type": "markdown",
   "id": "c5e336c0",
   "metadata": {},
   "source": [
    "10. Name all the incidents where a woman or women were identified as terrorists. Not the victims, the terrorists."
   ]
  },
  {
   "cell_type": "code",
   "execution_count": 13,
   "id": "097fb072",
   "metadata": {},
   "outputs": [
    {
     "name": "stdout",
     "output_type": "stream",
     "text": [
      "Requirement already satisfied: spacy in /Users/rakkshetsinghaal/anaconda3/lib/python3.11/site-packages (3.7.2)\n",
      "Requirement already satisfied: spacy-legacy<3.1.0,>=3.0.11 in /Users/rakkshetsinghaal/anaconda3/lib/python3.11/site-packages (from spacy) (3.0.12)\n",
      "Requirement already satisfied: spacy-loggers<2.0.0,>=1.0.0 in /Users/rakkshetsinghaal/anaconda3/lib/python3.11/site-packages (from spacy) (1.0.5)\n",
      "Requirement already satisfied: murmurhash<1.1.0,>=0.28.0 in /Users/rakkshetsinghaal/anaconda3/lib/python3.11/site-packages (from spacy) (1.0.10)\n",
      "Requirement already satisfied: cymem<2.1.0,>=2.0.2 in /Users/rakkshetsinghaal/anaconda3/lib/python3.11/site-packages (from spacy) (2.0.8)\n",
      "Requirement already satisfied: preshed<3.1.0,>=3.0.2 in /Users/rakkshetsinghaal/anaconda3/lib/python3.11/site-packages (from spacy) (3.0.9)\n",
      "Requirement already satisfied: thinc<8.3.0,>=8.1.8 in /Users/rakkshetsinghaal/anaconda3/lib/python3.11/site-packages (from spacy) (8.2.1)\n",
      "Requirement already satisfied: wasabi<1.2.0,>=0.9.1 in /Users/rakkshetsinghaal/anaconda3/lib/python3.11/site-packages (from spacy) (1.1.2)\n",
      "Requirement already satisfied: srsly<3.0.0,>=2.4.3 in /Users/rakkshetsinghaal/anaconda3/lib/python3.11/site-packages (from spacy) (2.4.8)\n",
      "Requirement already satisfied: catalogue<2.1.0,>=2.0.6 in /Users/rakkshetsinghaal/anaconda3/lib/python3.11/site-packages (from spacy) (2.0.10)\n",
      "Requirement already satisfied: weasel<0.4.0,>=0.1.0 in /Users/rakkshetsinghaal/anaconda3/lib/python3.11/site-packages (from spacy) (0.3.3)\n",
      "Requirement already satisfied: typer<0.10.0,>=0.3.0 in /Users/rakkshetsinghaal/anaconda3/lib/python3.11/site-packages (from spacy) (0.9.0)\n",
      "Requirement already satisfied: smart-open<7.0.0,>=5.2.1 in /Users/rakkshetsinghaal/anaconda3/lib/python3.11/site-packages (from spacy) (5.2.1)\n",
      "Requirement already satisfied: tqdm<5.0.0,>=4.38.0 in /Users/rakkshetsinghaal/anaconda3/lib/python3.11/site-packages (from spacy) (4.65.0)\n",
      "Requirement already satisfied: requests<3.0.0,>=2.13.0 in /Users/rakkshetsinghaal/anaconda3/lib/python3.11/site-packages (from spacy) (2.31.0)\n",
      "Requirement already satisfied: pydantic!=1.8,!=1.8.1,<3.0.0,>=1.7.4 in /Users/rakkshetsinghaal/anaconda3/lib/python3.11/site-packages (from spacy) (2.4.2)\n",
      "Requirement already satisfied: jinja2 in /Users/rakkshetsinghaal/anaconda3/lib/python3.11/site-packages (from spacy) (3.1.2)\n",
      "Requirement already satisfied: setuptools in /Users/rakkshetsinghaal/anaconda3/lib/python3.11/site-packages (from spacy) (68.0.0)\n",
      "Requirement already satisfied: packaging>=20.0 in /Users/rakkshetsinghaal/anaconda3/lib/python3.11/site-packages (from spacy) (23.0)\n",
      "Requirement already satisfied: langcodes<4.0.0,>=3.2.0 in /Users/rakkshetsinghaal/anaconda3/lib/python3.11/site-packages (from spacy) (3.3.0)\n",
      "Requirement already satisfied: numpy>=1.19.0 in /Users/rakkshetsinghaal/anaconda3/lib/python3.11/site-packages (from spacy) (1.24.3)\n",
      "Requirement already satisfied: annotated-types>=0.4.0 in /Users/rakkshetsinghaal/anaconda3/lib/python3.11/site-packages (from pydantic!=1.8,!=1.8.1,<3.0.0,>=1.7.4->spacy) (0.6.0)\n",
      "Requirement already satisfied: pydantic-core==2.10.1 in /Users/rakkshetsinghaal/anaconda3/lib/python3.11/site-packages (from pydantic!=1.8,!=1.8.1,<3.0.0,>=1.7.4->spacy) (2.10.1)\n",
      "Requirement already satisfied: typing-extensions>=4.6.1 in /Users/rakkshetsinghaal/anaconda3/lib/python3.11/site-packages (from pydantic!=1.8,!=1.8.1,<3.0.0,>=1.7.4->spacy) (4.7.1)\n",
      "Requirement already satisfied: charset-normalizer<4,>=2 in /Users/rakkshetsinghaal/anaconda3/lib/python3.11/site-packages (from requests<3.0.0,>=2.13.0->spacy) (2.0.4)\n",
      "Requirement already satisfied: idna<4,>=2.5 in /Users/rakkshetsinghaal/anaconda3/lib/python3.11/site-packages (from requests<3.0.0,>=2.13.0->spacy) (3.4)\n",
      "Requirement already satisfied: urllib3<3,>=1.21.1 in /Users/rakkshetsinghaal/anaconda3/lib/python3.11/site-packages (from requests<3.0.0,>=2.13.0->spacy) (1.26.16)\n",
      "Requirement already satisfied: certifi>=2017.4.17 in /Users/rakkshetsinghaal/anaconda3/lib/python3.11/site-packages (from requests<3.0.0,>=2.13.0->spacy) (2023.7.22)\n",
      "Requirement already satisfied: blis<0.8.0,>=0.7.8 in /Users/rakkshetsinghaal/anaconda3/lib/python3.11/site-packages (from thinc<8.3.0,>=8.1.8->spacy) (0.7.11)\n",
      "Requirement already satisfied: confection<1.0.0,>=0.0.1 in /Users/rakkshetsinghaal/anaconda3/lib/python3.11/site-packages (from thinc<8.3.0,>=8.1.8->spacy) (0.1.3)\n",
      "Requirement already satisfied: click<9.0.0,>=7.1.1 in /Users/rakkshetsinghaal/anaconda3/lib/python3.11/site-packages (from typer<0.10.0,>=0.3.0->spacy) (8.0.4)\n",
      "Requirement already satisfied: cloudpathlib<0.17.0,>=0.7.0 in /Users/rakkshetsinghaal/anaconda3/lib/python3.11/site-packages (from weasel<0.4.0,>=0.1.0->spacy) (0.16.0)\n",
      "Requirement already satisfied: MarkupSafe>=2.0 in /Users/rakkshetsinghaal/anaconda3/lib/python3.11/site-packages (from jinja2->spacy) (2.1.1)\n"
     ]
    }
   ],
   "source": [
    "!pip install spacy"
   ]
  },
  {
   "cell_type": "code",
   "execution_count": 14,
   "id": "3b86a07a",
   "metadata": {},
   "outputs": [
    {
     "data": {
      "text/html": [
       "<div>\n",
       "<style scoped>\n",
       "    .dataframe tbody tr th:only-of-type {\n",
       "        vertical-align: middle;\n",
       "    }\n",
       "\n",
       "    .dataframe tbody tr th {\n",
       "        vertical-align: top;\n",
       "    }\n",
       "\n",
       "    .dataframe thead th {\n",
       "        text-align: right;\n",
       "    }\n",
       "</style>\n",
       "<table border=\"1\" class=\"dataframe\">\n",
       "  <thead>\n",
       "    <tr style=\"text-align: right;\">\n",
       "      <th></th>\n",
       "      <th>Date</th>\n",
       "      <th>City</th>\n",
       "      <th>Country</th>\n",
       "      <th>Perpetrator</th>\n",
       "      <th>Weapon</th>\n",
       "      <th>Injuries</th>\n",
       "      <th>Fatalities</th>\n",
       "      <th>Description</th>\n",
       "      <th>IsFemaleTerrorist</th>\n",
       "    </tr>\n",
       "  </thead>\n",
       "  <tbody>\n",
       "    <tr>\n",
       "      <th>1793</th>\n",
       "      <td>13-Oct-77</td>\n",
       "      <td>NaN</td>\n",
       "      <td>Spain</td>\n",
       "      <td>Popular Front for the Liberation of Palestine ...</td>\n",
       "      <td>Unknown</td>\n",
       "      <td>0</td>\n",
       "      <td>1</td>\n",
       "      <td>SPAIN.  A Lufthansa 737 Boeing jet was hijacke...</td>\n",
       "      <td>True</td>\n",
       "    </tr>\n",
       "    <tr>\n",
       "      <th>3309</th>\n",
       "      <td>08-Mar-83</td>\n",
       "      <td>Bonn</td>\n",
       "      <td>Federal Republic of Germany</td>\n",
       "      <td>Other</td>\n",
       "      <td>Explosives</td>\n",
       "      <td>0</td>\n",
       "      <td>0</td>\n",
       "      <td>FEDERAL REPUBLIC OF GERMANY.  No one was injur...</td>\n",
       "      <td>True</td>\n",
       "    </tr>\n",
       "    <tr>\n",
       "      <th>5302</th>\n",
       "      <td>19-Aug-88</td>\n",
       "      <td>NaN</td>\n",
       "      <td>Lebanon</td>\n",
       "      <td>Other</td>\n",
       "      <td>Explosives</td>\n",
       "      <td>0</td>\n",
       "      <td>1</td>\n",
       "      <td>LEBANON.  A suicide attack on an Israeli convo...</td>\n",
       "      <td>True</td>\n",
       "    </tr>\n",
       "    <tr>\n",
       "      <th>6892</th>\n",
       "      <td>06-Jul-93</td>\n",
       "      <td>Jerusalem</td>\n",
       "      <td>Israel</td>\n",
       "      <td>Other</td>\n",
       "      <td>Knives &amp; sharp objects</td>\n",
       "      <td>1</td>\n",
       "      <td>0</td>\n",
       "      <td>ISRAEL.  A suspected Palestinian terrorist sta...</td>\n",
       "      <td>True</td>\n",
       "    </tr>\n",
       "    <tr>\n",
       "      <th>17732</th>\n",
       "      <td>05-Dec-03</td>\n",
       "      <td>Yessentuki</td>\n",
       "      <td>Russia</td>\n",
       "      <td>Black Widows</td>\n",
       "      <td>Explosives</td>\n",
       "      <td>165</td>\n",
       "      <td>46</td>\n",
       "      <td>A suicide bomber killed at least forty-six peo...</td>\n",
       "      <td>True</td>\n",
       "    </tr>\n",
       "    <tr>\n",
       "      <th>19694</th>\n",
       "      <td>14-Oct-04</td>\n",
       "      <td>Najaf</td>\n",
       "      <td>Iraq</td>\n",
       "      <td>Unknown</td>\n",
       "      <td>Explosives</td>\n",
       "      <td>0</td>\n",
       "      <td>0</td>\n",
       "      <td>Iraqi police arrested a woman wearing an explo...</td>\n",
       "      <td>True</td>\n",
       "    </tr>\n",
       "    <tr>\n",
       "      <th>37708</th>\n",
       "      <td>21-Apr-08</td>\n",
       "      <td>Baqubah</td>\n",
       "      <td>Iraq</td>\n",
       "      <td>Al Qaeda</td>\n",
       "      <td>Explosives</td>\n",
       "      <td>4</td>\n",
       "      <td>3</td>\n",
       "      <td>A female suicide attacker detonated her explos...</td>\n",
       "      <td>True</td>\n",
       "    </tr>\n",
       "    <tr>\n",
       "      <th>37773</th>\n",
       "      <td>29-Apr-08</td>\n",
       "      <td>Baqubah</td>\n",
       "      <td>Iraq</td>\n",
       "      <td>Al Qaeda</td>\n",
       "      <td>Explosives</td>\n",
       "      <td>5</td>\n",
       "      <td>1</td>\n",
       "      <td>One member of Al-Sahwa forces was killed and a...</td>\n",
       "      <td>True</td>\n",
       "    </tr>\n",
       "    <tr>\n",
       "      <th>37916</th>\n",
       "      <td>17-May-08</td>\n",
       "      <td>Baqubah</td>\n",
       "      <td>Iraq</td>\n",
       "      <td>Al Qaeda</td>\n",
       "      <td>Explosives</td>\n",
       "      <td>15</td>\n",
       "      <td>1</td>\n",
       "      <td>A female suicide attacker detonated her explos...</td>\n",
       "      <td>True</td>\n",
       "    </tr>\n",
       "    <tr>\n",
       "      <th>37956</th>\n",
       "      <td>21-May-08</td>\n",
       "      <td>Rutba</td>\n",
       "      <td>Iraq</td>\n",
       "      <td>Al Qaeda</td>\n",
       "      <td>Explosives</td>\n",
       "      <td>3</td>\n",
       "      <td>5</td>\n",
       "      <td>A female suicide attacker detonated her explos...</td>\n",
       "      <td>True</td>\n",
       "    </tr>\n",
       "  </tbody>\n",
       "</table>\n",
       "</div>"
      ],
      "text/plain": [
       "            Date        City                      Country  \\\n",
       "1793   13-Oct-77         NaN                        Spain   \n",
       "3309   08-Mar-83        Bonn  Federal Republic of Germany   \n",
       "5302   19-Aug-88         NaN                      Lebanon   \n",
       "6892   06-Jul-93   Jerusalem                       Israel   \n",
       "17732  05-Dec-03  Yessentuki                       Russia   \n",
       "19694  14-Oct-04       Najaf                         Iraq   \n",
       "37708  21-Apr-08     Baqubah                         Iraq   \n",
       "37773  29-Apr-08     Baqubah                         Iraq   \n",
       "37916  17-May-08     Baqubah                         Iraq   \n",
       "37956  21-May-08       Rutba                         Iraq   \n",
       "\n",
       "                                             Perpetrator  \\\n",
       "1793   Popular Front for the Liberation of Palestine ...   \n",
       "3309                                               Other   \n",
       "5302                                               Other   \n",
       "6892                                               Other   \n",
       "17732                                       Black Widows   \n",
       "19694                                            Unknown   \n",
       "37708                                           Al Qaeda   \n",
       "37773                                           Al Qaeda   \n",
       "37916                                           Al Qaeda   \n",
       "37956                                           Al Qaeda   \n",
       "\n",
       "                       Weapon  Injuries  Fatalities  \\\n",
       "1793                  Unknown         0           1   \n",
       "3309               Explosives         0           0   \n",
       "5302               Explosives         0           1   \n",
       "6892   Knives & sharp objects         1           0   \n",
       "17732              Explosives       165          46   \n",
       "19694              Explosives         0           0   \n",
       "37708              Explosives         4           3   \n",
       "37773              Explosives         5           1   \n",
       "37916              Explosives        15           1   \n",
       "37956              Explosives         3           5   \n",
       "\n",
       "                                             Description  IsFemaleTerrorist  \n",
       "1793   SPAIN.  A Lufthansa 737 Boeing jet was hijacke...               True  \n",
       "3309   FEDERAL REPUBLIC OF GERMANY.  No one was injur...               True  \n",
       "5302   LEBANON.  A suicide attack on an Israeli convo...               True  \n",
       "6892   ISRAEL.  A suspected Palestinian terrorist sta...               True  \n",
       "17732  A suicide bomber killed at least forty-six peo...               True  \n",
       "19694  Iraqi police arrested a woman wearing an explo...               True  \n",
       "37708  A female suicide attacker detonated her explos...               True  \n",
       "37773  One member of Al-Sahwa forces was killed and a...               True  \n",
       "37916  A female suicide attacker detonated her explos...               True  \n",
       "37956  A female suicide attacker detonated her explos...               True  "
      ]
     },
     "execution_count": 14,
     "metadata": {},
     "output_type": "execute_result"
    }
   ],
   "source": [
    "import spacy\n",
    "nlp = spacy.load(\"en_core_web_sm\")\n",
    "\n",
    "def extract_info(description):\n",
    "    if isinstance(description, str):\n",
    "        doc = nlp(description)\n",
    "        is_female_terrorist = False\n",
    "        for token in doc:\n",
    "            if token.text.lower() in [\"woman\", \"women\", \"female\"]:\n",
    "                if \"terrorist\" in [t.text.lower() for t in token.head.subtree]:\n",
    "                    is_female_terrorist = True\n",
    "                elif \"attacker\" in [t.text.lower() for t in token.head.subtree]:\n",
    "                    is_female_terrorist = True\n",
    "                elif \"insurgent\" in [t.text.lower() for t in token.head.subtree]:\n",
    "                    is_female_terrorist = True \n",
    "                elif \"militant\" in [t.text.lower() for t in token.head.subtree]:\n",
    "                    is_female_terrorist = True \n",
    "        return is_female_terrorist\n",
    "    else:\n",
    "        return False\n",
    "\n",
    "df_RAND['IsFemaleTerrorist'] = df_RAND['Description'].apply(extract_info)\n",
    "\n",
    "female_terrorists = df_RAND[df_RAND['IsFemaleTerrorist']]\n",
    "\n",
    "female_terrorists"
   ]
  },
  {
   "cell_type": "markdown",
   "id": "17c15c36",
   "metadata": {},
   "source": [
    "## Part 2\n",
    "In the incident reports investigate motivations of terrorism and categorize them into economic, political, religious or some combination of those categories. How would you do it? Is it a dictionary of economic words? The mention of money? The mention of religion? The word \"liberation?\" What's the signal here? Could you use vectors? You could use research or domain knowledge into perpetrators and their stated goals. You will have to resolve or define new categories. For example, is the Irish Republican Army religious or poltical or RP as a new category? Is Hamas religious, political or both? Find the signals and create a new column that categorizes the incidents. \n",
    "\n",
    "There is no \"right\" answer here, just a way for you as a emerging data scientist to think about how to parse data and categorize it. Just declare categories and justify your logic! I am as interested in your reasoning, as I am in your code!\n"
   ]
  },
  {
   "cell_type": "code",
   "execution_count": 15,
   "id": "77d2c5f0",
   "metadata": {},
   "outputs": [],
   "source": [
    "econ_words = [\"economy\", \"market\", \"inflation\", \"supply and demand\", \"GDP\", \"monetary policy\", \"fiscal policy\", \"trade\", \"investment\", \"commerce\", \"capitalism\", \"taxation\", \"unemployment\", \"consumer\", \"entrepreneur\", \"macroeconomics\", \"microeconomics\", \"demand curve\", \"supply curve\", \"inflation rate\", \"interest rates\", \"budget deficit\", \"exchange rate\", \"economic growth\", \"globalization\", \"business cycle\", \"monopoly\", \"oligopoly\", \"economic inequality\", \"commodity\"]\n",
    "pol_words = [\"politics\", \"government\", \"democracy\", \"election\", \"policy\", \"voting\", \"law\", \"legislation\", \"congress\", \"president\", \"parliament\", \"ideology\", \"partisanship\", \"lobbying\", \"constitution\", \"policy-making\", \"political party\", \"bureaucracy\", \"separation of powers\", \"international relations\", \"diplomacy\", \"human rights\", \"civil rights\", \"voter turnout\", \"political ideology\", \"gerrymandering\", \"public opinion\", \"political science\", \"lobbyist\", \"foreign policy\"]\n",
    "rel_words = [\"religion\", \"faith\", \"spirituality\", \"church\", \"temple\", \"mosque\", \"belief\", \"worship\", \"god\", \"prayer\", \"theology\", \"sacred\", \"doctrine\", \"spiritual\", \"clergy\", \"worshipper\", \"clergyman\", \"revelation\", \"scripture\", \"denomination\", \"pilgrimage\", \"ritual\", \"divine\", \"prophet\", \"afterlife\", \"paganism\", \"spiritualism\", \"synagogue\", \"blessing\", \"sacrifice\"]"
   ]
  },
  {
   "cell_type": "code",
   "execution_count": 16,
   "id": "4639acf9",
   "metadata": {},
   "outputs": [
    {
     "name": "stderr",
     "output_type": "stream",
     "text": [
      "[nltk_data] Downloading package stopwords to\n",
      "[nltk_data]     /Users/rakkshetsinghaal/nltk_data...\n",
      "[nltk_data]   Package stopwords is already up-to-date!\n"
     ]
    }
   ],
   "source": [
    "import nltk\n",
    "from nltk.corpus import stopwords\n",
    "\n",
    "nltk.download('stopwords')\n",
    "\n",
    "def classify_motive(description):\n",
    "    if isinstance(description, str):\n",
    "        description = description.lower()\n",
    "        motive = None\n",
    "\n",
    "        for word in econ_words:\n",
    "            if word in description:\n",
    "                motive = \"Economic\"\n",
    "                break\n",
    "\n",
    "        for word in pol_words:\n",
    "            if word in description:\n",
    "                motive = \"Political\"\n",
    "                break\n",
    "\n",
    "        for word in rel_words:\n",
    "            if word in description:\n",
    "                motive = \"Religious\"\n",
    "                break\n",
    "\n",
    "        return motive\n",
    "\n",
    "df_RAND['Motive'] = df_RAND['Description'].apply(classify_motive)\n",
    "\n",
    "df_RAND.to_csv(\"classified_data.csv\", index=False)"
   ]
  },
  {
   "cell_type": "code",
   "execution_count": null,
   "id": "b0899af0",
   "metadata": {},
   "outputs": [],
   "source": [
    "#Couldn't make this work as it didn't stop running but looks interesting!\n",
    "\"\"\"\n",
    "def classify_motive(description):\n",
    "    if isinstance(description, str):\n",
    "        doc = nlp(description.lower())\n",
    "\n",
    "        motive_scores = {\n",
    "            \"Economic\": max(doc.similarity(nlp(keyword)) for keyword in econ_words),\n",
    "            \"Political\": max(doc.similarity(nlp(keyword)) for keyword in pol_words),\n",
    "            \"Religious\": max(doc.similarity(nlp(keyword)) for keyword in rel_words)\n",
    "        }\n",
    "\n",
    "        assigned_motive = max(motive_scores, key=motive_scores.get)\n",
    "        return assigned_motive\n",
    "    else:\n",
    "        return None\n",
    "\n",
    "df_RAND['Motive'] = df_RAND['Description'].apply(classify_motive)\n",
    "\n",
    "df_RAND.to_csv(\"classified_data.csv\", index=False)\n",
    "\"\"\""
   ]
  }
 ],
 "metadata": {
  "kernelspec": {
   "display_name": "Python 3 (ipykernel)",
   "language": "python",
   "name": "python3"
  },
  "language_info": {
   "codemirror_mode": {
    "name": "ipython",
    "version": 3
   },
   "file_extension": ".py",
   "mimetype": "text/x-python",
   "name": "python",
   "nbconvert_exporter": "python",
   "pygments_lexer": "ipython3",
   "version": "3.11.4"
  }
 },
 "nbformat": 4,
 "nbformat_minor": 5
}
