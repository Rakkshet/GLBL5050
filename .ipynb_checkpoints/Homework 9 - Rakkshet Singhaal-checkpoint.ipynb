{
 "cells": [
  {
   "cell_type": "markdown",
   "id": "2b45a215",
   "metadata": {},
   "source": [
    "## Finding Data, Loading into Pandas, Cleaning and Visualizing it using Matplotlib\n",
    "This weeks homework is intended to spur you into the world on opensource data repositories in order to create the visualizations. \n",
    "\n",
    "You will need to find a good dataset, preprocess the data as necessary, set up their plotting environment, and then use the appropriate plotting functions to visualize the data.\n",
    "\n",
    "You will also need to add labels, titles, legends, and other necessary plot elements to make your visualizations clear and informative."
   ]
  },
  {
   "cell_type": "markdown",
   "id": "dd568015",
   "metadata": {},
   "source": [
    "1.**COVID-19 Data Visualization**\n",
    "Potential Source: Johns Hopkins University COVID-19 Data Repository, Our World in Data.\n",
    "\n",
    "Bar Chart: Show the total number of COVID-19 cases in the top 10 affected countries.\n",
    "Line Graph: Plot the trend of daily new cases over time for a specific country."
   ]
  },
  {
   "cell_type": "code",
   "execution_count": 19,
   "id": "f4e142e0",
   "metadata": {},
   "outputs": [
    {
     "ename": "FileNotFoundError",
     "evalue": "[Errno 2] No such file or directory: 'Total Case.xlsx'",
     "output_type": "error",
     "traceback": [
      "\u001b[0;31m---------------------------------------------------------------------------\u001b[0m",
      "\u001b[0;31mFileNotFoundError\u001b[0m                         Traceback (most recent call last)",
      "Cell \u001b[0;32mIn[19], line 6\u001b[0m\n\u001b[1;32m      2\u001b[0m \u001b[38;5;28;01mimport\u001b[39;00m \u001b[38;5;21;01mmatplotlib\u001b[39;00m\u001b[38;5;21;01m.\u001b[39;00m\u001b[38;5;21;01mpyplot\u001b[39;00m \u001b[38;5;28;01mas\u001b[39;00m \u001b[38;5;21;01mplt\u001b[39;00m\n\u001b[1;32m      4\u001b[0m get_ipython()\u001b[38;5;241m.\u001b[39mrun_line_magic(\u001b[38;5;124m'\u001b[39m\u001b[38;5;124mmatplotlib\u001b[39m\u001b[38;5;124m'\u001b[39m, \u001b[38;5;124m'\u001b[39m\u001b[38;5;124minline\u001b[39m\u001b[38;5;124m'\u001b[39m)\n\u001b[0;32m----> 6\u001b[0m df_total_cases \u001b[38;5;241m=\u001b[39m pd\u001b[38;5;241m.\u001b[39mread_excel(\u001b[38;5;124m\"\u001b[39m\u001b[38;5;124mTotal Case.xlsx\u001b[39m\u001b[38;5;124m\"\u001b[39m)\n\u001b[1;32m      7\u001b[0m df_new_cases_india \u001b[38;5;241m=\u001b[39m pd\u001b[38;5;241m.\u001b[39mread_excel(\u001b[38;5;124m\"\u001b[39m\u001b[38;5;124mNew Cases India.xlsx\u001b[39m\u001b[38;5;124m\"\u001b[39m)\n\u001b[1;32m      9\u001b[0m top10_countries \u001b[38;5;241m=\u001b[39m df_total_cases\u001b[38;5;241m.\u001b[39msort_values(by\u001b[38;5;241m=\u001b[39m\u001b[38;5;124m'\u001b[39m\u001b[38;5;124mtotal_cases\u001b[39m\u001b[38;5;124m'\u001b[39m, ascending\u001b[38;5;241m=\u001b[39m\u001b[38;5;28;01mFalse\u001b[39;00m)\u001b[38;5;241m.\u001b[39mhead(\u001b[38;5;241m10\u001b[39m)[[\u001b[38;5;124m'\u001b[39m\u001b[38;5;124mlocation\u001b[39m\u001b[38;5;124m'\u001b[39m, \u001b[38;5;124m'\u001b[39m\u001b[38;5;124mtotal_cases\u001b[39m\u001b[38;5;124m'\u001b[39m]]\n",
      "File \u001b[0;32m~/anaconda3/lib/python3.11/site-packages/pandas/util/_decorators.py:211\u001b[0m, in \u001b[0;36mdeprecate_kwarg.<locals>._deprecate_kwarg.<locals>.wrapper\u001b[0;34m(*args, **kwargs)\u001b[0m\n\u001b[1;32m    209\u001b[0m     \u001b[38;5;28;01melse\u001b[39;00m:\n\u001b[1;32m    210\u001b[0m         kwargs[new_arg_name] \u001b[38;5;241m=\u001b[39m new_arg_value\n\u001b[0;32m--> 211\u001b[0m \u001b[38;5;28;01mreturn\u001b[39;00m func(\u001b[38;5;241m*\u001b[39margs, \u001b[38;5;241m*\u001b[39m\u001b[38;5;241m*\u001b[39mkwargs)\n",
      "File \u001b[0;32m~/anaconda3/lib/python3.11/site-packages/pandas/util/_decorators.py:331\u001b[0m, in \u001b[0;36mdeprecate_nonkeyword_arguments.<locals>.decorate.<locals>.wrapper\u001b[0;34m(*args, **kwargs)\u001b[0m\n\u001b[1;32m    325\u001b[0m \u001b[38;5;28;01mif\u001b[39;00m \u001b[38;5;28mlen\u001b[39m(args) \u001b[38;5;241m>\u001b[39m num_allow_args:\n\u001b[1;32m    326\u001b[0m     warnings\u001b[38;5;241m.\u001b[39mwarn(\n\u001b[1;32m    327\u001b[0m         msg\u001b[38;5;241m.\u001b[39mformat(arguments\u001b[38;5;241m=\u001b[39m_format_argument_list(allow_args)),\n\u001b[1;32m    328\u001b[0m         \u001b[38;5;167;01mFutureWarning\u001b[39;00m,\n\u001b[1;32m    329\u001b[0m         stacklevel\u001b[38;5;241m=\u001b[39mfind_stack_level(),\n\u001b[1;32m    330\u001b[0m     )\n\u001b[0;32m--> 331\u001b[0m \u001b[38;5;28;01mreturn\u001b[39;00m func(\u001b[38;5;241m*\u001b[39margs, \u001b[38;5;241m*\u001b[39m\u001b[38;5;241m*\u001b[39mkwargs)\n",
      "File \u001b[0;32m~/anaconda3/lib/python3.11/site-packages/pandas/io/excel/_base.py:482\u001b[0m, in \u001b[0;36mread_excel\u001b[0;34m(io, sheet_name, header, names, index_col, usecols, squeeze, dtype, engine, converters, true_values, false_values, skiprows, nrows, na_values, keep_default_na, na_filter, verbose, parse_dates, date_parser, thousands, decimal, comment, skipfooter, convert_float, mangle_dupe_cols, storage_options)\u001b[0m\n\u001b[1;32m    480\u001b[0m \u001b[38;5;28;01mif\u001b[39;00m \u001b[38;5;129;01mnot\u001b[39;00m \u001b[38;5;28misinstance\u001b[39m(io, ExcelFile):\n\u001b[1;32m    481\u001b[0m     should_close \u001b[38;5;241m=\u001b[39m \u001b[38;5;28;01mTrue\u001b[39;00m\n\u001b[0;32m--> 482\u001b[0m     io \u001b[38;5;241m=\u001b[39m ExcelFile(io, storage_options\u001b[38;5;241m=\u001b[39mstorage_options, engine\u001b[38;5;241m=\u001b[39mengine)\n\u001b[1;32m    483\u001b[0m \u001b[38;5;28;01melif\u001b[39;00m engine \u001b[38;5;129;01mand\u001b[39;00m engine \u001b[38;5;241m!=\u001b[39m io\u001b[38;5;241m.\u001b[39mengine:\n\u001b[1;32m    484\u001b[0m     \u001b[38;5;28;01mraise\u001b[39;00m \u001b[38;5;167;01mValueError\u001b[39;00m(\n\u001b[1;32m    485\u001b[0m         \u001b[38;5;124m\"\u001b[39m\u001b[38;5;124mEngine should not be specified when passing \u001b[39m\u001b[38;5;124m\"\u001b[39m\n\u001b[1;32m    486\u001b[0m         \u001b[38;5;124m\"\u001b[39m\u001b[38;5;124man ExcelFile - ExcelFile already has the engine set\u001b[39m\u001b[38;5;124m\"\u001b[39m\n\u001b[1;32m    487\u001b[0m     )\n",
      "File \u001b[0;32m~/anaconda3/lib/python3.11/site-packages/pandas/io/excel/_base.py:1652\u001b[0m, in \u001b[0;36mExcelFile.__init__\u001b[0;34m(self, path_or_buffer, engine, storage_options)\u001b[0m\n\u001b[1;32m   1650\u001b[0m     ext \u001b[38;5;241m=\u001b[39m \u001b[38;5;124m\"\u001b[39m\u001b[38;5;124mxls\u001b[39m\u001b[38;5;124m\"\u001b[39m\n\u001b[1;32m   1651\u001b[0m \u001b[38;5;28;01melse\u001b[39;00m:\n\u001b[0;32m-> 1652\u001b[0m     ext \u001b[38;5;241m=\u001b[39m inspect_excel_format(\n\u001b[1;32m   1653\u001b[0m         content_or_path\u001b[38;5;241m=\u001b[39mpath_or_buffer, storage_options\u001b[38;5;241m=\u001b[39mstorage_options\n\u001b[1;32m   1654\u001b[0m     )\n\u001b[1;32m   1655\u001b[0m     \u001b[38;5;28;01mif\u001b[39;00m ext \u001b[38;5;129;01mis\u001b[39;00m \u001b[38;5;28;01mNone\u001b[39;00m:\n\u001b[1;32m   1656\u001b[0m         \u001b[38;5;28;01mraise\u001b[39;00m \u001b[38;5;167;01mValueError\u001b[39;00m(\n\u001b[1;32m   1657\u001b[0m             \u001b[38;5;124m\"\u001b[39m\u001b[38;5;124mExcel file format cannot be determined, you must specify \u001b[39m\u001b[38;5;124m\"\u001b[39m\n\u001b[1;32m   1658\u001b[0m             \u001b[38;5;124m\"\u001b[39m\u001b[38;5;124man engine manually.\u001b[39m\u001b[38;5;124m\"\u001b[39m\n\u001b[1;32m   1659\u001b[0m         )\n",
      "File \u001b[0;32m~/anaconda3/lib/python3.11/site-packages/pandas/io/excel/_base.py:1525\u001b[0m, in \u001b[0;36minspect_excel_format\u001b[0;34m(content_or_path, storage_options)\u001b[0m\n\u001b[1;32m   1522\u001b[0m \u001b[38;5;28;01mif\u001b[39;00m \u001b[38;5;28misinstance\u001b[39m(content_or_path, \u001b[38;5;28mbytes\u001b[39m):\n\u001b[1;32m   1523\u001b[0m     content_or_path \u001b[38;5;241m=\u001b[39m BytesIO(content_or_path)\n\u001b[0;32m-> 1525\u001b[0m \u001b[38;5;28;01mwith\u001b[39;00m get_handle(\n\u001b[1;32m   1526\u001b[0m     content_or_path, \u001b[38;5;124m\"\u001b[39m\u001b[38;5;124mrb\u001b[39m\u001b[38;5;124m\"\u001b[39m, storage_options\u001b[38;5;241m=\u001b[39mstorage_options, is_text\u001b[38;5;241m=\u001b[39m\u001b[38;5;28;01mFalse\u001b[39;00m\n\u001b[1;32m   1527\u001b[0m ) \u001b[38;5;28;01mas\u001b[39;00m handle:\n\u001b[1;32m   1528\u001b[0m     stream \u001b[38;5;241m=\u001b[39m handle\u001b[38;5;241m.\u001b[39mhandle\n\u001b[1;32m   1529\u001b[0m     stream\u001b[38;5;241m.\u001b[39mseek(\u001b[38;5;241m0\u001b[39m)\n",
      "File \u001b[0;32m~/anaconda3/lib/python3.11/site-packages/pandas/io/common.py:865\u001b[0m, in \u001b[0;36mget_handle\u001b[0;34m(path_or_buf, mode, encoding, compression, memory_map, is_text, errors, storage_options)\u001b[0m\n\u001b[1;32m    856\u001b[0m         handle \u001b[38;5;241m=\u001b[39m \u001b[38;5;28mopen\u001b[39m(\n\u001b[1;32m    857\u001b[0m             handle,\n\u001b[1;32m    858\u001b[0m             ioargs\u001b[38;5;241m.\u001b[39mmode,\n\u001b[0;32m   (...)\u001b[0m\n\u001b[1;32m    861\u001b[0m             newline\u001b[38;5;241m=\u001b[39m\u001b[38;5;124m\"\u001b[39m\u001b[38;5;124m\"\u001b[39m,\n\u001b[1;32m    862\u001b[0m         )\n\u001b[1;32m    863\u001b[0m     \u001b[38;5;28;01melse\u001b[39;00m:\n\u001b[1;32m    864\u001b[0m         \u001b[38;5;66;03m# Binary mode\u001b[39;00m\n\u001b[0;32m--> 865\u001b[0m         handle \u001b[38;5;241m=\u001b[39m \u001b[38;5;28mopen\u001b[39m(handle, ioargs\u001b[38;5;241m.\u001b[39mmode)\n\u001b[1;32m    866\u001b[0m     handles\u001b[38;5;241m.\u001b[39mappend(handle)\n\u001b[1;32m    868\u001b[0m \u001b[38;5;66;03m# Convert BytesIO or file objects passed with an encoding\u001b[39;00m\n",
      "\u001b[0;31mFileNotFoundError\u001b[0m: [Errno 2] No such file or directory: 'Total Case.xlsx'"
     ]
    }
   ],
   "source": [
    "import pandas as pd\n",
    "import matplotlib.pyplot as plt\n",
    "\n",
    "%matplotlib inline\n",
    "\n",
    "df_total_cases = pd.read_excel(\"Total Case.xlsx\")\n",
    "df_new_cases_india = pd.read_excel(\"New Cases India.xlsx\")\n",
    "\n",
    "top10_countries = df_total_cases.sort_values(by='total_cases', ascending=False).head(10)[['location', 'total_cases']]\n",
    "\n",
    "fig, ax = plt.subplots(2, 1, figsize=(12, 10))\n",
    "\n",
    "ax[0].bar(top10_countries.location, top10_countries.total_cases, color='red')\n",
    "ax[0].set_title(\"COVID-19 Cases in Top 10 Affected Countries\")\n",
    "ax[0].set_xlabel('Country')\n",
    "ax[0].set_ylabel('Total Cases')\n",
    "ax[0].tick_params(axis='x', rotation=45)\n",
    "\n",
    "ax[1].plot(df_new_cases_india.date, df_new_cases_india.new_cases, color='orange')\n",
    "ax[1].set_title(\"Number of New Cases in India\")\n",
    "ax[1].set_xlabel('Date')\n",
    "ax[1].set_ylabel('New Cases')\n",
    "ax[1].tick_params(axis='x', rotation=45)\n",
    "ax[1].xaxis.set_major_locator(plt.MaxNLocator(20))\n",
    "\n",
    "fig.subplots_adjust(hspace=0.7)\n",
    "\n",
    "plt.show()"
   ]
  },
  {
   "cell_type": "markdown",
   "id": "4c60774f",
   "metadata": {},
   "source": [
    "2.**Global GDP Comparison**\n",
    "Potential Source: The World Bank's World Development Indicators, International Monetary Fund (IMF).\n",
    "Line Graph: Compare the GDP trends of several countries over the last decade.\n",
    "Stacked Bar Chart: Display the GDP composition of a country by different sectors (agriculture, industry, services) over time."
   ]
  },
  {
   "cell_type": "code",
   "execution_count": null,
   "id": "a1ffa36d",
   "metadata": {},
   "outputs": [],
   "source": [
    "#Your code here:"
   ]
  },
  {
   "cell_type": "markdown",
   "id": "86ce8e91",
   "metadata": {},
   "source": [
    "3.**World Population Growth**\n",
    "Potential Source: The World Bank, United Nations Population Division.\n",
    "Histogram: Represent the distribution of country populations.\n",
    "Scatter Plot: Illustrate the relationship between population and another variable such as land area or GDP."
   ]
  },
  {
   "cell_type": "code",
   "execution_count": null,
   "id": "00e3c462",
   "metadata": {},
   "outputs": [],
   "source": [
    "#Your code here:"
   ]
  },
  {
   "cell_type": "markdown",
   "id": "0aee20d9",
   "metadata": {},
   "source": [
    "4.**Climate Change Indicators**\n",
    "Potential Source: NASA's climate change dataset, Global Carbon Project.\n",
    "Line Graph: Show the trend of average annual temperatures for a set of countries over the last century.\n",
    "Bar Chart: Compare the total CO2 emissions by top emitting countries in the most recent year available."
   ]
  },
  {
   "cell_type": "code",
   "execution_count": null,
   "id": "b3de7fce",
   "metadata": {},
   "outputs": [],
   "source": [
    "#Your code here:"
   ]
  },
  {
   "cell_type": "markdown",
   "id": "5b99e502",
   "metadata": {},
   "source": [
    "5.**International Trade Analysis**\n",
    "Potential Source: United Nations Comtrade database, World Trade Organization.\n",
    "Network Diagram (using Matplotlib extensions such as NetworkX): Visualize the trade relationships between countries.\n",
    "Bar Chart: Compare the total exports and imports of the top trading countries."
   ]
  },
  {
   "cell_type": "code",
   "execution_count": null,
   "id": "e27fa631",
   "metadata": {},
   "outputs": [],
   "source": [
    "#Your code here:"
   ]
  },
  {
   "cell_type": "markdown",
   "id": "6480c9bc",
   "metadata": {},
   "source": [
    "6.**Global Health Expenditure**\n",
    "Potential Source: World Health Organization Global Health Expenditure database.\n",
    "Bar Chart: Show the health expenditure as a percentage of GDP by country.\n",
    "Line Graph: Plot the trend of health expenditure over time for selected countries."
   ]
  },
  {
   "cell_type": "code",
   "execution_count": null,
   "id": "af459afe",
   "metadata": {},
   "outputs": [],
   "source": [
    "#Your code here:"
   ]
  },
  {
   "cell_type": "markdown",
   "id": "70329125",
   "metadata": {},
   "source": [
    "7.**Educational Attainment**\n",
    "Potential Source: UNESCO Institute for Statistics, World Bank Education Statistics.\n",
    "Bar Chart: Display literacy rates for different age groups within a country.\n",
    "Box Plot: Show the distribution of average years of schooling across continents."
   ]
  },
  {
   "cell_type": "code",
   "execution_count": null,
   "id": "48364caf",
   "metadata": {},
   "outputs": [],
   "source": [
    "#Your code here:"
   ]
  },
  {
   "cell_type": "markdown",
   "id": "173b38d4",
   "metadata": {},
   "source": [
    "8.**Renewable Energy Usage**\n",
    "Potential Source: International Energy Agency, The World Bank.\n",
    "Pie Chart: Illustrate the proportion of different types of renewable energy sources in a country's energy mix.\n",
    "Stacked Area Chart: Show the change in renewable versus non-renewable energy consumption over time in a country."
   ]
  },
  {
   "cell_type": "code",
   "execution_count": null,
   "id": "af6f4a56",
   "metadata": {},
   "outputs": [],
   "source": [
    "#Your code here:"
   ]
  },
  {
   "cell_type": "markdown",
   "id": "9a4f604b",
   "metadata": {},
   "source": [
    "9.**Global Unemployment Trends**\n",
    "Potential Source: International Labour Organization, The World Bank.\n",
    "Line Graph: Track the unemployment rate over time for a group of countries.\n",
    "Bar Chart: Compare the unemployment rates across countries at a specific point in time.\n"
   ]
  },
  {
   "cell_type": "code",
   "execution_count": null,
   "id": "ae363d16",
   "metadata": {},
   "outputs": [],
   "source": [
    "#Your code here:"
   ]
  },
  {
   "cell_type": "markdown",
   "id": "45d4275f",
   "metadata": {},
   "source": [
    "10.**Life Expectancy and Health Factors**\n",
    "Potential Source: Global Health Observatory data from the World Health Organization, Human Development Reports from the United Nations Development Programme.\n",
    "Scatter Plot: Show the correlation between life expectancy and a health factor like BMI or smoking rates.\n",
    "Violin Plot: Display the distribution of life expectancy across different regions.\n"
   ]
  },
  {
   "cell_type": "code",
   "execution_count": null,
   "id": "5b7a9b59",
   "metadata": {},
   "outputs": [],
   "source": [
    "#Your code here:\n"
   ]
  }
 ],
 "metadata": {
  "kernelspec": {
   "display_name": "Python 3 (ipykernel)",
   "language": "python",
   "name": "python3"
  },
  "language_info": {
   "codemirror_mode": {
    "name": "ipython",
    "version": 3
   },
   "file_extension": ".py",
   "mimetype": "text/x-python",
   "name": "python",
   "nbconvert_exporter": "python",
   "pygments_lexer": "ipython3",
   "version": "3.11.4"
  }
 },
 "nbformat": 4,
 "nbformat_minor": 5
}
