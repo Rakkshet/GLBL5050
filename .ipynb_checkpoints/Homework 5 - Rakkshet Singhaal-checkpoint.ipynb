{
 "cells": [
  {
   "cell_type": "markdown",
   "id": "167d23b1",
   "metadata": {},
   "source": [
    "## Sets\n",
    "Sets in Python are **unordered** collections of **unique** elements. \n",
    "Remove the redundant names in the following list and save to a variable called \"set_names\". You may have to unify capitalization to get it right!\n"
   ]
  },
  {
   "cell_type": "code",
   "execution_count": 8,
   "id": "43fff55c",
   "metadata": {},
   "outputs": [],
   "source": [
    "names = [\"Alice\", \"Bob\", \"alice\", \"bob\", \"Charlie\", \"charlie\", \"Dana\", \"dana\"]\n",
    "capitalized_names = [name.capitalize() for name in names]"
   ]
  },
  {
   "cell_type": "code",
   "execution_count": 9,
   "id": "e179bc09",
   "metadata": {},
   "outputs": [
    {
     "data": {
      "text/plain": [
       "{'Alice', 'Bob', 'Charlie', 'Dana'}"
      ]
     },
     "execution_count": 9,
     "metadata": {},
     "output_type": "execute_result"
    }
   ],
   "source": [
    "set_names=set(capitalized_names)\n",
    "set_names"
   ]
  },
  {
   "cell_type": "markdown",
   "id": "400df320",
   "metadata": {},
   "source": [
    "Add Joseph to your \"set_names\" set and print \"Added Joseph:\" and then the set."
   ]
  },
  {
   "cell_type": "code",
   "execution_count": 10,
   "id": "aac920cb",
   "metadata": {},
   "outputs": [
    {
     "name": "stdout",
     "output_type": "stream",
     "text": [
      "Added Joseph:{'Charlie', 'Dana', 'Bob', 'Alice', 'Joseph'}\n"
     ]
    }
   ],
   "source": [
    "set_names.add(\"Joseph\")\n",
    "print(f\"Added Joseph:{set_names}\")"
   ]
  },
  {
   "cell_type": "markdown",
   "id": "108beddd",
   "metadata": {},
   "source": [
    "Remove \"Alice\" from your set_names set and print \"Removed Alice:\" and then the set."
   ]
  },
  {
   "cell_type": "code",
   "execution_count": 11,
   "id": "8ad00429",
   "metadata": {},
   "outputs": [
    {
     "name": "stdout",
     "output_type": "stream",
     "text": [
      "Removed Alice:{'Charlie', 'Dana', 'Bob', 'Joseph'}\n"
     ]
    }
   ],
   "source": [
    "set_names.remove(\"Alice\")\n",
    "print(f\"Removed Alice:{set_names}\")"
   ]
  },
  {
   "cell_type": "markdown",
   "id": "7ea9419c",
   "metadata": {},
   "source": [
    "## Tuples\n",
    "In Python, a tuple is an **ordered**, **immutable** collection of elements. Once a tuple is created, you cannot modify its elements or their order. Tuples are commonly used in Python programming and can be employed in various scenarios due to their immutability and the ability to store multiple items.\n"
   ]
  },
  {
   "cell_type": "code",
   "execution_count": 12,
   "id": "62d2fc81",
   "metadata": {},
   "outputs": [
    {
     "name": "stdout",
     "output_type": "stream",
     "text": [
      "FoobaWoobaJohn"
     ]
    }
   ],
   "source": [
    "#Make a string from the following tuple: IT should read F\n",
    "tuple_1=('F','o','o','b','a','W','o','o','b','a','J','o','h','n')\n",
    "for x in tuple_1:\n",
    "    for y in x:\n",
    "        print(y,end=\"\")"
   ]
  },
  {
   "cell_type": "markdown",
   "id": "36eef1cb",
   "metadata": {},
   "source": [
    "### Tuples for Protecting Data Integrity\n",
    "\n",
    "Because tuples are immutable, their content can’t be changed after declaration. This property makes tuples a suitable data type to ensure the integrity of data. Aníbal asked in the last class where you might use a tuple, or want to use a tuple. I gave the example of student records, but a more worldly example is trade data from the NYSE. Once the market closes, we wouldn't wa\\t that data manipulated, changed or altered in any way. The consquences could be dire.\n",
    "\n",
    "Write a function called \"stock_info\" that returns a tuple with a company's stock ticker, a date, an opening price, and volume. Look up the data for October 4, 2023 for Apple, Google, Microsoft,and AWS. Call the function with appropriate data for those companies and those dates, and save each to an Apple, Google, Microsoft and AWS variable. Print each\n",
    "\n",
    "Here is where you can find the data. For example here is Apple: (https://finance.yahoo.com/quote/AAPL/history/)\n",
    "\n"
   ]
  },
  {
   "cell_type": "code",
   "execution_count": 2,
   "id": "b62f95ed",
   "metadata": {},
   "outputs": [
    {
     "name": "stdout",
     "output_type": "stream",
     "text": [
      "Apple Stock Info: ('AAPL', 'October 4, 2023', 171.09, 53020300)\n",
      "Google Stock Info: ('GOOGL', 'October 4, 2023', 132.79, 26752300)\n",
      "Microsoft Stock Info: ('MSFT', 'October 4, 2023', 314.03, 20720100)\n",
      "AWS Stock Info: ('AMZN', 'October 4, 2023', 126.06, 44203900)\n"
     ]
    }
   ],
   "source": [
    "def stock_info(ticker, date, opening_price, volume):\n",
    "    return (ticker, date, opening_price, volume)\n",
    "\n",
    "apple = stock_info(\"AAPL\", \"October 4, 2023\", 171.09, 53020300)\n",
    "\n",
    "google = stock_info(\"GOOGL\", \"October 4, 2023\", 132.79, 26752300)\n",
    "\n",
    "microsoft = stock_info(\"MSFT\", \"October 4, 2023\", 314.03, 20720100)\n",
    "\n",
    "amazon = stock_info(\"AMZN\", \"October 4, 2023\", 126.06, 44203900)\n",
    "\n",
    "print(f\"Apple Stock Info: {apple}\")\n",
    "print(f\"Google Stock Info: {google}\")\n",
    "print(f\"Microsoft Stock Info: {microsoft}\")\n",
    "print(f\"AWS Stock Info: {amazon}\")"
   ]
  },
  {
   "cell_type": "markdown",
   "id": "3e66aa3a",
   "metadata": {},
   "source": [
    "## For Loop\n",
    "Write a script that prompts the user for two words (two, one-word strings). Print all the unique letters that are common to both words, in alphabetical order, using for loops in your solution.\n",
    "\n",
    "For example:\n",
    "\n",
    "Enter one word: Home '\n",
    "\n",
    "Enter another word: meter\n",
    "\n",
    "Letters in common: em\n"
   ]
  },
  {
   "cell_type": "code",
   "execution_count": 15,
   "id": "46ebdf13",
   "metadata": {},
   "outputs": [
    {
     "name": "stdout",
     "output_type": "stream",
     "text": [
      "Enter one word:Hello\n",
      "Enter another word:Mellow\n"
     ]
    },
    {
     "data": {
      "text/plain": [
       "{'e', 'l', 'o'}"
      ]
     },
     "execution_count": 15,
     "metadata": {},
     "output_type": "execute_result"
    }
   ],
   "source": [
    "word_1=input(\"Enter one word:\")\n",
    "word_2=input(\"Enter another word:\")\n",
    "\n",
    "set_word_1=set(word_1)\n",
    "set_word_2=set(word_2)\n",
    "\n",
    "set_word_1.intersection(set_word_2)"
   ]
  },
  {
   "cell_type": "markdown",
   "id": "483eda0b",
   "metadata": {},
   "source": [
    "## For Loops to List Comprehensions\n",
    "Write the following FIRST as a for loop, then as a list comprehension"
   ]
  },
  {
   "cell_type": "markdown",
   "id": "3d3c9786",
   "metadata": {},
   "source": [
    " Extract all country names from the \"some_names\" list and append them to a list called \"country names\". I've provided a country list for you to use in your loop or comprehension.\n",
    "\n"
   ]
  },
  {
   "cell_type": "code",
   "execution_count": 16,
   "id": "d2f3dbb5",
   "metadata": {},
   "outputs": [],
   "source": [
    "country_list = ['Afghanistan', 'Aland Islands', 'Albania', 'Algeria', 'American Samoa', 'Andorra', 'Angola', 'Anguilla', 'Antarctica', 'Antigua and Barbuda', 'Argentina', 'Armenia', 'Aruba', 'Australia', 'Austria', 'Azerbaijan', 'Bahamas', 'Bahrain', 'Bangladesh', 'Barbados', 'Belarus', 'Belgium', 'Belize', 'Benin', 'Bermuda', 'Bhutan', 'Bolivia, Plurinational State of', 'Bonaire, Sint Eustatius and Saba', 'Bosnia and Herzegovina', 'Botswana', 'Bouvet Island', 'Brazil', 'British Indian Ocean Territory', 'Brunei Darussalam', 'Bulgaria', 'Burkina Faso', 'Burundi', 'Cambodia', 'Cameroon', 'Canada', 'Cape Verde', 'Cayman Islands', 'Central African Republic', 'Chad', 'Chile', 'China', 'Christmas Island', 'Cocos (Keeling) Islands', 'Colombia', 'Comoros', 'Congo', 'Congo, The Democratic Republic of the', 'Cook Islands', 'Costa Rica', \"Côte d'Ivoire\", 'Croatia', 'Cuba', 'Curaçao', 'Cyprus', 'Czech Republic', 'Denmark', 'Djibouti', 'Dominica', 'Dominican Republic', 'Ecuador', 'Egypt', 'El Salvador', 'Equatorial Guinea', 'Eritrea', 'Estonia', 'Ethiopia', 'Falkland Islands (Malvinas)', 'Faroe Islands', 'Fiji', 'Finland', 'France', 'French Guiana', 'French Polynesia', 'French Southern Territories', 'Gabon', 'Gambia', 'Georgia', 'Germany', 'Ghana', 'Gibraltar', 'Greece', 'Greenland', 'Grenada', 'Guadeloupe', 'Guam', 'Guatemala', 'Guernsey', 'Guinea', 'Guinea-Bissau', 'Guyana', 'Haiti', 'Heard Island and McDonald Islands', 'Holy See (Vatican City State)', 'Honduras', 'Hong Kong', 'Hungary', 'Iceland', 'India', 'Indonesia', 'Iran, Islamic Republic of', 'Iraq', 'Ireland', 'Isle of Man', 'Israel', 'Italy', 'Jamaica', 'Japan', 'Jersey', 'Jordan', 'Kazakhstan', 'Kenya', 'Kiribati', \"Korea, Democratic People's Republic of\", 'Korea, Republic of', 'Kuwait', 'Kyrgyzstan', \"Lao People's Democratic Republic\", 'Latvia', 'Lebanon', 'Lesotho', 'Liberia', 'Libya', 'Liechtenstein', 'Lithuania', 'Luxembourg', 'Macao', 'Macedonia, Republic of', 'Madagascar', 'Malawi', 'Malaysia', 'Maldives', 'Mali', 'Malta', 'Marshall Islands', 'Martinique', 'Mauritania', 'Mauritius', 'Mayotte', 'Mexico', 'Micronesia, Federated States of', 'Moldova, Republic of', 'Monaco', 'Mongolia', 'Montenegro', 'Montserrat', 'Morocco', 'Mozambique', 'Myanmar', 'Namibia', 'Nauru', 'Nepal', 'Netherlands', 'New Caledonia', 'New Zealand', 'Nicaragua', 'Niger', 'Nigeria', 'Niue', 'Norfolk Island', 'Northern Mariana Islands', 'Norway', 'Oman', 'Pakistan', 'Palau', 'Palestinian Territory, Occupied', 'Panama', 'Papua New Guinea', 'Paraguay', 'Peru', 'Philippines', 'Pitcairn', 'Poland', 'Portugal', 'Puerto Rico', 'Qatar', 'Réunion', 'Romania', 'Russian Federation', 'Rwanda', 'Saint Barthélemy', 'Saint Helena, Ascension and Tristan da Cunha', 'Saint Kitts and Nevis', 'Saint Lucia', 'Saint Martin (French part)', 'Saint Pierre and Miquelon', 'Saint Vincent and the Grenadines', 'Samoa', 'San Marino', 'Sao Tome and Principe', 'Saudi Arabia', 'Senegal', 'Serbia', 'Seychelles', 'Sierra Leone', 'Singapore', 'Sint Maarten (Dutch part)', 'Slovakia', 'Slovenia', 'Solomon Islands', 'Somalia', 'South Africa', 'South Georgia and the South Sandwich Islands', 'Spain', 'Sri Lanka', 'Sudan', 'Suriname', 'South Sudan', 'Svalbard and Jan Mayen', 'Swaziland', 'Sweden', 'Switzerland', 'Syrian Arab Republic', 'Taiwan, Province of China', 'Tajikistan', 'Tanzania, United Republic of', 'Thailand', 'Timor-Leste', 'Togo', 'Tokelau', 'Tonga', 'Trinidad and Tobago', 'Tunisia', 'Turkey', 'Turkmenistan', 'Turks and Caicos Islands', 'Tuvalu', 'Uganda', 'Ukraine', 'United Arab Emirates', 'United Kingdom', 'United States', 'United States Minor Outlying Islands', 'Uruguay', 'Uzbekistan', 'Vanuatu', 'Venezuela, Bolivarian Republic of', 'Viet Nam', 'Virgin Islands, British', 'Virgin Islands, U.S.', 'Wallis and Futuna', 'Yemen', 'Zambia', 'Zimbabwe']\n",
    "some_names =['Argentina', 'India', 'Alexlandia', 'Walidistan', \"The People's Republic of Steve\", 'The Federated States of Alejandro', 'Burundi', 'Cambodia','Jacobovakia', 'Chad', 'Chile']"
   ]
  },
  {
   "cell_type": "code",
   "execution_count": 17,
   "id": "d4b613f3",
   "metadata": {},
   "outputs": [
    {
     "name": "stdout",
     "output_type": "stream",
     "text": [
      "['Afghanistan', 'Aland Islands', 'Albania', 'Alexlandia', 'Algeria', 'American Samoa', 'Andorra', 'Angola', 'Anguilla', 'Antarctica', 'Antigua and Barbuda', 'Argentina', 'Argentina', 'Armenia', 'Aruba', 'Australia', 'Austria', 'Azerbaijan', 'Bahamas', 'Bahrain', 'Bangladesh', 'Barbados', 'Belarus', 'Belgium', 'Belize', 'Benin', 'Bermuda', 'Bhutan', 'Bolivia, Plurinational State of', 'Bonaire, Sint Eustatius and Saba', 'Bosnia and Herzegovina', 'Botswana', 'Bouvet Island', 'Brazil', 'British Indian Ocean Territory', 'Brunei Darussalam', 'Bulgaria', 'Burkina Faso', 'Burundi', 'Burundi', 'Cambodia', 'Cambodia', 'Cameroon', 'Canada', 'Cape Verde', 'Cayman Islands', 'Central African Republic', 'Chad', 'Chad', 'Chile', 'Chile', 'China', 'Christmas Island', 'Cocos (Keeling) Islands', 'Colombia', 'Comoros', 'Congo', 'Congo, The Democratic Republic of the', 'Cook Islands', 'Costa Rica', 'Croatia', 'Cuba', 'Curaçao', 'Cyprus', 'Czech Republic', \"Côte d'Ivoire\", 'Denmark', 'Djibouti', 'Dominica', 'Dominican Republic', 'Ecuador', 'Egypt', 'El Salvador', 'Equatorial Guinea', 'Eritrea', 'Estonia', 'Ethiopia', 'Falkland Islands (Malvinas)', 'Faroe Islands', 'Fiji', 'Finland', 'France', 'French Guiana', 'French Polynesia', 'French Southern Territories', 'Gabon', 'Gambia', 'Georgia', 'Germany', 'Ghana', 'Gibraltar', 'Greece', 'Greenland', 'Grenada', 'Guadeloupe', 'Guam', 'Guatemala', 'Guernsey', 'Guinea', 'Guinea-Bissau', 'Guyana', 'Haiti', 'Heard Island and McDonald Islands', 'Holy See (Vatican City State)', 'Honduras', 'Hong Kong', 'Hungary', 'Iceland', 'India', 'India', 'Indonesia', 'Iran, Islamic Republic of', 'Iraq', 'Ireland', 'Isle of Man', 'Israel', 'Italy', 'Jacobovakia', 'Jamaica', 'Japan', 'Jersey', 'Jordan', 'Kazakhstan', 'Kenya', 'Kiribati', \"Korea, Democratic People's Republic of\", 'Korea, Republic of', 'Kuwait', 'Kyrgyzstan', \"Lao People's Democratic Republic\", 'Latvia', 'Lebanon', 'Lesotho', 'Liberia', 'Libya', 'Liechtenstein', 'Lithuania', 'Luxembourg', 'Macao', 'Macedonia, Republic of', 'Madagascar', 'Malawi', 'Malaysia', 'Maldives', 'Mali', 'Malta', 'Marshall Islands', 'Martinique', 'Mauritania', 'Mauritius', 'Mayotte', 'Mexico', 'Micronesia, Federated States of', 'Moldova, Republic of', 'Monaco', 'Mongolia', 'Montenegro', 'Montserrat', 'Morocco', 'Mozambique', 'Myanmar', 'Namibia', 'Nauru', 'Nepal', 'Netherlands', 'New Caledonia', 'New Zealand', 'Nicaragua', 'Niger', 'Nigeria', 'Niue', 'Norfolk Island', 'Northern Mariana Islands', 'Norway', 'Oman', 'Pakistan', 'Palau', 'Palestinian Territory, Occupied', 'Panama', 'Papua New Guinea', 'Paraguay', 'Peru', 'Philippines', 'Pitcairn', 'Poland', 'Portugal', 'Puerto Rico', 'Qatar', 'Romania', 'Russian Federation', 'Rwanda', 'Réunion', 'Saint Barthélemy', 'Saint Helena, Ascension and Tristan da Cunha', 'Saint Kitts and Nevis', 'Saint Lucia', 'Saint Martin (French part)', 'Saint Pierre and Miquelon', 'Saint Vincent and the Grenadines', 'Samoa', 'San Marino', 'Sao Tome and Principe', 'Saudi Arabia', 'Senegal', 'Serbia', 'Seychelles', 'Sierra Leone', 'Singapore', 'Sint Maarten (Dutch part)', 'Slovakia', 'Slovenia', 'Solomon Islands', 'Somalia', 'South Africa', 'South Georgia and the South Sandwich Islands', 'South Sudan', 'Spain', 'Sri Lanka', 'Sudan', 'Suriname', 'Svalbard and Jan Mayen', 'Swaziland', 'Sweden', 'Switzerland', 'Syrian Arab Republic', 'Taiwan, Province of China', 'Tajikistan', 'Tanzania, United Republic of', 'Thailand', 'The Federated States of Alejandro', \"The People's Republic of Steve\", 'Timor-Leste', 'Togo', 'Tokelau', 'Tonga', 'Trinidad and Tobago', 'Tunisia', 'Turkey', 'Turkmenistan', 'Turks and Caicos Islands', 'Tuvalu', 'Uganda', 'Ukraine', 'United Arab Emirates', 'United Kingdom', 'United States', 'United States Minor Outlying Islands', 'Uruguay', 'Uzbekistan', 'Vanuatu', 'Venezuela, Bolivarian Republic of', 'Viet Nam', 'Virgin Islands, British', 'Virgin Islands, U.S.', 'Walidistan', 'Wallis and Futuna', 'Yemen', 'Zambia', 'Zimbabwe']\n"
     ]
    }
   ],
   "source": [
    "#For loop here:\n",
    "country_list1 = ['Afghanistan', 'Aland Islands', 'Albania', 'Algeria', 'American Samoa', 'Andorra', 'Angola', 'Anguilla', 'Antarctica', 'Antigua and Barbuda', 'Argentina', 'Armenia', 'Aruba', 'Australia', 'Austria', 'Azerbaijan', 'Bahamas', 'Bahrain', 'Bangladesh', 'Barbados', 'Belarus', 'Belgium', 'Belize', 'Benin', 'Bermuda', 'Bhutan', 'Bolivia, Plurinational State of', 'Bonaire, Sint Eustatius and Saba', 'Bosnia and Herzegovina', 'Botswana', 'Bouvet Island', 'Brazil', 'British Indian Ocean Territory', 'Brunei Darussalam', 'Bulgaria', 'Burkina Faso', 'Burundi', 'Cambodia', 'Cameroon', 'Canada', 'Cape Verde', 'Cayman Islands', 'Central African Republic', 'Chad', 'Chile', 'China', 'Christmas Island', 'Cocos (Keeling) Islands', 'Colombia', 'Comoros', 'Congo', 'Congo, The Democratic Republic of the', 'Cook Islands', 'Costa Rica', \"Côte d'Ivoire\", 'Croatia', 'Cuba', 'Curaçao', 'Cyprus', 'Czech Republic', 'Denmark', 'Djibouti', 'Dominica', 'Dominican Republic', 'Ecuador', 'Egypt', 'El Salvador', 'Equatorial Guinea', 'Eritrea', 'Estonia', 'Ethiopia', 'Falkland Islands (Malvinas)', 'Faroe Islands', 'Fiji', 'Finland', 'France', 'French Guiana', 'French Polynesia', 'French Southern Territories', 'Gabon', 'Gambia', 'Georgia', 'Germany', 'Ghana', 'Gibraltar', 'Greece', 'Greenland', 'Grenada', 'Guadeloupe', 'Guam', 'Guatemala', 'Guernsey', 'Guinea', 'Guinea-Bissau', 'Guyana', 'Haiti', 'Heard Island and McDonald Islands', 'Holy See (Vatican City State)', 'Honduras', 'Hong Kong', 'Hungary', 'Iceland', 'India', 'Indonesia', 'Iran, Islamic Republic of', 'Iraq', 'Ireland', 'Isle of Man', 'Israel', 'Italy', 'Jamaica', 'Japan', 'Jersey', 'Jordan', 'Kazakhstan', 'Kenya', 'Kiribati', \"Korea, Democratic People's Republic of\", 'Korea, Republic of', 'Kuwait', 'Kyrgyzstan', \"Lao People's Democratic Republic\", 'Latvia', 'Lebanon', 'Lesotho', 'Liberia', 'Libya', 'Liechtenstein', 'Lithuania', 'Luxembourg', 'Macao', 'Macedonia, Republic of', 'Madagascar', 'Malawi', 'Malaysia', 'Maldives', 'Mali', 'Malta', 'Marshall Islands', 'Martinique', 'Mauritania', 'Mauritius', 'Mayotte', 'Mexico', 'Micronesia, Federated States of', 'Moldova, Republic of', 'Monaco', 'Mongolia', 'Montenegro', 'Montserrat', 'Morocco', 'Mozambique', 'Myanmar', 'Namibia', 'Nauru', 'Nepal', 'Netherlands', 'New Caledonia', 'New Zealand', 'Nicaragua', 'Niger', 'Nigeria', 'Niue', 'Norfolk Island', 'Northern Mariana Islands', 'Norway', 'Oman', 'Pakistan', 'Palau', 'Palestinian Territory, Occupied', 'Panama', 'Papua New Guinea', 'Paraguay', 'Peru', 'Philippines', 'Pitcairn', 'Poland', 'Portugal', 'Puerto Rico', 'Qatar', 'Réunion', 'Romania', 'Russian Federation', 'Rwanda', 'Saint Barthélemy', 'Saint Helena, Ascension and Tristan da Cunha', 'Saint Kitts and Nevis', 'Saint Lucia', 'Saint Martin (French part)', 'Saint Pierre and Miquelon', 'Saint Vincent and the Grenadines', 'Samoa', 'San Marino', 'Sao Tome and Principe', 'Saudi Arabia', 'Senegal', 'Serbia', 'Seychelles', 'Sierra Leone', 'Singapore', 'Sint Maarten (Dutch part)', 'Slovakia', 'Slovenia', 'Solomon Islands', 'Somalia', 'South Africa', 'South Georgia and the South Sandwich Islands', 'Spain', 'Sri Lanka', 'Sudan', 'Suriname', 'South Sudan', 'Svalbard and Jan Mayen', 'Swaziland', 'Sweden', 'Switzerland', 'Syrian Arab Republic', 'Taiwan, Province of China', 'Tajikistan', 'Tanzania, United Republic of', 'Thailand', 'Timor-Leste', 'Togo', 'Tokelau', 'Tonga', 'Trinidad and Tobago', 'Tunisia', 'Turkey', 'Turkmenistan', 'Turks and Caicos Islands', 'Tuvalu', 'Uganda', 'Ukraine', 'United Arab Emirates', 'United Kingdom', 'United States', 'United States Minor Outlying Islands', 'Uruguay', 'Uzbekistan', 'Vanuatu', 'Venezuela, Bolivarian Republic of', 'Viet Nam', 'Virgin Islands, British', 'Virgin Islands, U.S.', 'Wallis and Futuna', 'Yemen', 'Zambia', 'Zimbabwe']\n",
    "some_names1 =['Argentina', 'India', 'Alexlandia', 'Walidistan', \"The People's Republic of Steve\", 'The Federated States of Alejandro', 'Burundi', 'Cambodia','Jacobovakia', 'Chad', 'Chile']\n",
    "for more in some_names1:\n",
    "    country_list1.append(more)\n",
    "alpha_country_list1=sorted(country_list1)\n",
    "print(alpha_country_list1)"
   ]
  },
  {
   "cell_type": "code",
   "execution_count": 18,
   "id": "f11217be",
   "metadata": {},
   "outputs": [
    {
     "name": "stdout",
     "output_type": "stream",
     "text": [
      "['Afghanistan', 'Aland Islands', 'Albania', 'Alexlandia', 'Algeria', 'American Samoa', 'Andorra', 'Angola', 'Anguilla', 'Antarctica', 'Antigua and Barbuda', 'Argentina', 'Armenia', 'Aruba', 'Australia', 'Austria', 'Azerbaijan', 'Bahamas', 'Bahrain', 'Bangladesh', 'Barbados', 'Belarus', 'Belgium', 'Belize', 'Benin', 'Bermuda', 'Bhutan', 'Bolivia, Plurinational State of', 'Bonaire, Sint Eustatius and Saba', 'Bosnia and Herzegovina', 'Botswana', 'Bouvet Island', 'Brazil', 'British Indian Ocean Territory', 'Brunei Darussalam', 'Bulgaria', 'Burkina Faso', 'Burundi', 'Cambodia', 'Cameroon', 'Canada', 'Cape Verde', 'Cayman Islands', 'Central African Republic', 'Chad', 'Chile', 'China', 'Christmas Island', 'Cocos (Keeling) Islands', 'Colombia', 'Comoros', 'Congo', 'Congo, The Democratic Republic of the', 'Cook Islands', 'Costa Rica', 'Croatia', 'Cuba', 'Curaçao', 'Cyprus', 'Czech Republic', \"Côte d'Ivoire\", 'Denmark', 'Djibouti', 'Dominica', 'Dominican Republic', 'Ecuador', 'Egypt', 'El Salvador', 'Equatorial Guinea', 'Eritrea', 'Estonia', 'Ethiopia', 'Falkland Islands (Malvinas)', 'Faroe Islands', 'Fiji', 'Finland', 'France', 'French Guiana', 'French Polynesia', 'French Southern Territories', 'Gabon', 'Gambia', 'Georgia', 'Germany', 'Ghana', 'Gibraltar', 'Greece', 'Greenland', 'Grenada', 'Guadeloupe', 'Guam', 'Guatemala', 'Guernsey', 'Guinea', 'Guinea-Bissau', 'Guyana', 'Haiti', 'Heard Island and McDonald Islands', 'Holy See (Vatican City State)', 'Honduras', 'Hong Kong', 'Hungary', 'Iceland', 'India', 'Indonesia', 'Iran, Islamic Republic of', 'Iraq', 'Ireland', 'Isle of Man', 'Israel', 'Italy', 'Jacobovakia', 'Jamaica', 'Japan', 'Jersey', 'Jordan', 'Kazakhstan', 'Kenya', 'Kiribati', \"Korea, Democratic People's Republic of\", 'Korea, Republic of', 'Kuwait', 'Kyrgyzstan', \"Lao People's Democratic Republic\", 'Latvia', 'Lebanon', 'Lesotho', 'Liberia', 'Libya', 'Liechtenstein', 'Lithuania', 'Luxembourg', 'Macao', 'Macedonia, Republic of', 'Madagascar', 'Malawi', 'Malaysia', 'Maldives', 'Mali', 'Malta', 'Marshall Islands', 'Martinique', 'Mauritania', 'Mauritius', 'Mayotte', 'Mexico', 'Micronesia, Federated States of', 'Moldova, Republic of', 'Monaco', 'Mongolia', 'Montenegro', 'Montserrat', 'Morocco', 'Mozambique', 'Myanmar', 'Namibia', 'Nauru', 'Nepal', 'Netherlands', 'New Caledonia', 'New Zealand', 'Nicaragua', 'Niger', 'Nigeria', 'Niue', 'Norfolk Island', 'Northern Mariana Islands', 'Norway', 'Oman', 'Pakistan', 'Palau', 'Palestinian Territory, Occupied', 'Panama', 'Papua New Guinea', 'Paraguay', 'Peru', 'Philippines', 'Pitcairn', 'Poland', 'Portugal', 'Puerto Rico', 'Qatar', 'Romania', 'Russian Federation', 'Rwanda', 'Réunion', 'Saint Barthélemy', 'Saint Helena, Ascension and Tristan da Cunha', 'Saint Kitts and Nevis', 'Saint Lucia', 'Saint Martin (French part)', 'Saint Pierre and Miquelon', 'Saint Vincent and the Grenadines', 'Samoa', 'San Marino', 'Sao Tome and Principe', 'Saudi Arabia', 'Senegal', 'Serbia', 'Seychelles', 'Sierra Leone', 'Singapore', 'Sint Maarten (Dutch part)', 'Slovakia', 'Slovenia', 'Solomon Islands', 'Somalia', 'South Africa', 'South Georgia and the South Sandwich Islands', 'South Sudan', 'Spain', 'Sri Lanka', 'Sudan', 'Suriname', 'Svalbard and Jan Mayen', 'Swaziland', 'Sweden', 'Switzerland', 'Syrian Arab Republic', 'Taiwan, Province of China', 'Tajikistan', 'Tanzania, United Republic of', 'Thailand', 'The Federated States of Alejandro', \"The People's Republic of Steve\", 'Timor-Leste', 'Togo', 'Tokelau', 'Tonga', 'Trinidad and Tobago', 'Tunisia', 'Turkey', 'Turkmenistan', 'Turks and Caicos Islands', 'Tuvalu', 'Uganda', 'Ukraine', 'United Arab Emirates', 'United Kingdom', 'United States', 'United States Minor Outlying Islands', 'Uruguay', 'Uzbekistan', 'Vanuatu', 'Venezuela, Bolivarian Republic of', 'Viet Nam', 'Virgin Islands, British', 'Virgin Islands, U.S.', 'Walidistan', 'Wallis and Futuna', 'Yemen', 'Zambia', 'Zimbabwe']\n"
     ]
    }
   ],
   "source": [
    "#List comprehension here:\n",
    "country_list2 = ['Afghanistan', 'Aland Islands', 'Albania', 'Algeria', 'American Samoa', 'Andorra', 'Angola', 'Anguilla', 'Antarctica', 'Antigua and Barbuda', 'Argentina', 'Armenia', 'Aruba', 'Australia', 'Austria', 'Azerbaijan', 'Bahamas', 'Bahrain', 'Bangladesh', 'Barbados', 'Belarus', 'Belgium', 'Belize', 'Benin', 'Bermuda', 'Bhutan', 'Bolivia, Plurinational State of', 'Bonaire, Sint Eustatius and Saba', 'Bosnia and Herzegovina', 'Botswana', 'Bouvet Island', 'Brazil', 'British Indian Ocean Territory', 'Brunei Darussalam', 'Bulgaria', 'Burkina Faso', 'Burundi', 'Cambodia', 'Cameroon', 'Canada', 'Cape Verde', 'Cayman Islands', 'Central African Republic', 'Chad', 'Chile', 'China', 'Christmas Island', 'Cocos (Keeling) Islands', 'Colombia', 'Comoros', 'Congo', 'Congo, The Democratic Republic of the', 'Cook Islands', 'Costa Rica', \"Côte d'Ivoire\", 'Croatia', 'Cuba', 'Curaçao', 'Cyprus', 'Czech Republic', 'Denmark', 'Djibouti', 'Dominica', 'Dominican Republic', 'Ecuador', 'Egypt', 'El Salvador', 'Equatorial Guinea', 'Eritrea', 'Estonia', 'Ethiopia', 'Falkland Islands (Malvinas)', 'Faroe Islands', 'Fiji', 'Finland', 'France', 'French Guiana', 'French Polynesia', 'French Southern Territories', 'Gabon', 'Gambia', 'Georgia', 'Germany', 'Ghana', 'Gibraltar', 'Greece', 'Greenland', 'Grenada', 'Guadeloupe', 'Guam', 'Guatemala', 'Guernsey', 'Guinea', 'Guinea-Bissau', 'Guyana', 'Haiti', 'Heard Island and McDonald Islands', 'Holy See (Vatican City State)', 'Honduras', 'Hong Kong', 'Hungary', 'Iceland', 'India', 'Indonesia', 'Iran, Islamic Republic of', 'Iraq', 'Ireland', 'Isle of Man', 'Israel', 'Italy', 'Jamaica', 'Japan', 'Jersey', 'Jordan', 'Kazakhstan', 'Kenya', 'Kiribati', \"Korea, Democratic People's Republic of\", 'Korea, Republic of', 'Kuwait', 'Kyrgyzstan', \"Lao People's Democratic Republic\", 'Latvia', 'Lebanon', 'Lesotho', 'Liberia', 'Libya', 'Liechtenstein', 'Lithuania', 'Luxembourg', 'Macao', 'Macedonia, Republic of', 'Madagascar', 'Malawi', 'Malaysia', 'Maldives', 'Mali', 'Malta', 'Marshall Islands', 'Martinique', 'Mauritania', 'Mauritius', 'Mayotte', 'Mexico', 'Micronesia, Federated States of', 'Moldova, Republic of', 'Monaco', 'Mongolia', 'Montenegro', 'Montserrat', 'Morocco', 'Mozambique', 'Myanmar', 'Namibia', 'Nauru', 'Nepal', 'Netherlands', 'New Caledonia', 'New Zealand', 'Nicaragua', 'Niger', 'Nigeria', 'Niue', 'Norfolk Island', 'Northern Mariana Islands', 'Norway', 'Oman', 'Pakistan', 'Palau', 'Palestinian Territory, Occupied', 'Panama', 'Papua New Guinea', 'Paraguay', 'Peru', 'Philippines', 'Pitcairn', 'Poland', 'Portugal', 'Puerto Rico', 'Qatar', 'Réunion', 'Romania', 'Russian Federation', 'Rwanda', 'Saint Barthélemy', 'Saint Helena, Ascension and Tristan da Cunha', 'Saint Kitts and Nevis', 'Saint Lucia', 'Saint Martin (French part)', 'Saint Pierre and Miquelon', 'Saint Vincent and the Grenadines', 'Samoa', 'San Marino', 'Sao Tome and Principe', 'Saudi Arabia', 'Senegal', 'Serbia', 'Seychelles', 'Sierra Leone', 'Singapore', 'Sint Maarten (Dutch part)', 'Slovakia', 'Slovenia', 'Solomon Islands', 'Somalia', 'South Africa', 'South Georgia and the South Sandwich Islands', 'Spain', 'Sri Lanka', 'Sudan', 'Suriname', 'South Sudan', 'Svalbard and Jan Mayen', 'Swaziland', 'Sweden', 'Switzerland', 'Syrian Arab Republic', 'Taiwan, Province of China', 'Tajikistan', 'Tanzania, United Republic of', 'Thailand', 'Timor-Leste', 'Togo', 'Tokelau', 'Tonga', 'Trinidad and Tobago', 'Tunisia', 'Turkey', 'Turkmenistan', 'Turks and Caicos Islands', 'Tuvalu', 'Uganda', 'Ukraine', 'United Arab Emirates', 'United Kingdom', 'United States', 'United States Minor Outlying Islands', 'Uruguay', 'Uzbekistan', 'Vanuatu', 'Venezuela, Bolivarian Republic of', 'Viet Nam', 'Virgin Islands, British', 'Virgin Islands, U.S.', 'Wallis and Futuna', 'Yemen', 'Zambia', 'Zimbabwe']\n",
    "some_names2 =['Argentina', 'India', 'Alexlandia', 'Walidistan', \"The People's Republic of Steve\", 'The Federated States of Alejandro', 'Burundi', 'Cambodia','Jacobovakia', 'Chad', 'Chile']\n",
    "\n",
    "country_list2.extend([more2 for more2 in some_names2 if more2 not in country_list2])\n",
    "alpha_country_list2=sorted(country_list2)\n",
    "print(alpha_country_list2)"
   ]
  },
  {
   "cell_type": "markdown",
   "id": "57353ac4",
   "metadata": {},
   "source": [
    "Extract countries with names longer than 6 characters and append them to a list called \"longer than 6\""
   ]
  },
  {
   "cell_type": "code",
   "execution_count": 19,
   "id": "09dcae19",
   "metadata": {},
   "outputs": [
    {
     "name": "stdout",
     "output_type": "stream",
     "text": [
      "['Afghanistan', 'Aland Islands', 'Albania', 'Alexlandia', 'Algeria', 'American Samoa', 'Andorra', 'Anguilla', 'Antarctica', 'Antigua and Barbuda', 'Argentina', 'Argentina', 'Armenia', 'Australia', 'Austria', 'Azerbaijan', 'Bahamas', 'Bahrain', 'Bangladesh', 'Barbados', 'Belarus', 'Belgium', 'Bermuda', 'Bolivia, Plurinational State of', 'Bonaire, Sint Eustatius and Saba', 'Bosnia and Herzegovina', 'Botswana', 'Bouvet Island', 'British Indian Ocean Territory', 'Brunei Darussalam', 'Bulgaria', 'Burkina Faso', 'Burundi', 'Burundi', 'Cambodia', 'Cambodia', 'Cameroon', 'Cape Verde', 'Cayman Islands', 'Central African Republic', 'Christmas Island', 'Cocos (Keeling) Islands', 'Colombia', 'Comoros', 'Congo, The Democratic Republic of the', 'Cook Islands', 'Costa Rica', 'Croatia', 'Curaçao', 'Czech Republic', \"Côte d'Ivoire\", 'Denmark', 'Djibouti', 'Dominica', 'Dominican Republic', 'Ecuador', 'El Salvador', 'Equatorial Guinea', 'Eritrea', 'Estonia', 'Ethiopia', 'Falkland Islands (Malvinas)', 'Faroe Islands', 'Finland', 'French Guiana', 'French Polynesia', 'French Southern Territories', 'Georgia', 'Germany', 'Gibraltar', 'Greenland', 'Grenada', 'Guadeloupe', 'Guatemala', 'Guernsey', 'Guinea-Bissau', 'Heard Island and McDonald Islands', 'Holy See (Vatican City State)', 'Honduras', 'Hong Kong', 'Hungary', 'Iceland', 'Indonesia', 'Iran, Islamic Republic of', 'Ireland', 'Isle of Man', 'Jacobovakia', 'Jamaica', 'Kazakhstan', 'Kiribati', \"Korea, Democratic People's Republic of\", 'Korea, Republic of', 'Kyrgyzstan', \"Lao People's Democratic Republic\", 'Lebanon', 'Lesotho', 'Liberia', 'Liechtenstein', 'Lithuania', 'Luxembourg', 'Macedonia, Republic of', 'Madagascar', 'Malaysia', 'Maldives', 'Marshall Islands', 'Martinique', 'Mauritania', 'Mauritius', 'Mayotte', 'Micronesia, Federated States of', 'Moldova, Republic of', 'Mongolia', 'Montenegro', 'Montserrat', 'Morocco', 'Mozambique', 'Myanmar', 'Namibia', 'Netherlands', 'New Caledonia', 'New Zealand', 'Nicaragua', 'Nigeria', 'Norfolk Island', 'Northern Mariana Islands', 'Pakistan', 'Palestinian Territory, Occupied', 'Papua New Guinea', 'Paraguay', 'Philippines', 'Pitcairn', 'Portugal', 'Puerto Rico', 'Romania', 'Russian Federation', 'Réunion', 'Saint Barthélemy', 'Saint Helena, Ascension and Tristan da Cunha', 'Saint Kitts and Nevis', 'Saint Lucia', 'Saint Martin (French part)', 'Saint Pierre and Miquelon', 'Saint Vincent and the Grenadines', 'San Marino', 'Sao Tome and Principe', 'Saudi Arabia', 'Senegal', 'Seychelles', 'Sierra Leone', 'Singapore', 'Sint Maarten (Dutch part)', 'Slovakia', 'Slovenia', 'Solomon Islands', 'Somalia', 'South Africa', 'South Georgia and the South Sandwich Islands', 'South Sudan', 'Sri Lanka', 'Suriname', 'Svalbard and Jan Mayen', 'Swaziland', 'Switzerland', 'Syrian Arab Republic', 'Taiwan, Province of China', 'Tajikistan', 'Tanzania, United Republic of', 'Thailand', 'The Federated States of Alejandro', \"The People's Republic of Steve\", 'Timor-Leste', 'Tokelau', 'Trinidad and Tobago', 'Tunisia', 'Turkmenistan', 'Turks and Caicos Islands', 'Ukraine', 'United Arab Emirates', 'United Kingdom', 'United States', 'United States Minor Outlying Islands', 'Uruguay', 'Uzbekistan', 'Vanuatu', 'Venezuela, Bolivarian Republic of', 'Viet Nam', 'Virgin Islands, British', 'Virgin Islands, U.S.', 'Walidistan', 'Wallis and Futuna', 'Zimbabwe']\n"
     ]
    }
   ],
   "source": [
    " #for loop here:\n",
    "country_longer_than_6=[]\n",
    "for countries in alpha_country_list1:\n",
    "    if len(countries)>6:\n",
    "        country_longer_than_6.append(countries)\n",
    "print(country_longer_than_6)"
   ]
  },
  {
   "cell_type": "code",
   "execution_count": 20,
   "id": "de6650d3",
   "metadata": {},
   "outputs": [
    {
     "name": "stdout",
     "output_type": "stream",
     "text": [
      "['Afghanistan', 'Aland Islands', 'Albania', 'Alexlandia', 'Algeria', 'American Samoa', 'Andorra', 'Anguilla', 'Antarctica', 'Antigua and Barbuda', 'Argentina', 'Armenia', 'Australia', 'Austria', 'Azerbaijan', 'Bahamas', 'Bahrain', 'Bangladesh', 'Barbados', 'Belarus', 'Belgium', 'Bermuda', 'Bolivia, Plurinational State of', 'Bonaire, Sint Eustatius and Saba', 'Bosnia and Herzegovina', 'Botswana', 'Bouvet Island', 'British Indian Ocean Territory', 'Brunei Darussalam', 'Bulgaria', 'Burkina Faso', 'Burundi', 'Cambodia', 'Cameroon', 'Cape Verde', 'Cayman Islands', 'Central African Republic', 'Christmas Island', 'Cocos (Keeling) Islands', 'Colombia', 'Comoros', 'Congo, The Democratic Republic of the', 'Cook Islands', 'Costa Rica', 'Croatia', 'Curaçao', 'Czech Republic', \"Côte d'Ivoire\", 'Denmark', 'Djibouti', 'Dominica', 'Dominican Republic', 'Ecuador', 'El Salvador', 'Equatorial Guinea', 'Eritrea', 'Estonia', 'Ethiopia', 'Falkland Islands (Malvinas)', 'Faroe Islands', 'Finland', 'French Guiana', 'French Polynesia', 'French Southern Territories', 'Georgia', 'Germany', 'Gibraltar', 'Greenland', 'Grenada', 'Guadeloupe', 'Guatemala', 'Guernsey', 'Guinea-Bissau', 'Heard Island and McDonald Islands', 'Holy See (Vatican City State)', 'Honduras', 'Hong Kong', 'Hungary', 'Iceland', 'Indonesia', 'Iran, Islamic Republic of', 'Ireland', 'Isle of Man', 'Jacobovakia', 'Jamaica', 'Kazakhstan', 'Kiribati', \"Korea, Democratic People's Republic of\", 'Korea, Republic of', 'Kyrgyzstan', \"Lao People's Democratic Republic\", 'Lebanon', 'Lesotho', 'Liberia', 'Liechtenstein', 'Lithuania', 'Luxembourg', 'Macedonia, Republic of', 'Madagascar', 'Malaysia', 'Maldives', 'Marshall Islands', 'Martinique', 'Mauritania', 'Mauritius', 'Mayotte', 'Micronesia, Federated States of', 'Moldova, Republic of', 'Mongolia', 'Montenegro', 'Montserrat', 'Morocco', 'Mozambique', 'Myanmar', 'Namibia', 'Netherlands', 'New Caledonia', 'New Zealand', 'Nicaragua', 'Nigeria', 'Norfolk Island', 'Northern Mariana Islands', 'Pakistan', 'Palestinian Territory, Occupied', 'Papua New Guinea', 'Paraguay', 'Philippines', 'Pitcairn', 'Portugal', 'Puerto Rico', 'Romania', 'Russian Federation', 'Réunion', 'Saint Barthélemy', 'Saint Helena, Ascension and Tristan da Cunha', 'Saint Kitts and Nevis', 'Saint Lucia', 'Saint Martin (French part)', 'Saint Pierre and Miquelon', 'Saint Vincent and the Grenadines', 'San Marino', 'Sao Tome and Principe', 'Saudi Arabia', 'Senegal', 'Seychelles', 'Sierra Leone', 'Singapore', 'Sint Maarten (Dutch part)', 'Slovakia', 'Slovenia', 'Solomon Islands', 'Somalia', 'South Africa', 'South Georgia and the South Sandwich Islands', 'South Sudan', 'Sri Lanka', 'Suriname', 'Svalbard and Jan Mayen', 'Swaziland', 'Switzerland', 'Syrian Arab Republic', 'Taiwan, Province of China', 'Tajikistan', 'Tanzania, United Republic of', 'Thailand', 'The Federated States of Alejandro', \"The People's Republic of Steve\", 'Timor-Leste', 'Tokelau', 'Trinidad and Tobago', 'Tunisia', 'Turkmenistan', 'Turks and Caicos Islands', 'Ukraine', 'United Arab Emirates', 'United Kingdom', 'United States', 'United States Minor Outlying Islands', 'Uruguay', 'Uzbekistan', 'Vanuatu', 'Venezuela, Bolivarian Republic of', 'Viet Nam', 'Virgin Islands, British', 'Virgin Islands, U.S.', 'Walidistan', 'Wallis and Futuna', 'Zimbabwe']\n"
     ]
    }
   ],
   "source": [
    " #list comprehension here:\n",
    "countries_longer_than_6 = [country for country in alpha_country_list2 if len(country) > 6]\n",
    "print(countries_longer_than_6)"
   ]
  },
  {
   "cell_type": "markdown",
   "id": "6397f8fe",
   "metadata": {},
   "source": [
    "## Dictionaries\n",
    "\n",
    "Create a Python dictionary named world_population that contains the following key-value pairs, where keys represent country names and values represent their respective populations.\n",
    "\n",
    "China: 1.41 billion\n",
    "India: 1.34 billion\n",
    "United States: 331 million\n",
    "Indonesia: 276 million\n",
    "Pakistan: 225 million"
   ]
  },
  {
   "cell_type": "code",
   "execution_count": 21,
   "id": "fb797754",
   "metadata": {},
   "outputs": [
    {
     "data": {
      "text/plain": [
       "{'China': '1.41 billion',\n",
       " 'India': '1.34 billion',\n",
       " 'United States': '331 million',\n",
       " 'Indonesia': '276 million',\n",
       " 'Pakistan': '225 million'}"
      ]
     },
     "execution_count": 21,
     "metadata": {},
     "output_type": "execute_result"
    }
   ],
   "source": [
    "world_population={\"China\":\"1.41 billion\",\n",
    "                  \"India\":\"1.34 billion\",\n",
    "                  \"United States\":\"331 million\",\n",
    "                  \"Indonesia\":\"276 million\",\n",
    "                  \"Pakistan\":\"225 million\"\n",
    "                 }\n",
    "world_population"
   ]
  },
  {
   "cell_type": "markdown",
   "id": "84251198",
   "metadata": {},
   "source": [
    "\n",
    "Write a Python program that allows a user to input a country name and then displays the population of that country. Be sure to include error handling for cases where the entered country is not in your world_population dictionary.\n"
   ]
  },
  {
   "cell_type": "code",
   "execution_count": 22,
   "id": "ab68ded0",
   "metadata": {},
   "outputs": [
    {
     "name": "stdout",
     "output_type": "stream",
     "text": [
      "Enter Country Name: Russia\n",
      "Error: Country not found in the dictionary\n",
      "Enter Country Name: China\n",
      "1.41 billion\n"
     ]
    }
   ],
   "source": [
    "while True:\n",
    "    country_name=input(\"Enter Country Name: \")\n",
    "    if country_name in world_population.keys():\n",
    "        print(world_population[country_name])\n",
    "        break\n",
    "    else:\n",
    "        print(\"Error: Country not found in the dictionary\")"
   ]
  },
  {
   "cell_type": "markdown",
   "id": "a5ac5c59",
   "metadata": {},
   "source": [
    "Update the world_population dictionary to reflect the following changes:\n",
    "\n",
    "Add Brazil with a population of 213 million.\n",
    "Update China's population to 1.40 billion.\n",
    "Remove Pakistan from the dictionary.\n",
    "Write a Python program to perform these updates and display the updated dictionary."
   ]
  },
  {
   "cell_type": "code",
   "execution_count": 23,
   "id": "319eb235",
   "metadata": {},
   "outputs": [
    {
     "data": {
      "text/plain": [
       "{'China': '1.40 billion',\n",
       " 'India': '1.34 billion',\n",
       " 'United States': '331 million',\n",
       " 'Indonesia': '276 million',\n",
       " 'Brazil': '213 million'}"
      ]
     },
     "execution_count": 23,
     "metadata": {},
     "output_type": "execute_result"
    }
   ],
   "source": [
    "world_population[\"China\"]=\"1.40 billion\"\n",
    "world_population[\"Brazil\"]=\"213 million\"\n",
    "del world_population[\"Pakistan\"]\n",
    "world_population"
   ]
  },
  {
   "cell_type": "markdown",
   "id": "5b6daeeb",
   "metadata": {},
   "source": [
    "Write a Python program that:\n",
    "\n",
    "Displays the country with the largest population.\n",
    "Displays the country with the smallest population.\n",
    "Calculates and displays the average population of the countries in the world_population dictionary."
   ]
  },
  {
   "cell_type": "code",
   "execution_count": 24,
   "id": "c4a78252",
   "metadata": {},
   "outputs": [
    {
     "name": "stdout",
     "output_type": "stream",
     "text": [
      "Country with the largest population: China\n",
      "Country with the smallest population: Brazil\n",
      "{'China': 1400000000, 'India': 1340000000, 'United States': 331000000, 'Indonesia': 276000000, 'Brazil': 213000000, 'Average World Population': '712000000 '}\n"
     ]
    }
   ],
   "source": [
    "world_population[\"China\"]=\"1400 million\"\n",
    "world_population[\"India\"]=\"1340 million\"\n",
    "\n",
    "for country, population in world_population.items():\n",
    "    world_population[country] = int(population.replace(\" million\", \"000000\"))\n",
    "\n",
    "largest_population_country = max(world_population, key=world_population.get)\n",
    "smallest_population_country = min(world_population, key=world_population.get)\n",
    "print(f\"Country with the largest population: {largest_population_country}\")\n",
    "print(f\"Country with the smallest population: {smallest_population_country}\")\n",
    "\n",
    "total_population = sum(world_population.values())\n",
    "average_population = total_population / len(world_population)\n",
    "world_population[\"Average World Population\"]=f\"{average_population:.0f} \"\n",
    "print(world_population)"
   ]
  },
  {
   "cell_type": "markdown",
   "id": "3ecca8e3",
   "metadata": {},
   "source": [
    "Use the .keys() method to return a view object that displays a list of all the keys in the dictionary."
   ]
  },
  {
   "cell_type": "code",
   "execution_count": 25,
   "id": "9c06eee2",
   "metadata": {},
   "outputs": [
    {
     "data": {
      "text/plain": [
       "dict_keys(['China', 'India', 'United States', 'Indonesia', 'Brazil', 'Average World Population'])"
      ]
     },
     "execution_count": 25,
     "metadata": {},
     "output_type": "execute_result"
    }
   ],
   "source": [
    "#Your code here:\n",
    "world_population.keys()"
   ]
  },
  {
   "cell_type": "markdown",
   "id": "a03dbfb4",
   "metadata": {},
   "source": [
    "Use the .values() method to return a view object that displays a list of all the values in the dictionary."
   ]
  },
  {
   "cell_type": "code",
   "execution_count": 26,
   "id": "b1cf262d",
   "metadata": {},
   "outputs": [
    {
     "data": {
      "text/plain": [
       "dict_values([1400000000, 1340000000, 331000000, 276000000, 213000000, '712000000 '])"
      ]
     },
     "execution_count": 26,
     "metadata": {},
     "output_type": "execute_result"
    }
   ],
   "source": [
    "world_population.values()"
   ]
  },
  {
   "cell_type": "markdown",
   "id": "f781c4bb",
   "metadata": {},
   "source": [
    "Use the .items() method to return key, value pairs in a print statement that states \"The population of the {country} is the {population} With the appropriate countries and populations for each."
   ]
  },
  {
   "cell_type": "code",
   "execution_count": 27,
   "id": "21da1d22",
   "metadata": {},
   "outputs": [
    {
     "data": {
      "text/plain": [
       "dict_items([('China', 1400000000), ('India', 1340000000), ('United States', 331000000), ('Indonesia', 276000000), ('Brazil', 213000000), ('Average World Population', '712000000 ')])"
      ]
     },
     "execution_count": 27,
     "metadata": {},
     "output_type": "execute_result"
    }
   ],
   "source": [
    "#Your code here:\n",
    "world_population.items()"
   ]
  },
  {
   "cell_type": "markdown",
   "id": "dd8a00d0",
   "metadata": {},
   "source": [
    "Given the following nested dictionary below, write code to print the author's name. \n"
   ]
  },
  {
   "cell_type": "code",
   "execution_count": 32,
   "id": "7a91adfd",
   "metadata": {},
   "outputs": [
    {
     "name": "stdout",
     "output_type": "stream",
     "text": [
      "['Harper Lee']\n"
     ]
    }
   ],
   "source": [
    "book = {\n",
    "    'title': 'To Kill a Mockingbird',\n",
    "    'author': {\n",
    "        'name': 'Harper Lee',\n",
    "        'birth_year': 1926\n",
    "    },\n",
    "    'published_year': 1960\n",
    "}\n",
    "\n",
    "author = []\n",
    "if 'author' in book and 'name' in book['author']:\n",
    "    author.append(book['author']['name'])\n",
    "\n",
    "print(author)"
   ]
  }
 ],
 "metadata": {
  "kernelspec": {
   "display_name": "Python 3 (ipykernel)",
   "language": "python",
   "name": "python3"
  },
  "language_info": {
   "codemirror_mode": {
    "name": "ipython",
    "version": 3
   },
   "file_extension": ".py",
   "mimetype": "text/x-python",
   "name": "python",
   "nbconvert_exporter": "python",
   "pygments_lexer": "ipython3",
   "version": "3.11.4"
  }
 },
 "nbformat": 4,
 "nbformat_minor": 5
}
