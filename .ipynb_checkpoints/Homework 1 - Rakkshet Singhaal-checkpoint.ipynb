{
 "cells": [
  {
   "cell_type": "markdown",
   "metadata": {},
   "source": [
    "# Homework 1:\n",
    "This assignment is due at 11:59 PM the day before class.\n",
    "\n",
    "## 1.1 GitHub Exercise\n",
    "\n",
    "This is a simple exercise designed to give you practice using GitHub. Additionally the following questions are meant to stimulate you to think about how innovation arises and propagates. Please choose one person (out of the two) that you think made a larger difference in technology and state your reasons why. Type your answers in \"markdown\" (cell type from menu above) **Cell -> Cell Type -> Markdown**\n",
    "\n",
    "Bill Gates or Gary Kidall? "
   ]
  },
  {
   "cell_type": "markdown",
   "metadata": {},
   "source": [
    "Bill Gates: Even though Gary Kindall made a substantial contribution to the world of computers, Bill Gates is more well-known than Gary Kindall. Bill Gates co-founded Microsoft, a business that was essential to the development of the personal computer and the software sector.  His name and legacy are closely associated with the computer era and philanthropy on a global scale, making him a more prominent figure in view."
   ]
  },
  {
   "cell_type": "markdown",
   "metadata": {},
   "source": [
    "Thomas Edison or Nicola Tesla?"
   ]
  },
  {
   "cell_type": "markdown",
   "metadata": {},
   "source": [
    "Tesla: Tesla was ahead of his time. Though his inventions were not fully realized during his lifetime, they continue to inspire modern technological advancements."
   ]
  },
  {
   "cell_type": "markdown",
   "metadata": {},
   "source": [
    "Rosalind Franklin or Watson and Crick?"
   ]
  },
  {
   "cell_type": "markdown",
   "metadata": {},
   "source": [
    "Franklin: Franklin's meticulous research and commitment to scientific rigor was crucial to the knowledge of DNA's structure, despite the discrimination she encountered due to her gender throughout her career. Her work merits credit for its crucial part in this scientific advancement since it set the groundwork for our current understanding of genetics."
   ]
  },
  {
   "cell_type": "markdown",
   "metadata": {},
   "source": [
    "Steve(Jobs or Wozniak)?"
   ]
  },
  {
   "cell_type": "markdown",
   "metadata": {},
   "source": [
    "Steve Jobs: Though Wozniak was a brilliant in engineering, Jobs' broader impact on the world of technology and culture makes him the standout choice."
   ]
  },
  {
   "cell_type": "markdown",
   "metadata": {},
   "source": [
    "How might modern data science be disruptive to Global Affairs? "
   ]
  },
  {
   "cell_type": "markdown",
   "metadata": {},
   "source": [
    "Though data science has transformed research and decision-making, it also opens up a lot of new potential for the field of global affairs. However, I think an over-reliance on data science  might obscure the complex human aspects of global politics.  Neglecting the human element might result in distorted viewpoints and inadequate solutions. To avoid the problems of relying too much on data alone, I think it is essential to harmonize data science with human judgment."
   ]
  },
  {
   "cell_type": "markdown",
   "metadata": {},
   "source": [
    "##  1.2 Using Git and GitHub\n",
    "\n",
    "### Note: For full credit, please detail each step and provide an example for answers that require multiple steps \n",
    "\n",
    "__What is the difference between Git and GitHub?__\n",
    "\n",
    "\n",
    "\n",
    "\n",
    "\n",
    "\n",
    "\n"
   ]
  },
  {
   "cell_type": "markdown",
   "metadata": {},
   "source": [
    "GitHub is a hosting service for Git repositories, whereas Git is a version control system, i.e. tools that help manage changes to source code over time."
   ]
  },
  {
   "cell_type": "markdown",
   "metadata": {},
   "source": [
    "__How do I clone a repository from GitHub?__"
   ]
  },
  {
   "cell_type": "markdown",
   "metadata": {},
   "source": [
    "Steps to clone repository on GitHub Desktop:\n",
    "    Step 1: Open the App\n",
    "    Step 2: Click on “Clone a Repository from the Internet”\n",
    "    Step 3: Select the repository you would like to clone, for instance for our class we did “Jacksonpython/Fall-2023” \n",
    "    Step 4: Select the location where you would like to save the repository by clicking “Choose” under “Local Path”\n",
    "    Step 5: Press Clone”"
   ]
  },
  {
   "cell_type": "markdown",
   "metadata": {},
   "source": [
    "__What are the three steps for sending work from my local machine to GitHub?__"
   ]
  },
  {
   "cell_type": "markdown",
   "metadata": {},
   "source": [
    "Steps to send work from system to GitHub:\n",
    "    Step 1: Once your work is complete and saved on Jupyter Notebook, go back to your repository where the original file is saved, and you will see the file you worked upon under “Changes”\n",
    "    Step 2: Select the file you want to send, add a comment and press “Commit to Main”\n",
    "    Step 3: Under “Push commits to the origin remote” click on “Push origin”"
   ]
  },
  {
   "cell_type": "markdown",
   "metadata": {},
   "source": [
    "__How do I pull assignments from the main branch once they're posted?__"
   ]
  },
  {
   "cell_type": "markdown",
   "metadata": {},
   "source": [
    "Pulling file from GitHub Web:\n",
    "    Step 1: Go to Fall-2023 folder on Github\n",
    "    Step 2: Select the file you would like to pull from the folder\n",
    "    Step 3: On right side of the page, click on download button"
   ]
  },
  {
   "cell_type": "markdown",
   "metadata": {},
   "source": [
    "__If I am stuck on a homework problem, the first thing I should do is ... (pick the correct answer)__\n",
    "1. Drop the class and blame the teacher\n",
    "2. Email Abby or Casey\n",
    "3. Consult stackoverflow, ChatGPT, and try different solutions"
   ]
  },
  {
   "cell_type": "markdown",
   "metadata": {},
   "source": [
    "If I’m stuck with a problem, I will follow a three step plan. First, I would Consult stackoverflow, ChatGPT, and try different solutions. If I’m still stuck I can try to get in touch with a fellow classmate and get their help. Lastly, if nothing works, I will email Abby or Prof. Casey."
   ]
  },
  {
   "cell_type": "markdown",
   "metadata": {},
   "source": [
    "__What is the difference between a program and an algorithm?__"
   ]
  },
  {
   "cell_type": "markdown",
   "metadata": {},
   "source": [
    "A program is a set of commands written in a programming language that a computer can carry out, whereas an algorithm is a series of steps for addressing a problem that may or may not be implemented as a program."
   ]
  },
  {
   "cell_type": "markdown",
   "metadata": {},
   "source": [
    "__Give two examples of higher level programming languages?__"
   ]
  },
  {
   "cell_type": "markdown",
   "metadata": {},
   "source": [
    "Python and Java"
   ]
  },
  {
   "cell_type": "markdown",
   "metadata": {},
   "source": [
    "__Why is Python so popular?__"
   ]
  },
  {
   "cell_type": "markdown",
   "metadata": {},
   "source": [
    "Python is popular because it is easy to learn and readable syntax, making it easy to use for beginners while offering powerful tools for more advanced users."
   ]
  },
  {
   "cell_type": "markdown",
   "metadata": {},
   "source": [
    "__Ask ChatGPT to give you an example of a simple python program and run it here.__"
   ]
  },
  {
   "cell_type": "code",
   "execution_count": 1,
   "metadata": {},
   "outputs": [
    {
     "name": "stdout",
     "output_type": "stream",
     "text": [
      "1\n",
      "3\n",
      "5\n",
      "7\n",
      "9\n",
      "11\n",
      "13\n",
      "15\n",
      "17\n",
      "19\n"
     ]
    }
   ],
   "source": [
    "# Iterate through numbers from 1 to 20\n",
    "for num in range(1, 21):\n",
    "    # Check if the number is odd\n",
    "    if num % 2 != 0:\n",
    "        print(num)"
   ]
  },
  {
   "cell_type": "code",
   "execution_count": null,
   "metadata": {},
   "outputs": [],
   "source": []
  }
 ],
 "metadata": {
  "kernelspec": {
   "display_name": "Python 3 (ipykernel)",
   "language": "python",
   "name": "python3"
  },
  "language_info": {
   "codemirror_mode": {
    "name": "ipython",
    "version": 3
   },
   "file_extension": ".py",
   "mimetype": "text/x-python",
   "name": "python",
   "nbconvert_exporter": "python",
   "pygments_lexer": "ipython3",
   "version": "3.11.4"
  }
 },
 "nbformat": 4,
 "nbformat_minor": 4
}
