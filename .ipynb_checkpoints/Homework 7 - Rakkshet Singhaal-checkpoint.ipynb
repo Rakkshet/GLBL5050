{
 "cells": [
  {
   "cell_type": "markdown",
   "id": "b990c45b",
   "metadata": {},
   "source": [
    "# Homework 7\n",
    "\n",
    "Please read through and run Pandas code on series and data frames. After the \"series\" section, there are some problems for you to solve. Same goes for after the \"data frame\" section. Then there is a final question at the end of the notebook.\n"
   ]
  },
  {
   "cell_type": "markdown",
   "id": "8dc27154",
   "metadata": {},
   "source": [
    "## Python Pandas\n",
    "\n",
    "So what exactly is pandas– other than a really great name for a programming package? Pandas\n",
    "sits ontop of of an engine, a package called Numpy, which is an awesome, very fast package for\n",
    "analyzaing data. Panda takes all the power of NumPy, but it wraps it up in this user-friendly\n",
    "package. It gives us higher level tools that can do all of the things that we commonly do with data.\n",
    "\n",
    "\n",
    "A lot of the syntax for pandas was actually inspired by R. R is a very data-oriented language. So\n",
    "the syntax really emphasizes functional programming. It leads to very clean, very explicit code\n",
    "that really makes clear all of the operations that we want to perform on data. \n",
    "\n",
    "\n",
    "Let’s start with one of the two basic types in pandas, and that’s the series."
   ]
  },
  {
   "cell_type": "markdown",
   "id": "0ece331f",
   "metadata": {},
   "source": [
    "### Python Series\n",
    "You can think of a python series as a single column in a data table.\n",
    "Let's start with some imports\n",
    "Go ahead and run the imports below. Pandas sits on top of Numpy, as I mmentioned above, so we'll import that. . Pandas, which we typically import as PD; and then to do a little bit of plotting at the end, I’m also going to import this plotting librarywhich is matplotlib. And here is a little magic command that lets the plots that we create appear\n",
    "right here in the notebook. "
   ]
  },
  {
   "cell_type": "code",
   "execution_count": 1,
   "id": "a73c7414",
   "metadata": {},
   "outputs": [],
   "source": [
    "import numpy as np\n",
    "import pandas as pd\n",
    "import matplotlib.pyplot as plt\n",
    "\n",
    "%matplotlib inline"
   ]
  },
  {
   "cell_type": "markdown",
   "id": "bf92cbe7",
   "metadata": {},
   "source": [
    "OK. Let’s go ahead and start creating some series. So this is the type that we’re going to be\n",
    "creating. And if I want to create one, there’s a couple of ways to do it. One of the fastest is to\n",
    "just typecast a list. Below, feed in a list, in this case, representing grades.  Let’s do five grades."
   ]
  },
  {
   "cell_type": "code",
   "execution_count": 2,
   "id": "f25acce7",
   "metadata": {},
   "outputs": [],
   "source": [
    "grades= pd.Series([85,78,72, 83, 92])"
   ]
  },
  {
   "cell_type": "markdown",
   "id": "6243a899",
   "metadata": {},
   "source": [
    "And then one thing that I can do– now this is totally optional, by the way– but I can supply a\n",
    "name if I want to. So I can call this midterm. So this is midterm grades.\n"
   ]
  },
  {
   "cell_type": "code",
   "execution_count": 3,
   "id": "d85c350a",
   "metadata": {},
   "outputs": [],
   "source": [
    "grades= pd.Series([85,78,72, 85, 92], name = 'midterm')"
   ]
  },
  {
   "cell_type": "code",
   "execution_count": 4,
   "id": "6d69fb6c",
   "metadata": {},
   "outputs": [
    {
     "data": {
      "text/plain": [
       "0    85\n",
       "1    78\n",
       "2    72\n",
       "3    85\n",
       "4    92\n",
       "Name: midterm, dtype: int64"
      ]
     },
     "execution_count": 4,
     "metadata": {},
     "output_type": "execute_result"
    }
   ],
   "source": [
    "grades\n",
    "#This is what a pandas series looks like"
   ]
  },
  {
   "cell_type": "markdown",
   "id": "622727b6",
   "metadata": {},
   "source": [
    "We can do a lot of operations on this. So, for example, I could use an expression like this to add a bonus point\n",
    "to every student."
   ]
  },
  {
   "cell_type": "code",
   "execution_count": 5,
   "id": "c792a148",
   "metadata": {},
   "outputs": [
    {
     "data": {
      "text/plain": [
       "0    86\n",
       "1    79\n",
       "2    73\n",
       "3    86\n",
       "4    93\n",
       "Name: midterm, dtype: int64"
      ]
     },
     "execution_count": 5,
     "metadata": {},
     "output_type": "execute_result"
    }
   ],
   "source": [
    "grades + 1"
   ]
  },
  {
   "cell_type": "markdown",
   "id": "93f30413",
   "metadata": {},
   "source": [
    "And you can see every grade became incremented by 1. I could also do a Boolean operation. I\n",
    "could take a look and see, well, which grades are greater than or maybe greater than or equal to\n",
    "90– so greater than or equal to. So here you can see, we’re checking to see which students actually\n",
    "got A’s here."
   ]
  },
  {
   "cell_type": "code",
   "execution_count": 6,
   "id": "5515285c",
   "metadata": {},
   "outputs": [
    {
     "data": {
      "text/plain": [
       "0    False\n",
       "1    False\n",
       "2    False\n",
       "3    False\n",
       "4     True\n",
       "Name: midterm, dtype: bool"
      ]
     },
     "execution_count": 6,
     "metadata": {},
     "output_type": "execute_result"
    }
   ],
   "source": [
    "grades >= 90"
   ]
  },
  {
   "cell_type": "markdown",
   "id": "b763b5a8",
   "metadata": {},
   "source": [
    "Let’s take another look at the components of our series. So this set of numbers is the data values.nd\n",
    "you can see down here we have the name that we put in. And then over here on the left we have\n",
    "this other set of values. And this is actually a new type of object that we haven’t seen before. This\n",
    "is something that we call an index. And I can access it using the index attribute of the series."
   ]
  },
  {
   "cell_type": "code",
   "execution_count": 7,
   "id": "d7ccf718",
   "metadata": {},
   "outputs": [
    {
     "data": {
      "text/plain": [
       "RangeIndex(start=0, stop=5, step=1)"
      ]
     },
     "execution_count": 7,
     "metadata": {},
     "output_type": "execute_result"
    }
   ],
   "source": [
    " grades.index"
   ]
  },
  {
   "cell_type": "markdown",
   "id": "00e58165",
   "metadata": {},
   "source": [
    "And here if I do this, you can see it’s telling me, well, I have a range index here. And I even know\n",
    "that it’s starting at zero, stopping at five.\n",
    "This isn’t the only option that you have for your index. And, actually, a lot of the time you may\n",
    "find it helpful to use strings as your index labels. So I could go ahead and set this index to be\n",
    "something else if I wanted to. So I’ll create a new index using pandas.index. And once again, I’m\n",
    "just going to be typecasting a list here.\n",
    "So let’s put in a couple of student names. "
   ]
  },
  {
   "cell_type": "code",
   "execution_count": 8,
   "id": "68c9450e",
   "metadata": {},
   "outputs": [],
   "source": [
    "grades.index = pd.Index(['Ben', 'Trupen', 'Fei Fei', 'Shandra', 'Manuel'])"
   ]
  },
  {
   "cell_type": "markdown",
   "id": "f452d139",
   "metadata": {},
   "source": [
    "And once again– actually, this is again totally optional, but I can supply a name at this point if I\n",
    "wanted to. I can tell– I can say this is the student index.\n"
   ]
  },
  {
   "cell_type": "code",
   "execution_count": 9,
   "id": "a166776b",
   "metadata": {},
   "outputs": [],
   "source": [
    "grades.index = pd.Index(['Ben', 'Trupen', 'Fei Fei', 'Shandra', 'Manuel'], name ='student')"
   ]
  },
  {
   "cell_type": "markdown",
   "id": "086d4775",
   "metadata": {},
   "source": [
    "And now if I take a look at grades again– well, you can see what happened. We have the same\n",
    "data as before. But now, look over here. We have the name of a student that indexes each row of\n",
    "data. So this can be really helpful a lot of the time"
   ]
  },
  {
   "cell_type": "code",
   "execution_count": 10,
   "id": "90e29d5c",
   "metadata": {},
   "outputs": [
    {
     "data": {
      "text/plain": [
       "student\n",
       "Ben        85\n",
       "Trupen     78\n",
       "Fei Fei    72\n",
       "Shandra    85\n",
       "Manuel     92\n",
       "Name: midterm, dtype: int64"
      ]
     },
     "execution_count": 10,
     "metadata": {},
     "output_type": "execute_result"
    }
   ],
   "source": [
    "grades"
   ]
  },
  {
   "cell_type": "markdown",
   "id": "5f080ca6",
   "metadata": {},
   "source": [
    "Now that we have this string index now, we can do things like access the values using the strings.\n",
    "For example, I can put in Ben here to find out what Ben’s grade is.\n"
   ]
  },
  {
   "cell_type": "code",
   "execution_count": 11,
   "id": "77cb3a41",
   "metadata": {},
   "outputs": [
    {
     "data": {
      "text/plain": [
       "85"
      ]
     },
     "execution_count": 11,
     "metadata": {},
     "output_type": "execute_result"
    }
   ],
   "source": [
    "grades['Ben']"
   ]
  },
  {
   "cell_type": "markdown",
   "id": "5da337a6",
   "metadata": {},
   "source": [
    "It tells me he got– Ben got an 85. It can also put in a sequence. So, for example, let’s put in a list\n",
    "that has both Ben and Trupen.\n"
   ]
  },
  {
   "cell_type": "code",
   "execution_count": 12,
   "id": "0a4fc83e",
   "metadata": {},
   "outputs": [
    {
     "data": {
      "text/plain": [
       "student\n",
       "Ben       85\n",
       "Trupen    78\n",
       "Name: midterm, dtype: int64"
      ]
     },
     "execution_count": 12,
     "metadata": {},
     "output_type": "execute_result"
    }
   ],
   "source": [
    "grades[['Ben','Trupen']]"
   ]
  },
  {
   "cell_type": "markdown",
   "id": "ae29aaf1",
   "metadata": {},
   "source": [
    "And you can see, you got both of their grades. You can see, actually, I get another series. This is\n",
    "a series that’s shorter than the original series, but it has the same values that we had before.\n",
    "We can also do Boolean selection. So let’s say, before we took a look at which grades were A’s,\n",
    "so just like that, I can put that back into the bracket, the bracket indexing, and just pull out a\n",
    "subseries that only contains those students that have A’s. So that can be helpful a lot of the time"
   ]
  },
  {
   "cell_type": "code",
   "execution_count": 13,
   "id": "813dcf60",
   "metadata": {},
   "outputs": [
    {
     "data": {
      "text/plain": [
       "student\n",
       "Manuel    92\n",
       "Name: midterm, dtype: int64"
      ]
     },
     "execution_count": 13,
     "metadata": {},
     "output_type": "execute_result"
    }
   ],
   "source": [
    "grades[grades>=90]"
   ]
  },
  {
   "cell_type": "markdown",
   "id": "87bbbb8c",
   "metadata": {},
   "source": [
    "##  Pandas plotting\n",
    "Pandas is closely integrated with the really important plotting\n",
    "library, matplotlib. And so a lot of easy plots can be pulled up very quickly from pandas objects.\n",
    "So, for example, I can use the histogram method, which is just hist, and call that on the series.\n"
   ]
  },
  {
   "cell_type": "code",
   "execution_count": 14,
   "id": "f59049ae",
   "metadata": {},
   "outputs": [
    {
     "data": {
      "text/plain": [
       "<Axes: >"
      ]
     },
     "execution_count": 14,
     "metadata": {},
     "output_type": "execute_result"
    },
    {
     "data": {
      "image/png": "[encoded data removed]",
      "text/plain": [
       "<Figure size 640x480 with 1 Axes>"
      ]
     },
     "metadata": {},
     "output_type": "display_data"
    }
   ],
   "source": [
    "grades.hist()"
   ]
  },
  {
   "cell_type": "markdown",
   "id": "86b8107c",
   "metadata": {},
   "source": [
    "And I very quickly pull up a histogram of the grades. So you can imagine that’s just so convenient.\n",
    "If you’re doing an exploratory analysis, for example, you just want to have some visual aids very\n",
    "quickly to see what’s happening.\n",
    "I can go ahead and do some little alterations here. Maybe I’ve decided there’s too many bins here,\n",
    "so I’ll lower the number of bins."
   ]
  },
  {
   "cell_type": "code",
   "execution_count": 15,
   "id": "b6419bac",
   "metadata": {},
   "outputs": [
    {
     "data": {
      "text/plain": [
       "<Axes: >"
      ]
     },
     "execution_count": 15,
     "metadata": {},
     "output_type": "execute_result"
    },
    {
     "data": {
      "image/png": "[encoded data removed]",
      "text/plain": [
       "<Figure size 640x480 with 1 Axes>"
      ]
     },
     "metadata": {},
     "output_type": "display_data"
    }
   ],
   "source": [
    "grades.hist(bins=7)"
   ]
  },
  {
   "cell_type": "markdown",
   "id": "6a046448",
   "metadata": {},
   "source": [
    "And I can also set a title using plt.title. "
   ]
  },
  {
   "cell_type": "code",
   "execution_count": 16,
   "id": "9ab66a0c",
   "metadata": {},
   "outputs": [
    {
     "data": {
      "text/plain": [
       "Text(0.5, 1.0, 'Midterm Grades')"
      ]
     },
     "execution_count": 16,
     "metadata": {},
     "output_type": "execute_result"
    },
    {
     "data": {
      "image/png": "[encoded data removed]",
      "text/plain": [
       "<Figure size 640x480 with 1 Axes>"
      ]
     },
     "metadata": {},
     "output_type": "display_data"
    }
   ],
   "source": [
    "grades.hist(bins=7)\n",
    "plt.title(\"Midterm Grades\")"
   ]
  },
  {
   "cell_type": "markdown",
   "id": "e42fc94b",
   "metadata": {},
   "source": [
    "## Pandas.Series\n",
    "\n",
    "Create two Pandas Series objects. The first, named class_grades, should contain the grades of five students. Make up whatever grades you would like. The second should contain the names of five students. Please name at least one of the students \"Sarah\".\n",
    "\n",
    "After you make them, print both Series to the screen."
   ]
  },
  {
   "cell_type": "code",
   "execution_count": 17,
   "id": "154b715f",
   "metadata": {},
   "outputs": [
    {
     "data": {
      "text/plain": [
       "0    42\n",
       "1    64\n",
       "2    79\n",
       "3    81\n",
       "4    99\n",
       "Name: Final Grades, dtype: int64"
      ]
     },
     "execution_count": 17,
     "metadata": {},
     "output_type": "execute_result"
    }
   ],
   "source": [
    "class_grades=pd.Series([42,64,79,81,99], name = 'Final Grades')\n",
    "class_grades"
   ]
  },
  {
   "cell_type": "code",
   "execution_count": 18,
   "id": "d8774cd2",
   "metadata": {},
   "outputs": [
    {
     "data": {
      "text/plain": [
       "0        Jon\n",
       "1      Alice\n",
       "2    Vincent\n",
       "3       Mark\n",
       "4      Sarah\n",
       "dtype: object"
      ]
     },
     "execution_count": 18,
     "metadata": {},
     "output_type": "execute_result"
    }
   ],
   "source": [
    "student_names=pd.Series([\"Jon\",\"Alice\",\"Vincent\",\"Mark\",\"Sarah\"])\n",
    "student_names"
   ]
  },
  {
   "cell_type": "markdown",
   "id": "9a894649",
   "metadata": {},
   "source": [
    "\n",
    "Now let's examine the index of class_grades. Start by printing the index attribute of your Series to the screen.\n",
    "Then, update the index of class_grades to be equal to the values of student_names. That is, the student names will be the index of the grades. Print your new series.\n"
   ]
  },
  {
   "cell_type": "code",
   "execution_count": 19,
   "id": "7885a2a3",
   "metadata": {},
   "outputs": [
    {
     "data": {
      "text/plain": [
       "RangeIndex(start=0, stop=5, step=1)"
      ]
     },
     "execution_count": 19,
     "metadata": {},
     "output_type": "execute_result"
    }
   ],
   "source": [
    "class_grades.index"
   ]
  },
  {
   "cell_type": "code",
   "execution_count": 20,
   "id": "cb4bc44d",
   "metadata": {},
   "outputs": [
    {
     "data": {
      "text/plain": [
       "RangeIndex(start=0, stop=5, step=1)"
      ]
     },
     "execution_count": 20,
     "metadata": {},
     "output_type": "execute_result"
    }
   ],
   "source": [
    "student_names.index"
   ]
  },
  {
   "cell_type": "code",
   "execution_count": 21,
   "id": "8b90ef61",
   "metadata": {},
   "outputs": [
    {
     "data": {
      "text/plain": [
       "Names\n",
       "Jon        42\n",
       "Alice      64\n",
       "Vincent    79\n",
       "Mark       81\n",
       "Sarah      99\n",
       "Name: Final Grades, dtype: int64"
      ]
     },
     "execution_count": 21,
     "metadata": {},
     "output_type": "execute_result"
    }
   ],
   "source": [
    "class_grades.index=pd.Index(student_names, name='Names')\n",
    "class_grades"
   ]
  },
  {
   "cell_type": "markdown",
   "id": "09910101",
   "metadata": {},
   "source": [
    "Let's practice accessing elements of a data series. Use bracket notation to first pull out and print Sarah's grade. Then, use bracket notation to pull out Sarah's grade in addition to one other student.\n"
   ]
  },
  {
   "cell_type": "code",
   "execution_count": 22,
   "id": "90c6af59",
   "metadata": {},
   "outputs": [
    {
     "data": {
      "text/plain": [
       "99"
      ]
     },
     "execution_count": 22,
     "metadata": {},
     "output_type": "execute_result"
    }
   ],
   "source": [
    "class_grades['Sarah']"
   ]
  },
  {
   "cell_type": "code",
   "execution_count": 23,
   "id": "06ea5d82",
   "metadata": {},
   "outputs": [
    {
     "data": {
      "text/plain": [
       "Names\n",
       "Sarah    99\n",
       "Alice    64\n",
       "Name: Final Grades, dtype: int64"
      ]
     },
     "execution_count": 23,
     "metadata": {},
     "output_type": "execute_result"
    }
   ],
   "source": [
    "class_grades[['Sarah','Alice']]"
   ]
  },
  {
   "cell_type": "markdown",
   "id": "b429b70f",
   "metadata": {},
   "source": [
    "Now, use boolean notation to print out all students with a grade over 85. If none of your students have a grade that high, pick a different number.\n"
   ]
  },
  {
   "cell_type": "code",
   "execution_count": 24,
   "id": "f51ee8b8",
   "metadata": {},
   "outputs": [
    {
     "data": {
      "text/plain": [
       "Names\n",
       "Sarah    99\n",
       "Name: Final Grades, dtype: int64"
      ]
     },
     "execution_count": 24,
     "metadata": {},
     "output_type": "execute_result"
    }
   ],
   "source": [
    "class_grades[class_grades>85]"
   ]
  },
  {
   "cell_type": "markdown",
   "id": "47039226",
   "metadata": {},
   "source": [
    "You have decided that nobody deserves a grade over 85. You're so mean! Create a copy of your series called \"censored_grades\", and then use your boolean notation to replace any grades over an 85 with an 85."
   ]
  },
  {
   "cell_type": "code",
   "execution_count": 25,
   "id": "39738b02",
   "metadata": {},
   "outputs": [
    {
     "data": {
      "text/plain": [
       "Names\n",
       "Jon        42\n",
       "Alice      64\n",
       "Vincent    79\n",
       "Mark       81\n",
       "Sarah      85\n",
       "Name: Final Grades, dtype: int64"
      ]
     },
     "execution_count": 25,
     "metadata": {},
     "output_type": "execute_result"
    }
   ],
   "source": [
    "censored_grades=class_grades.clip(upper=85)\n",
    "censored_grades"
   ]
  },
  {
   "cell_type": "markdown",
   "id": "0206a31e",
   "metadata": {},
   "source": [
    "Generate histograms of both \"class_grades\" and \"censored_grades\". Use 5 bins in each.\n"
   ]
  },
  {
   "cell_type": "code",
   "execution_count": 26,
   "id": "cbb599c3",
   "metadata": {},
   "outputs": [
    {
     "data": {
      "text/plain": [
       "Text(0.5, 1.0, 'Final Class Grades')"
      ]
     },
     "execution_count": 26,
     "metadata": {},
     "output_type": "execute_result"
    },
    {
     "data": {
      "image/png": "[encoded data removed]",
      "text/plain": [
       "<Figure size 640x480 with 1 Axes>"
      ]
     },
     "metadata": {},
     "output_type": "display_data"
    }
   ],
   "source": [
    "class_grades.hist(bins=5)\n",
    "plt.title(\"Final Class Grades\")"
   ]
  },
  {
   "cell_type": "code",
   "execution_count": 27,
   "id": "36148f89",
   "metadata": {},
   "outputs": [
    {
     "data": {
      "text/plain": [
       "Text(0.5, 1.0, 'Final Censored Class Grades')"
      ]
     },
     "execution_count": 27,
     "metadata": {},
     "output_type": "execute_result"
    },
    {
     "data": {
      "image/png": "[encoded data removed]",
      "text/plain": [
       "<Figure size 640x480 with 1 Axes>"
      ]
     },
     "metadata": {},
     "output_type": "display_data"
    }
   ],
   "source": [
    "censored_grades.hist(bins=5)\n",
    "plt.title(\"Final Censored Class Grades\")"
   ]
  },
  {
   "cell_type": "markdown",
   "id": "899f9ea8",
   "metadata": {},
   "source": [
    "## Pandas DataFrames\n",
    "\n",
    "Let’s talk about the other major data type that we have in pandas, and that’s the data frame.\n",
    "OK, so a data frame is basically just what you get if you take a couple of series, and\n",
    "you combine them together side by side. So it’s a rectangular table that represents\n",
    "a table of data. And inside a data frame, every column that you have represents a variable, and\n",
    "that variable could have a different data type. "
   ]
  },
  {
   "cell_type": "markdown",
   "id": "43167225",
   "metadata": {},
   "source": [
    "So in order to create a data frame, I’m going to need a couple of series to combine, so just for the\n",
    "sake of brevity, I wrote a little code earlier to create some series. Take a quick look and see what\n",
    "I’m doing here, first to create a series of numbers that I’m going to call grades 1. And then I create\n",
    "another series of numbers that I call grades 2.\n"
   ]
  },
  {
   "cell_type": "code",
   "execution_count": 28,
   "id": "3bbcd6f0",
   "metadata": {},
   "outputs": [],
   "source": [
    "grades1 = pd.Series([88,78,92,56,79,92])\n",
    "grades2 = pd.Series([84,81,50,84,90,78])"
   ]
  },
  {
   "cell_type": "markdown",
   "id": "7eb989cc",
   "metadata": {},
   "source": [
    "Next, here I construct an index, and you can see it has a couple of names in it. I also give the\n",
    "index this name is called student, and I set grades 1 dot index to be this new index.\n",
    "\n"
   ]
  },
  {
   "cell_type": "code",
   "execution_count": 29,
   "id": "b22be4cf",
   "metadata": {},
   "outputs": [],
   "source": [
    "grades1.index = pd.Index([\"Ben\", \"Sue\", \"May\", \"Blake\", \"Amy\", \"Steve\"], name =\"student\")"
   ]
  },
  {
   "cell_type": "markdown",
   "id": "04e6fff7",
   "metadata": {},
   "source": [
    "And by the way, here’s a little trick, grades 2 dot index is actually set to the exact same index. So\n",
    "that’s a little fun fact. Pandas indices are actually immutable objects, and so it’s actually quite\n",
    "safe form more than one series to share the same index.\n"
   ]
  },
  {
   "cell_type": "code",
   "execution_count": 30,
   "id": "919d8797",
   "metadata": {},
   "outputs": [],
   "source": [
    "grades2.index = grades1.index"
   ]
  },
  {
   "cell_type": "markdown",
   "id": "4dad33a7",
   "metadata": {},
   "source": [
    "Let’s go ahead and execute that, and let’s just take a quick look to see what grades one looks like."
   ]
  },
  {
   "cell_type": "code",
   "execution_count": 31,
   "id": "47306dae",
   "metadata": {},
   "outputs": [
    {
     "data": {
      "text/plain": [
       "student\n",
       "Ben      88\n",
       "Sue      78\n",
       "May      92\n",
       "Blake    56\n",
       "Amy      79\n",
       "Steve    92\n",
       "dtype: int64"
      ]
     },
     "execution_count": 31,
     "metadata": {},
     "output_type": "execute_result"
    }
   ],
   "source": [
    "grades1"
   ]
  },
  {
   "cell_type": "markdown",
   "id": "afb3e312",
   "metadata": {},
   "source": [
    "I can see what grades 2 looks like. Same students, but different numbers. OK, so let’s go ahead\n",
    "and create a data frame."
   ]
  },
  {
   "cell_type": "code",
   "execution_count": 32,
   "id": "fa9ae6a9",
   "metadata": {},
   "outputs": [
    {
     "data": {
      "text/plain": [
       "student\n",
       "Ben      84\n",
       "Sue      81\n",
       "May      50\n",
       "Blake    84\n",
       "Amy      90\n",
       "Steve    78\n",
       "dtype: int64"
      ]
     },
     "execution_count": 32,
     "metadata": {},
     "output_type": "execute_result"
    }
   ],
   "source": [
    "grades2"
   ]
  },
  {
   "cell_type": "markdown",
   "id": "66a5647f",
   "metadata": {},
   "source": [
    "So one way to create a data frame, let’s call our data frame grade book.\n",
    "So I could take the data from constructor, pandas.dataframe. And one thing I could do is I could\n",
    "just pass in a list of the series that I want. So in this case grade 1, grades 2. And I want to take a\n",
    "look at it. \n"
   ]
  },
  {
   "cell_type": "code",
   "execution_count": 33,
   "id": "a816a332",
   "metadata": {},
   "outputs": [],
   "source": [
    "gradebook = pd.DataFrame([grades1, grades2])"
   ]
  },
  {
   "cell_type": "code",
   "execution_count": 34,
   "id": "9084a0e0",
   "metadata": {},
   "outputs": [
    {
     "data": {
      "text/html": [
       "<div>\n",
       "<style scoped>\n",
       "    .dataframe tbody tr th:only-of-type {\n",
       "        vertical-align: middle;\n",
       "    }\n",
       "\n",
       "    .dataframe tbody tr th {\n",
       "        vertical-align: top;\n",
       "    }\n",
       "\n",
       "    .dataframe thead th {\n",
       "        text-align: right;\n",
       "    }\n",
       "</style>\n",
       "<table border=\"1\" class=\"dataframe\">\n",
       "  <thead>\n",
       "    <tr style=\"text-align: right;\">\n",
       "      <th>student</th>\n",
       "      <th>Ben</th>\n",
       "      <th>Sue</th>\n",
       "      <th>May</th>\n",
       "      <th>Blake</th>\n",
       "      <th>Amy</th>\n",
       "      <th>Steve</th>\n",
       "    </tr>\n",
       "  </thead>\n",
       "  <tbody>\n",
       "    <tr>\n",
       "      <th>0</th>\n",
       "      <td>88</td>\n",
       "      <td>78</td>\n",
       "      <td>92</td>\n",
       "      <td>56</td>\n",
       "      <td>79</td>\n",
       "      <td>92</td>\n",
       "    </tr>\n",
       "    <tr>\n",
       "      <th>1</th>\n",
       "      <td>84</td>\n",
       "      <td>81</td>\n",
       "      <td>50</td>\n",
       "      <td>84</td>\n",
       "      <td>90</td>\n",
       "      <td>78</td>\n",
       "    </tr>\n",
       "  </tbody>\n",
       "</table>\n",
       "</div>"
      ],
      "text/plain": [
       "student  Ben  Sue  May  Blake  Amy  Steve\n",
       "0         88   78   92     56   79     92\n",
       "1         84   81   50     84   90     78"
      ]
     },
     "execution_count": 34,
     "metadata": {},
     "output_type": "execute_result"
    }
   ],
   "source": [
    "gradebook"
   ]
  },
  {
   "cell_type": "markdown",
   "id": "dca2f430",
   "metadata": {},
   "source": [
    "And there you have it. OK. Well, we have a data frame.\n"
   ]
  },
  {
   "cell_type": "markdown",
   "id": "7316eac4",
   "metadata": {},
   "source": [
    "It probably isn’t exactly what you were expecting, right? The students, we probably want the\n",
    "students to be along the rows, so one row per student, and one variable that represents the first\n",
    "grade and one variable that represents the second grade.\n",
    "Well, it’s actually pretty easy to fix this. I can take the transpose of a data frame.\n"
   ]
  },
  {
   "cell_type": "code",
   "execution_count": 35,
   "id": "bf8ad677",
   "metadata": {},
   "outputs": [],
   "source": [
    "gradebook = pd.DataFrame([grades1, grades2]).T"
   ]
  },
  {
   "cell_type": "code",
   "execution_count": 36,
   "id": "28c30ed8",
   "metadata": {},
   "outputs": [
    {
     "data": {
      "text/html": [
       "<div>\n",
       "<style scoped>\n",
       "    .dataframe tbody tr th:only-of-type {\n",
       "        vertical-align: middle;\n",
       "    }\n",
       "\n",
       "    .dataframe tbody tr th {\n",
       "        vertical-align: top;\n",
       "    }\n",
       "\n",
       "    .dataframe thead th {\n",
       "        text-align: right;\n",
       "    }\n",
       "</style>\n",
       "<table border=\"1\" class=\"dataframe\">\n",
       "  <thead>\n",
       "    <tr style=\"text-align: right;\">\n",
       "      <th></th>\n",
       "      <th>0</th>\n",
       "      <th>1</th>\n",
       "    </tr>\n",
       "    <tr>\n",
       "      <th>student</th>\n",
       "      <th></th>\n",
       "      <th></th>\n",
       "    </tr>\n",
       "  </thead>\n",
       "  <tbody>\n",
       "    <tr>\n",
       "      <th>Ben</th>\n",
       "      <td>88</td>\n",
       "      <td>84</td>\n",
       "    </tr>\n",
       "    <tr>\n",
       "      <th>Sue</th>\n",
       "      <td>78</td>\n",
       "      <td>81</td>\n",
       "    </tr>\n",
       "    <tr>\n",
       "      <th>May</th>\n",
       "      <td>92</td>\n",
       "      <td>50</td>\n",
       "    </tr>\n",
       "    <tr>\n",
       "      <th>Blake</th>\n",
       "      <td>56</td>\n",
       "      <td>84</td>\n",
       "    </tr>\n",
       "    <tr>\n",
       "      <th>Amy</th>\n",
       "      <td>79</td>\n",
       "      <td>90</td>\n",
       "    </tr>\n",
       "    <tr>\n",
       "      <th>Steve</th>\n",
       "      <td>92</td>\n",
       "      <td>78</td>\n",
       "    </tr>\n",
       "  </tbody>\n",
       "</table>\n",
       "</div>"
      ],
      "text/plain": [
       "          0   1\n",
       "student        \n",
       "Ben      88  84\n",
       "Sue      78  81\n",
       "May      92  50\n",
       "Blake    56  84\n",
       "Amy      79  90\n",
       "Steve    92  78"
      ]
     },
     "execution_count": 36,
     "metadata": {},
     "output_type": "execute_result"
    }
   ],
   "source": [
    "gradebook"
   ]
  },
  {
   "cell_type": "markdown",
   "id": "cfaf98be",
   "metadata": {},
   "source": [
    "And so I can just add the transpose method right there, or I can just access with the t attribute.\n",
    "So here you can see we have exactly what we were hoping for. OK, so you can see the index here is\n",
    "now a student, so the entire data frame has an index. And it does have this nice name of student,\n",
    "but unfortunately, our variables don’t have nice names. And there’s a reason for that.\n",
    "The reason is that back here when I constructed the series, the grades 1 and the grades 2 series. I\n",
    "didn’t give them a name attribute. And if I had, if I had, you know, set the argument here, name\n",
    "equals, you know, midterm, and name equals final, then those names would have really nicely ended\n",
    "8\n",
    "up here as the variable names. But because I didn’t do that, maybe I need to manually set the\n",
    "names right now. So let’s go ahead and do that. I can access those names using grade book dot\n",
    "columns. That’s the attribute."
   ]
  },
  {
   "cell_type": "code",
   "execution_count": 37,
   "id": "58597efe",
   "metadata": {},
   "outputs": [
    {
     "data": {
      "text/plain": [
       "RangeIndex(start=0, stop=2, step=1)"
      ]
     },
     "execution_count": 37,
     "metadata": {},
     "output_type": "execute_result"
    }
   ],
   "source": [
    "gradebook.columns"
   ]
  },
  {
   "cell_type": "markdown",
   "id": "ad9d98cb",
   "metadata": {},
   "source": [
    "You see, currently is just a range index. And I want to set that to something else.\n",
    "And it’s possible I could just supply a list, and it’ll get converted into an index, so midterm and\n",
    "final."
   ]
  },
  {
   "cell_type": "code",
   "execution_count": 38,
   "id": "215ada6b",
   "metadata": {},
   "outputs": [],
   "source": [
    "gradebook.columns=['midterm', 'final']"
   ]
  },
  {
   "cell_type": "markdown",
   "id": "66c08c08",
   "metadata": {},
   "source": [
    "Let’s take a look at that, and now, if I take a look at grade book again, you can see we have this\n",
    "really nice format. It looks like a really nice representation of the data."
   ]
  },
  {
   "cell_type": "code",
   "execution_count": 39,
   "id": "6e1e0d33",
   "metadata": {},
   "outputs": [
    {
     "data": {
      "text/html": [
       "<div>\n",
       "<style scoped>\n",
       "    .dataframe tbody tr th:only-of-type {\n",
       "        vertical-align: middle;\n",
       "    }\n",
       "\n",
       "    .dataframe tbody tr th {\n",
       "        vertical-align: top;\n",
       "    }\n",
       "\n",
       "    .dataframe thead th {\n",
       "        text-align: right;\n",
       "    }\n",
       "</style>\n",
       "<table border=\"1\" class=\"dataframe\">\n",
       "  <thead>\n",
       "    <tr style=\"text-align: right;\">\n",
       "      <th></th>\n",
       "      <th>midterm</th>\n",
       "      <th>final</th>\n",
       "    </tr>\n",
       "    <tr>\n",
       "      <th>student</th>\n",
       "      <th></th>\n",
       "      <th></th>\n",
       "    </tr>\n",
       "  </thead>\n",
       "  <tbody>\n",
       "    <tr>\n",
       "      <th>Ben</th>\n",
       "      <td>88</td>\n",
       "      <td>84</td>\n",
       "    </tr>\n",
       "    <tr>\n",
       "      <th>Sue</th>\n",
       "      <td>78</td>\n",
       "      <td>81</td>\n",
       "    </tr>\n",
       "    <tr>\n",
       "      <th>May</th>\n",
       "      <td>92</td>\n",
       "      <td>50</td>\n",
       "    </tr>\n",
       "    <tr>\n",
       "      <th>Blake</th>\n",
       "      <td>56</td>\n",
       "      <td>84</td>\n",
       "    </tr>\n",
       "    <tr>\n",
       "      <th>Amy</th>\n",
       "      <td>79</td>\n",
       "      <td>90</td>\n",
       "    </tr>\n",
       "    <tr>\n",
       "      <th>Steve</th>\n",
       "      <td>92</td>\n",
       "      <td>78</td>\n",
       "    </tr>\n",
       "  </tbody>\n",
       "</table>\n",
       "</div>"
      ],
      "text/plain": [
       "         midterm  final\n",
       "student                \n",
       "Ben           88     84\n",
       "Sue           78     81\n",
       "May           92     50\n",
       "Blake         56     84\n",
       "Amy           79     90\n",
       "Steve         92     78"
      ]
     },
     "execution_count": 39,
     "metadata": {},
     "output_type": "execute_result"
    }
   ],
   "source": [
    "gradebook"
   ]
  },
  {
   "cell_type": "markdown",
   "id": "0d3c9f3c",
   "metadata": {},
   "source": [
    "OK, let’s– I’d like to mention one other way of creating a data frame.\n",
    "This is one way to do it. And you can see it’s really simple to explain, but actually, in practice, I\n",
    "don’t use this method very much. A much more common strategy is to take a dictionary and pass\n",
    "it into the data frame constructor. So let me show you how I do that. I’ll start from scratch. I’ll\n",
    "say grade book, and you want to create new data frame. Now instead of passing in a list, I’ll create\n",
    "a new dictionary.\n",
    "And what goes into the dictionary is keys that become the variable name. So I want a variable\n",
    "name midterm, and I want the values to be grades 1, and then I want a variable name final. And\n",
    "I want the values to be grades 2.\n"
   ]
  },
  {
   "cell_type": "code",
   "execution_count": 40,
   "id": "2818378c",
   "metadata": {},
   "outputs": [],
   "source": [
    "gradebook = pd.DataFrame({'midterm': grades1, 'final':grades2})"
   ]
  },
  {
   "cell_type": "markdown",
   "id": "7fd47b27",
   "metadata": {},
   "source": [
    "And let’s take a look at the grade. Get out of that. OK, so this is really convenient, right, because,\n",
    "well, for one thing, I don’t have to take a transpose."
   ]
  },
  {
   "cell_type": "code",
   "execution_count": 41,
   "id": "a0712020",
   "metadata": {},
   "outputs": [
    {
     "data": {
      "text/html": [
       "<div>\n",
       "<style scoped>\n",
       "    .dataframe tbody tr th:only-of-type {\n",
       "        vertical-align: middle;\n",
       "    }\n",
       "\n",
       "    .dataframe tbody tr th {\n",
       "        vertical-align: top;\n",
       "    }\n",
       "\n",
       "    .dataframe thead th {\n",
       "        text-align: right;\n",
       "    }\n",
       "</style>\n",
       "<table border=\"1\" class=\"dataframe\">\n",
       "  <thead>\n",
       "    <tr style=\"text-align: right;\">\n",
       "      <th></th>\n",
       "      <th>midterm</th>\n",
       "      <th>final</th>\n",
       "    </tr>\n",
       "    <tr>\n",
       "      <th>student</th>\n",
       "      <th></th>\n",
       "      <th></th>\n",
       "    </tr>\n",
       "  </thead>\n",
       "  <tbody>\n",
       "    <tr>\n",
       "      <th>Ben</th>\n",
       "      <td>88</td>\n",
       "      <td>84</td>\n",
       "    </tr>\n",
       "    <tr>\n",
       "      <th>Sue</th>\n",
       "      <td>78</td>\n",
       "      <td>81</td>\n",
       "    </tr>\n",
       "    <tr>\n",
       "      <th>May</th>\n",
       "      <td>92</td>\n",
       "      <td>50</td>\n",
       "    </tr>\n",
       "    <tr>\n",
       "      <th>Blake</th>\n",
       "      <td>56</td>\n",
       "      <td>84</td>\n",
       "    </tr>\n",
       "    <tr>\n",
       "      <th>Amy</th>\n",
       "      <td>79</td>\n",
       "      <td>90</td>\n",
       "    </tr>\n",
       "    <tr>\n",
       "      <th>Steve</th>\n",
       "      <td>92</td>\n",
       "      <td>78</td>\n",
       "    </tr>\n",
       "  </tbody>\n",
       "</table>\n",
       "</div>"
      ],
      "text/plain": [
       "         midterm  final\n",
       "student                \n",
       "Ben           88     84\n",
       "Sue           78     81\n",
       "May           92     50\n",
       "Blake         56     84\n",
       "Amy           79     90\n",
       "Steve         92     78"
      ]
     },
     "execution_count": 41,
     "metadata": {},
     "output_type": "execute_result"
    }
   ],
   "source": [
    "gradebook"
   ]
  },
  {
   "cell_type": "markdown",
   "id": "ebbd8f6f",
   "metadata": {},
   "source": [
    "I get sort of these nice vertical variables, which is what we’re hoping for, and I can also pass in the\n",
    "variable names that I want as I’m constructing the data frame. But let’s say I wanted to change\n",
    "the order of these columns so that we had the finals column first, and then the midterm columns.\n",
    "There is a really easy way to order that.\n",
    "\n"
   ]
  },
  {
   "cell_type": "code",
   "execution_count": 42,
   "id": "819b3baf",
   "metadata": {},
   "outputs": [
    {
     "data": {
      "text/html": [
       "<div>\n",
       "<style scoped>\n",
       "    .dataframe tbody tr th:only-of-type {\n",
       "        vertical-align: middle;\n",
       "    }\n",
       "\n",
       "    .dataframe tbody tr th {\n",
       "        vertical-align: top;\n",
       "    }\n",
       "\n",
       "    .dataframe thead th {\n",
       "        text-align: right;\n",
       "    }\n",
       "</style>\n",
       "<table border=\"1\" class=\"dataframe\">\n",
       "  <thead>\n",
       "    <tr style=\"text-align: right;\">\n",
       "      <th></th>\n",
       "      <th>final</th>\n",
       "      <th>midterm</th>\n",
       "    </tr>\n",
       "    <tr>\n",
       "      <th>student</th>\n",
       "      <th></th>\n",
       "      <th></th>\n",
       "    </tr>\n",
       "  </thead>\n",
       "  <tbody>\n",
       "    <tr>\n",
       "      <th>Ben</th>\n",
       "      <td>84</td>\n",
       "      <td>88</td>\n",
       "    </tr>\n",
       "    <tr>\n",
       "      <th>Sue</th>\n",
       "      <td>81</td>\n",
       "      <td>78</td>\n",
       "    </tr>\n",
       "    <tr>\n",
       "      <th>May</th>\n",
       "      <td>50</td>\n",
       "      <td>92</td>\n",
       "    </tr>\n",
       "    <tr>\n",
       "      <th>Blake</th>\n",
       "      <td>84</td>\n",
       "      <td>56</td>\n",
       "    </tr>\n",
       "    <tr>\n",
       "      <th>Amy</th>\n",
       "      <td>90</td>\n",
       "      <td>79</td>\n",
       "    </tr>\n",
       "    <tr>\n",
       "      <th>Steve</th>\n",
       "      <td>78</td>\n",
       "      <td>92</td>\n",
       "    </tr>\n",
       "  </tbody>\n",
       "</table>\n",
       "</div>"
      ],
      "text/plain": [
       "         final  midterm\n",
       "student                \n",
       "Ben         84       88\n",
       "Sue         81       78\n",
       "May         50       92\n",
       "Blake       84       56\n",
       "Amy         90       79\n",
       "Steve       78       92"
      ]
     },
     "execution_count": 42,
     "metadata": {},
     "output_type": "execute_result"
    }
   ],
   "source": [
    "gradebook = pd.DataFrame({'midterm': grades1, 'final':grades2}, columns =['final', 'midterm'])\n",
    "gradebook"
   ]
  },
  {
   "cell_type": "markdown",
   "id": "29a3bbaf",
   "metadata": {},
   "source": [
    "In this case, it’s a pretty small data frame. This is what we have. And a lot of the time. Of course,\n",
    "your data frames will be a lot bigger than this, and if you just try to take a look at them the way\n",
    "that we’re doing here, they’ll fill up the screen, they’ll become really unruly. It’s hard to keep track\n",
    "of what you’re doing.\n",
    "And so a really common method that you have to use quite a bit is the Head Method. So you can\n",
    "take a look at this.\n"
   ]
  },
  {
   "cell_type": "code",
   "execution_count": 43,
   "id": "c5225d17",
   "metadata": {},
   "outputs": [
    {
     "data": {
      "text/html": [
       "<div>\n",
       "<style scoped>\n",
       "    .dataframe tbody tr th:only-of-type {\n",
       "        vertical-align: middle;\n",
       "    }\n",
       "\n",
       "    .dataframe tbody tr th {\n",
       "        vertical-align: top;\n",
       "    }\n",
       "\n",
       "    .dataframe thead th {\n",
       "        text-align: right;\n",
       "    }\n",
       "</style>\n",
       "<table border=\"1\" class=\"dataframe\">\n",
       "  <thead>\n",
       "    <tr style=\"text-align: right;\">\n",
       "      <th></th>\n",
       "      <th>final</th>\n",
       "      <th>midterm</th>\n",
       "    </tr>\n",
       "    <tr>\n",
       "      <th>student</th>\n",
       "      <th></th>\n",
       "      <th></th>\n",
       "    </tr>\n",
       "  </thead>\n",
       "  <tbody>\n",
       "    <tr>\n",
       "      <th>Ben</th>\n",
       "      <td>84</td>\n",
       "      <td>88</td>\n",
       "    </tr>\n",
       "    <tr>\n",
       "      <th>Sue</th>\n",
       "      <td>81</td>\n",
       "      <td>78</td>\n",
       "    </tr>\n",
       "    <tr>\n",
       "      <th>May</th>\n",
       "      <td>50</td>\n",
       "      <td>92</td>\n",
       "    </tr>\n",
       "    <tr>\n",
       "      <th>Blake</th>\n",
       "      <td>84</td>\n",
       "      <td>56</td>\n",
       "    </tr>\n",
       "    <tr>\n",
       "      <th>Amy</th>\n",
       "      <td>90</td>\n",
       "      <td>79</td>\n",
       "    </tr>\n",
       "  </tbody>\n",
       "</table>\n",
       "</div>"
      ],
      "text/plain": [
       "         final  midterm\n",
       "student                \n",
       "Ben         84       88\n",
       "Sue         81       78\n",
       "May         50       92\n",
       "Blake       84       56\n",
       "Amy         90       79"
      ]
     },
     "execution_count": 43,
     "metadata": {},
     "output_type": "execute_result"
    }
   ],
   "source": [
    "gradebook.head()"
   ]
  },
  {
   "cell_type": "markdown",
   "id": "5754caa6",
   "metadata": {},
   "source": [
    "And by default, what happens is the Head Method just pulls out a few of the rows for you to look\n",
    "at. In this case, I think we only had six rows to begin with, and we only lost one row. Looks like\n",
    "we only lost Steve, and we will use the head method.\n",
    "\n",
    "I could override the default number of rows. I could say, well, I want the first three rows, and this\n",
    "lets me just take a peek at what’s in the data frame"
   ]
  },
  {
   "cell_type": "code",
   "execution_count": 44,
   "id": "74313257",
   "metadata": {},
   "outputs": [
    {
     "data": {
      "text/html": [
       "<div>\n",
       "<style scoped>\n",
       "    .dataframe tbody tr th:only-of-type {\n",
       "        vertical-align: middle;\n",
       "    }\n",
       "\n",
       "    .dataframe tbody tr th {\n",
       "        vertical-align: top;\n",
       "    }\n",
       "\n",
       "    .dataframe thead th {\n",
       "        text-align: right;\n",
       "    }\n",
       "</style>\n",
       "<table border=\"1\" class=\"dataframe\">\n",
       "  <thead>\n",
       "    <tr style=\"text-align: right;\">\n",
       "      <th></th>\n",
       "      <th>final</th>\n",
       "      <th>midterm</th>\n",
       "    </tr>\n",
       "    <tr>\n",
       "      <th>student</th>\n",
       "      <th></th>\n",
       "      <th></th>\n",
       "    </tr>\n",
       "  </thead>\n",
       "  <tbody>\n",
       "    <tr>\n",
       "      <th>Ben</th>\n",
       "      <td>84</td>\n",
       "      <td>88</td>\n",
       "    </tr>\n",
       "    <tr>\n",
       "      <th>Sue</th>\n",
       "      <td>81</td>\n",
       "      <td>78</td>\n",
       "    </tr>\n",
       "    <tr>\n",
       "      <th>May</th>\n",
       "      <td>50</td>\n",
       "      <td>92</td>\n",
       "    </tr>\n",
       "  </tbody>\n",
       "</table>\n",
       "</div>"
      ],
      "text/plain": [
       "         final  midterm\n",
       "student                \n",
       "Ben         84       88\n",
       "Sue         81       78\n",
       "May         50       92"
      ]
     },
     "execution_count": 44,
     "metadata": {},
     "output_type": "execute_result"
    }
   ],
   "source": [
    "gradebook.head(3)"
   ]
  },
  {
   "cell_type": "markdown",
   "id": "72ca1b40",
   "metadata": {},
   "source": [
    "You’re going to find that as you’re manipulating, reshaping your data frames and your variables,\n",
    "you’re going to want to do this a lot, because you always want to be taking a peek and making\n",
    "sure that your data frame is really in the form that you expect it to be in. Otherwise, it’s really\n",
    "easy to make mistakes.\n",
    "\n",
    "\n",
    "OK, now let’s say that we have this data frame, and we want to get to work manipulating some\n",
    "individual variables, some individual columns. So it’s important to know how to– you know, we’ve\n",
    "put these variables together. How do you separate? How do you get a column back out of the data\n",
    "frame?\n",
    "\n",
    "\n",
    "One way to do it is using dictionary notation. So we’ll take grade book. We’ll open bracket, just like\n",
    "for a dictionary look up, and we’ll say, well, we want the midterm. And you can see, we managed\n",
    "to get the midterm variable as a series.\n"
   ]
  },
  {
   "cell_type": "code",
   "execution_count": 45,
   "id": "fcf6b938",
   "metadata": {},
   "outputs": [
    {
     "data": {
      "text/plain": [
       "student\n",
       "Ben      88\n",
       "Sue      78\n",
       "May      92\n",
       "Blake    56\n",
       "Amy      79\n",
       "Steve    92\n",
       "Name: midterm, dtype: int64"
      ]
     },
     "execution_count": 45,
     "metadata": {},
     "output_type": "execute_result"
    }
   ],
   "source": [
    "gradebook['midterm']"
   ]
  },
  {
   "cell_type": "markdown",
   "id": "a25fe8aa",
   "metadata": {},
   "source": [
    "There’s actually something much easier that we could do here, because the variable name that we\n",
    "chose doesn’t have any spaces in it. Doesn’t have any special characters. And so there’s a really\n",
    "nice notation. We could use what we call attribute notation and pull out the midterm like this"
   ]
  },
  {
   "cell_type": "code",
   "execution_count": 46,
   "id": "06db8dca",
   "metadata": {},
   "outputs": [
    {
     "data": {
      "text/plain": [
       "student\n",
       "Ben      88\n",
       "Sue      78\n",
       "May      92\n",
       "Blake    56\n",
       "Amy      79\n",
       "Steve    92\n",
       "Name: midterm, dtype: int64"
      ]
     },
     "execution_count": 46,
     "metadata": {},
     "output_type": "execute_result"
    }
   ],
   "source": [
    "gradebook.midterm"
   ]
  },
  {
   "cell_type": "markdown",
   "id": "5decb799",
   "metadata": {},
   "source": [
    "And so there’s a really nice notation. We could use what we call attribute notation and pull out the midterm like this. So if you look at this, you can kind of imagine if there was a space here, of course, it wouldn’t work.\n",
    "It would look like not a single attribute to Python, and so it would throw with some kind of error.\n",
    "But this is a really nice notation. It makes it very easy to type. It makes it really easy to interpret\n",
    "your code, and so I would say that it’s actually worth going through the trouble of trying to come\n",
    "up with variable names that don’t have spaces, that don’t have special characters, just so that you\n",
    "can use this type of attribute notation.\n",
    "It’s also worth pointing out that one nice side effect of attribute notation is I can start typing. So\n",
    "I just typed in mi, and then I’m going to hit Tab right now. And you can see it’s going to try\n",
    "to autocomplete. So in this case, we have– I can either look for the minimum method. That’s\n",
    "something that we haven’t talked about yet. Probably if I just typed in the D, it will complete the\n",
    "entire variable name for me. So I get the midterm is going to save some time. It’s going to make\n",
    "it extra easy to type and write out my expressions the way that I want."
   ]
  },
  {
   "cell_type": "code",
   "execution_count": 47,
   "id": "6fc1c747",
   "metadata": {},
   "outputs": [
    {
     "data": {
      "text/plain": [
       "student\n",
       "Ben      88\n",
       "Sue      78\n",
       "May      92\n",
       "Blake    56\n",
       "Amy      79\n",
       "Steve    92\n",
       "Name: midterm, dtype: int64"
      ]
     },
     "execution_count": 47,
     "metadata": {},
     "output_type": "execute_result"
    }
   ],
   "source": [
    "gradebook.midterm"
   ]
  },
  {
   "cell_type": "markdown",
   "id": "c7b4ac34",
   "metadata": {},
   "source": [
    "OK, what if– this is how you pull out of columns. What if you want to pull out a row from the data\n",
    "table? We’ll have a lot more to say about this later on, but just really quickly, I want to point out\n",
    "that you can’t just– you might think that you could do something like dictionary notation, maybe.\n",
    "I want the grades that go with Ben. This doesn’t work, unfortunately.\n"
   ]
  },
  {
   "cell_type": "code",
   "execution_count": 48,
   "id": "06d44cbd",
   "metadata": {
    "scrolled": true
   },
   "outputs": [
    {
     "ename": "KeyError",
     "evalue": "'Ben'",
     "output_type": "error",
     "traceback": [
      "\u001b[0;31m---------------------------------------------------------------------------\u001b[0m",
      "\u001b[0;31mKeyError\u001b[0m                                  Traceback (most recent call last)",
      "File \u001b[0;32m~/anaconda3/lib/python3.11/site-packages/pandas/core/indexes/base.py:3802\u001b[0m, in \u001b[0;36mIndex.get_loc\u001b[0;34m(self, key, method, tolerance)\u001b[0m\n\u001b[1;32m   3801\u001b[0m \u001b[38;5;28;01mtry\u001b[39;00m:\n\u001b[0;32m-> 3802\u001b[0m     \u001b[38;5;28;01mreturn\u001b[39;00m \u001b[38;5;28mself\u001b[39m\u001b[38;5;241m.\u001b[39m_engine\u001b[38;5;241m.\u001b[39mget_loc(casted_key)\n\u001b[1;32m   3803\u001b[0m \u001b[38;5;28;01mexcept\u001b[39;00m \u001b[38;5;167;01mKeyError\u001b[39;00m \u001b[38;5;28;01mas\u001b[39;00m err:\n",
      "File \u001b[0;32m~/anaconda3/lib/python3.11/site-packages/pandas/_libs/index.pyx:138\u001b[0m, in \u001b[0;36mpandas._libs.index.IndexEngine.get_loc\u001b[0;34m()\u001b[0m\n",
      "File \u001b[0;32m~/anaconda3/lib/python3.11/site-packages/pandas/_libs/index.pyx:165\u001b[0m, in \u001b[0;36mpandas._libs.index.IndexEngine.get_loc\u001b[0;34m()\u001b[0m\n",
      "File \u001b[0;32mpandas/_libs/hashtable_class_helper.pxi:5745\u001b[0m, in \u001b[0;36mpandas._libs.hashtable.PyObjectHashTable.get_item\u001b[0;34m()\u001b[0m\n",
      "File \u001b[0;32mpandas/_libs/hashtable_class_helper.pxi:5753\u001b[0m, in \u001b[0;36mpandas._libs.hashtable.PyObjectHashTable.get_item\u001b[0;34m()\u001b[0m\n",
      "\u001b[0;31mKeyError\u001b[0m: 'Ben'",
      "\nThe above exception was the direct cause of the following exception:\n",
      "\u001b[0;31mKeyError\u001b[0m                                  Traceback (most recent call last)",
      "Cell \u001b[0;32mIn[48], line 1\u001b[0m\n\u001b[0;32m----> 1\u001b[0m gradebook[\u001b[38;5;124m'\u001b[39m\u001b[38;5;124mBen\u001b[39m\u001b[38;5;124m'\u001b[39m]\n",
      "File \u001b[0;32m~/anaconda3/lib/python3.11/site-packages/pandas/core/frame.py:3807\u001b[0m, in \u001b[0;36mDataFrame.__getitem__\u001b[0;34m(self, key)\u001b[0m\n\u001b[1;32m   3805\u001b[0m \u001b[38;5;28;01mif\u001b[39;00m \u001b[38;5;28mself\u001b[39m\u001b[38;5;241m.\u001b[39mcolumns\u001b[38;5;241m.\u001b[39mnlevels \u001b[38;5;241m>\u001b[39m \u001b[38;5;241m1\u001b[39m:\n\u001b[1;32m   3806\u001b[0m     \u001b[38;5;28;01mreturn\u001b[39;00m \u001b[38;5;28mself\u001b[39m\u001b[38;5;241m.\u001b[39m_getitem_multilevel(key)\n\u001b[0;32m-> 3807\u001b[0m indexer \u001b[38;5;241m=\u001b[39m \u001b[38;5;28mself\u001b[39m\u001b[38;5;241m.\u001b[39mcolumns\u001b[38;5;241m.\u001b[39mget_loc(key)\n\u001b[1;32m   3808\u001b[0m \u001b[38;5;28;01mif\u001b[39;00m is_integer(indexer):\n\u001b[1;32m   3809\u001b[0m     indexer \u001b[38;5;241m=\u001b[39m [indexer]\n",
      "File \u001b[0;32m~/anaconda3/lib/python3.11/site-packages/pandas/core/indexes/base.py:3804\u001b[0m, in \u001b[0;36mIndex.get_loc\u001b[0;34m(self, key, method, tolerance)\u001b[0m\n\u001b[1;32m   3802\u001b[0m     \u001b[38;5;28;01mreturn\u001b[39;00m \u001b[38;5;28mself\u001b[39m\u001b[38;5;241m.\u001b[39m_engine\u001b[38;5;241m.\u001b[39mget_loc(casted_key)\n\u001b[1;32m   3803\u001b[0m \u001b[38;5;28;01mexcept\u001b[39;00m \u001b[38;5;167;01mKeyError\u001b[39;00m \u001b[38;5;28;01mas\u001b[39;00m err:\n\u001b[0;32m-> 3804\u001b[0m     \u001b[38;5;28;01mraise\u001b[39;00m \u001b[38;5;167;01mKeyError\u001b[39;00m(key) \u001b[38;5;28;01mfrom\u001b[39;00m \u001b[38;5;21;01merr\u001b[39;00m\n\u001b[1;32m   3805\u001b[0m \u001b[38;5;28;01mexcept\u001b[39;00m \u001b[38;5;167;01mTypeError\u001b[39;00m:\n\u001b[1;32m   3806\u001b[0m     \u001b[38;5;66;03m# If we have a listlike key, _check_indexing_error will raise\u001b[39;00m\n\u001b[1;32m   3807\u001b[0m     \u001b[38;5;66;03m#  InvalidIndexError. Otherwise we fall through and re-raise\u001b[39;00m\n\u001b[1;32m   3808\u001b[0m     \u001b[38;5;66;03m#  the TypeError.\u001b[39;00m\n\u001b[1;32m   3809\u001b[0m     \u001b[38;5;28mself\u001b[39m\u001b[38;5;241m.\u001b[39m_check_indexing_error(key)\n",
      "\u001b[0;31mKeyError\u001b[0m: 'Ben'"
     ]
    }
   ],
   "source": [
    "gradebook['Ben']"
   ]
  },
  {
   "cell_type": "markdown",
   "id": "df3be285",
   "metadata": {},
   "source": [
    "And the reason is that when you use this dictionary style notation, pandas thinks that you’re\n",
    "looking for a column. Right, so it’s going to take the string that you put in and try to match it\n",
    "against the columns, and of course, we get a key error when we want to do that. So this isn’t the\n",
    "right style to use.\n",
    "\n",
    "Probably the easiest way to pull out a row is to use what we call the loc indexer. A loc is an indexer\n",
    "that uses labels, and we’ll have a lot more to say about that later on.But I just want to show you\n",
    "really quickly that if I use this type of indexing, I do in fact get a series with just Ben"
   ]
  },
  {
   "cell_type": "code",
   "execution_count": 50,
   "id": "82074d6b",
   "metadata": {},
   "outputs": [
    {
     "data": {
      "text/plain": [
       "final      84\n",
       "midterm    88\n",
       "Name: Ben, dtype: int64"
      ]
     },
     "execution_count": 50,
     "metadata": {},
     "output_type": "execute_result"
    }
   ],
   "source": [
    "gradebook.loc['Ben']"
   ]
  },
  {
   "cell_type": "markdown",
   "id": "2a426277",
   "metadata": {},
   "source": [
    "So I’m taking a look at just Ben’s grades in this case. I can see that Ben got an 88 and then an\n",
    "80. \n",
    "\n",
    "Now, let’s actually manipulate some of these variables a little. I can change the values in a variable\n",
    "with regular old assignment.v So for example, I can take gradebook dot final, and set it to something\n",
    "new. Maybe what I want to do is just give everybody a bonus point.\n"
   ]
  },
  {
   "cell_type": "code",
   "execution_count": 51,
   "id": "a15f8b04",
   "metadata": {},
   "outputs": [
    {
     "data": {
      "text/html": [
       "<div>\n",
       "<style scoped>\n",
       "    .dataframe tbody tr th:only-of-type {\n",
       "        vertical-align: middle;\n",
       "    }\n",
       "\n",
       "    .dataframe tbody tr th {\n",
       "        vertical-align: top;\n",
       "    }\n",
       "\n",
       "    .dataframe thead th {\n",
       "        text-align: right;\n",
       "    }\n",
       "</style>\n",
       "<table border=\"1\" class=\"dataframe\">\n",
       "  <thead>\n",
       "    <tr style=\"text-align: right;\">\n",
       "      <th></th>\n",
       "      <th>final</th>\n",
       "      <th>midterm</th>\n",
       "    </tr>\n",
       "    <tr>\n",
       "      <th>student</th>\n",
       "      <th></th>\n",
       "      <th></th>\n",
       "    </tr>\n",
       "  </thead>\n",
       "  <tbody>\n",
       "    <tr>\n",
       "      <th>Ben</th>\n",
       "      <td>85</td>\n",
       "      <td>88</td>\n",
       "    </tr>\n",
       "    <tr>\n",
       "      <th>Sue</th>\n",
       "      <td>82</td>\n",
       "      <td>78</td>\n",
       "    </tr>\n",
       "    <tr>\n",
       "      <th>May</th>\n",
       "      <td>51</td>\n",
       "      <td>92</td>\n",
       "    </tr>\n",
       "    <tr>\n",
       "      <th>Blake</th>\n",
       "      <td>85</td>\n",
       "      <td>56</td>\n",
       "    </tr>\n",
       "    <tr>\n",
       "      <th>Amy</th>\n",
       "      <td>91</td>\n",
       "      <td>79</td>\n",
       "    </tr>\n",
       "    <tr>\n",
       "      <th>Steve</th>\n",
       "      <td>79</td>\n",
       "      <td>92</td>\n",
       "    </tr>\n",
       "  </tbody>\n",
       "</table>\n",
       "</div>"
      ],
      "text/plain": [
       "         final  midterm\n",
       "student                \n",
       "Ben         85       88\n",
       "Sue         82       78\n",
       "May         51       92\n",
       "Blake       85       56\n",
       "Amy         91       79\n",
       "Steve       79       92"
      ]
     },
     "execution_count": 51,
     "metadata": {},
     "output_type": "execute_result"
    }
   ],
   "source": [
    "gradebook.final= gradebook.final + 1\n",
    "gradebook"
   ]
  },
  {
   "cell_type": "markdown",
   "id": "c2d33694",
   "metadata": {},
   "source": [
    "And let’s take a look at the grade book again. And you can see, for example, Ben had an 84 on\n",
    "the final, and now we’ve altered the final variable, so Ben has an 85.\n",
    "We can also create new columns. So let’s say that we want to add a column for homework, and the\n",
    "way that we would do that is also with a dictionary style assignment. So let’s take a grade book\n",
    "and in parentheses, I’m going to create a new variable name. We’ll call that homework, and I can\n",
    "set this to a new list, or a new series.\n",
    "I’m going to be lazy here. I’m just going to pass in a list of six 90’s, so everybody gets the same\n",
    "homework grade. I can take another look. You can see we’ve added a new variable. OK"
   ]
  },
  {
   "cell_type": "code",
   "execution_count": 52,
   "id": "07df4883",
   "metadata": {},
   "outputs": [
    {
     "data": {
      "text/html": [
       "<div>\n",
       "<style scoped>\n",
       "    .dataframe tbody tr th:only-of-type {\n",
       "        vertical-align: middle;\n",
       "    }\n",
       "\n",
       "    .dataframe tbody tr th {\n",
       "        vertical-align: top;\n",
       "    }\n",
       "\n",
       "    .dataframe thead th {\n",
       "        text-align: right;\n",
       "    }\n",
       "</style>\n",
       "<table border=\"1\" class=\"dataframe\">\n",
       "  <thead>\n",
       "    <tr style=\"text-align: right;\">\n",
       "      <th></th>\n",
       "      <th>final</th>\n",
       "      <th>midterm</th>\n",
       "      <th>homework</th>\n",
       "    </tr>\n",
       "    <tr>\n",
       "      <th>student</th>\n",
       "      <th></th>\n",
       "      <th></th>\n",
       "      <th></th>\n",
       "    </tr>\n",
       "  </thead>\n",
       "  <tbody>\n",
       "    <tr>\n",
       "      <th>Ben</th>\n",
       "      <td>85</td>\n",
       "      <td>88</td>\n",
       "      <td>90</td>\n",
       "    </tr>\n",
       "    <tr>\n",
       "      <th>Sue</th>\n",
       "      <td>82</td>\n",
       "      <td>78</td>\n",
       "      <td>90</td>\n",
       "    </tr>\n",
       "    <tr>\n",
       "      <th>May</th>\n",
       "      <td>51</td>\n",
       "      <td>92</td>\n",
       "      <td>90</td>\n",
       "    </tr>\n",
       "    <tr>\n",
       "      <th>Blake</th>\n",
       "      <td>85</td>\n",
       "      <td>56</td>\n",
       "      <td>90</td>\n",
       "    </tr>\n",
       "    <tr>\n",
       "      <th>Amy</th>\n",
       "      <td>91</td>\n",
       "      <td>79</td>\n",
       "      <td>90</td>\n",
       "    </tr>\n",
       "    <tr>\n",
       "      <th>Steve</th>\n",
       "      <td>79</td>\n",
       "      <td>92</td>\n",
       "      <td>90</td>\n",
       "    </tr>\n",
       "  </tbody>\n",
       "</table>\n",
       "</div>"
      ],
      "text/plain": [
       "         final  midterm  homework\n",
       "student                          \n",
       "Ben         85       88        90\n",
       "Sue         82       78        90\n",
       "May         51       92        90\n",
       "Blake       85       56        90\n",
       "Amy         91       79        90\n",
       "Steve       79       92        90"
      ]
     },
     "execution_count": 52,
     "metadata": {},
     "output_type": "execute_result"
    }
   ],
   "source": [
    "gradebook['homework']=[90] * 6\n",
    "gradebook"
   ]
  },
  {
   "cell_type": "markdown",
   "id": "7d20dd81",
   "metadata": {},
   "source": [
    "Let’s say that we decided that was a mistake, and we don’t actually want that variable. You might\n",
    "wonder, well, how can we delete that variable? Well, there’s a couple of ideas. One is to use the\n",
    "del basic Python operator. So I could just say del a gradebook of homework, for example."
   ]
  },
  {
   "cell_type": "code",
   "execution_count": 53,
   "id": "c930fdef",
   "metadata": {},
   "outputs": [
    {
     "data": {
      "text/html": [
       "<div>\n",
       "<style scoped>\n",
       "    .dataframe tbody tr th:only-of-type {\n",
       "        vertical-align: middle;\n",
       "    }\n",
       "\n",
       "    .dataframe tbody tr th {\n",
       "        vertical-align: top;\n",
       "    }\n",
       "\n",
       "    .dataframe thead th {\n",
       "        text-align: right;\n",
       "    }\n",
       "</style>\n",
       "<table border=\"1\" class=\"dataframe\">\n",
       "  <thead>\n",
       "    <tr style=\"text-align: right;\">\n",
       "      <th></th>\n",
       "      <th>final</th>\n",
       "      <th>midterm</th>\n",
       "    </tr>\n",
       "    <tr>\n",
       "      <th>student</th>\n",
       "      <th></th>\n",
       "      <th></th>\n",
       "    </tr>\n",
       "  </thead>\n",
       "  <tbody>\n",
       "    <tr>\n",
       "      <th>Ben</th>\n",
       "      <td>85</td>\n",
       "      <td>88</td>\n",
       "    </tr>\n",
       "    <tr>\n",
       "      <th>Sue</th>\n",
       "      <td>82</td>\n",
       "      <td>78</td>\n",
       "    </tr>\n",
       "    <tr>\n",
       "      <th>May</th>\n",
       "      <td>51</td>\n",
       "      <td>92</td>\n",
       "    </tr>\n",
       "    <tr>\n",
       "      <th>Blake</th>\n",
       "      <td>85</td>\n",
       "      <td>56</td>\n",
       "    </tr>\n",
       "    <tr>\n",
       "      <th>Amy</th>\n",
       "      <td>91</td>\n",
       "      <td>79</td>\n",
       "    </tr>\n",
       "    <tr>\n",
       "      <th>Steve</th>\n",
       "      <td>79</td>\n",
       "      <td>92</td>\n",
       "    </tr>\n",
       "  </tbody>\n",
       "</table>\n",
       "</div>"
      ],
      "text/plain": [
       "         final  midterm\n",
       "student                \n",
       "Ben         85       88\n",
       "Sue         82       78\n",
       "May         51       92\n",
       "Blake       85       56\n",
       "Amy         91       79\n",
       "Steve       79       92"
      ]
     },
     "execution_count": 53,
     "metadata": {},
     "output_type": "execute_result"
    }
   ],
   "source": [
    "del gradebook['homework']\n",
    "gradebook"
   ]
  },
  {
   "cell_type": "markdown",
   "id": "4db08e02",
   "metadata": {},
   "source": [
    "And then when I take another look at a grade book, you can see the homework is gone. That’s\n",
    "one way to do it, but I actually don’t like using the del operator very much. The way that I would\n",
    "prefer to actually drop things out of a data frame is with the drop method.\n",
    "It’s worth taking a look at the documentation for the drop method. You can see the first thing that\n",
    "you do is you pass in a label of the things that you want to drop, and then the second argument\n",
    "is really important. That’s the axis. Right, so the reason for that is that drop actually works on\n",
    "either rows or columns.\n",
    "\n",
    "So in this case, let’s say you want to drop, for example, the final. We have to tell Python whether\n",
    "we want to drop final from the rows, from the columns, and we’re going to use the axis argument to\n",
    "do that. So this is a little bit confusing at first. Actually, axis is really common in a lot of Python\n",
    "methods, in a lot of pandas methods. You’re going to have to set the axis argument"
   ]
  },
  {
   "cell_type": "code",
   "execution_count": 54,
   "id": "cc74c11f",
   "metadata": {},
   "outputs": [
    {
     "data": {
      "text/html": [
       "<div>\n",
       "<style scoped>\n",
       "    .dataframe tbody tr th:only-of-type {\n",
       "        vertical-align: middle;\n",
       "    }\n",
       "\n",
       "    .dataframe tbody tr th {\n",
       "        vertical-align: top;\n",
       "    }\n",
       "\n",
       "    .dataframe thead th {\n",
       "        text-align: right;\n",
       "    }\n",
       "</style>\n",
       "<table border=\"1\" class=\"dataframe\">\n",
       "  <thead>\n",
       "    <tr style=\"text-align: right;\">\n",
       "      <th></th>\n",
       "      <th>midterm</th>\n",
       "    </tr>\n",
       "    <tr>\n",
       "      <th>student</th>\n",
       "      <th></th>\n",
       "    </tr>\n",
       "  </thead>\n",
       "  <tbody>\n",
       "    <tr>\n",
       "      <th>Ben</th>\n",
       "      <td>88</td>\n",
       "    </tr>\n",
       "    <tr>\n",
       "      <th>Sue</th>\n",
       "      <td>78</td>\n",
       "    </tr>\n",
       "    <tr>\n",
       "      <th>May</th>\n",
       "      <td>92</td>\n",
       "    </tr>\n",
       "    <tr>\n",
       "      <th>Blake</th>\n",
       "      <td>56</td>\n",
       "    </tr>\n",
       "    <tr>\n",
       "      <th>Amy</th>\n",
       "      <td>79</td>\n",
       "    </tr>\n",
       "    <tr>\n",
       "      <th>Steve</th>\n",
       "      <td>92</td>\n",
       "    </tr>\n",
       "  </tbody>\n",
       "</table>\n",
       "</div>"
      ],
      "text/plain": [
       "         midterm\n",
       "student         \n",
       "Ben           88\n",
       "Sue           78\n",
       "May           92\n",
       "Blake         56\n",
       "Amy           79\n",
       "Steve         92"
      ]
     },
     "execution_count": 54,
     "metadata": {},
     "output_type": "execute_result"
    }
   ],
   "source": [
    "gradebook.drop('final', axis = 1)\n",
    "# axis 0 >>rows\n",
    "# axis 1 >> columns"
   ]
  },
  {
   "cell_type": "markdown",
   "id": "c9b9256a",
   "metadata": {},
   "source": [
    "So let’s give that a try. We’ll set axis equals 1. And you can see we do indeed get what we want.\n",
    "We have the grade book, but without the final variable. By the way, drop by default is not in\n",
    "place. So that means that we’re returning a new data frame, right, without the column that we\n",
    "want. But I can still go back and look at the original grade book, and it’s still the way that we\n",
    "had before."
   ]
  },
  {
   "cell_type": "code",
   "execution_count": 55,
   "id": "c5d34aea",
   "metadata": {},
   "outputs": [
    {
     "data": {
      "text/html": [
       "<div>\n",
       "<style scoped>\n",
       "    .dataframe tbody tr th:only-of-type {\n",
       "        vertical-align: middle;\n",
       "    }\n",
       "\n",
       "    .dataframe tbody tr th {\n",
       "        vertical-align: top;\n",
       "    }\n",
       "\n",
       "    .dataframe thead th {\n",
       "        text-align: right;\n",
       "    }\n",
       "</style>\n",
       "<table border=\"1\" class=\"dataframe\">\n",
       "  <thead>\n",
       "    <tr style=\"text-align: right;\">\n",
       "      <th></th>\n",
       "      <th>final</th>\n",
       "      <th>midterm</th>\n",
       "    </tr>\n",
       "    <tr>\n",
       "      <th>student</th>\n",
       "      <th></th>\n",
       "      <th></th>\n",
       "    </tr>\n",
       "  </thead>\n",
       "  <tbody>\n",
       "    <tr>\n",
       "      <th>Ben</th>\n",
       "      <td>85</td>\n",
       "      <td>88</td>\n",
       "    </tr>\n",
       "    <tr>\n",
       "      <th>Sue</th>\n",
       "      <td>82</td>\n",
       "      <td>78</td>\n",
       "    </tr>\n",
       "    <tr>\n",
       "      <th>May</th>\n",
       "      <td>51</td>\n",
       "      <td>92</td>\n",
       "    </tr>\n",
       "    <tr>\n",
       "      <th>Blake</th>\n",
       "      <td>85</td>\n",
       "      <td>56</td>\n",
       "    </tr>\n",
       "    <tr>\n",
       "      <th>Amy</th>\n",
       "      <td>91</td>\n",
       "      <td>79</td>\n",
       "    </tr>\n",
       "    <tr>\n",
       "      <th>Steve</th>\n",
       "      <td>79</td>\n",
       "      <td>92</td>\n",
       "    </tr>\n",
       "  </tbody>\n",
       "</table>\n",
       "</div>"
      ],
      "text/plain": [
       "         final  midterm\n",
       "student                \n",
       "Ben         85       88\n",
       "Sue         82       78\n",
       "May         51       92\n",
       "Blake       85       56\n",
       "Amy         91       79\n",
       "Steve       79       92"
      ]
     },
     "execution_count": 55,
     "metadata": {},
     "output_type": "execute_result"
    }
   ],
   "source": [
    "gradebook"
   ]
  },
  {
   "cell_type": "markdown",
   "id": "7b8233fa",
   "metadata": {},
   "source": [
    "I have to actually manually override this, if I want to, you know, remember this grade book without\n",
    "the final. And just for fun, let me show you what it would look like to drop a row. So in this case,\n",
    "let’s try to drop the row for Ben. And I’m going to see– I’m going to set access to 0 here, because\n",
    "now I’m dropping a row, which means that the number of rows is changing, not the number of\n",
    "columns. So that’s an indication that I really want to set axis equals 0, and if you scan through\n",
    "this list, you can confirm that there’s no Ben "
   ]
  },
  {
   "cell_type": "code",
   "execution_count": 56,
   "id": "0a24944a",
   "metadata": {},
   "outputs": [
    {
     "data": {
      "text/html": [
       "<div>\n",
       "<style scoped>\n",
       "    .dataframe tbody tr th:only-of-type {\n",
       "        vertical-align: middle;\n",
       "    }\n",
       "\n",
       "    .dataframe tbody tr th {\n",
       "        vertical-align: top;\n",
       "    }\n",
       "\n",
       "    .dataframe thead th {\n",
       "        text-align: right;\n",
       "    }\n",
       "</style>\n",
       "<table border=\"1\" class=\"dataframe\">\n",
       "  <thead>\n",
       "    <tr style=\"text-align: right;\">\n",
       "      <th></th>\n",
       "      <th>final</th>\n",
       "      <th>midterm</th>\n",
       "    </tr>\n",
       "    <tr>\n",
       "      <th>student</th>\n",
       "      <th></th>\n",
       "      <th></th>\n",
       "    </tr>\n",
       "  </thead>\n",
       "  <tbody>\n",
       "    <tr>\n",
       "      <th>Sue</th>\n",
       "      <td>82</td>\n",
       "      <td>78</td>\n",
       "    </tr>\n",
       "    <tr>\n",
       "      <th>May</th>\n",
       "      <td>51</td>\n",
       "      <td>92</td>\n",
       "    </tr>\n",
       "    <tr>\n",
       "      <th>Blake</th>\n",
       "      <td>85</td>\n",
       "      <td>56</td>\n",
       "    </tr>\n",
       "    <tr>\n",
       "      <th>Amy</th>\n",
       "      <td>91</td>\n",
       "      <td>79</td>\n",
       "    </tr>\n",
       "    <tr>\n",
       "      <th>Steve</th>\n",
       "      <td>79</td>\n",
       "      <td>92</td>\n",
       "    </tr>\n",
       "  </tbody>\n",
       "</table>\n",
       "</div>"
      ],
      "text/plain": [
       "         final  midterm\n",
       "student                \n",
       "Sue         82       78\n",
       "May         51       92\n",
       "Blake       85       56\n",
       "Amy         91       79\n",
       "Steve       79       92"
      ]
     },
     "execution_count": 56,
     "metadata": {},
     "output_type": "execute_result"
    }
   ],
   "source": [
    "gradebook.drop('Ben', axis = 0)"
   ]
  },
  {
   "cell_type": "markdown",
   "id": "063e1ea1",
   "metadata": {},
   "source": [
    "OK. One last point that I want to make about data frames is that data frames are also very\n",
    "nicely integrated with the plotting library, matplotlib. And so a lot of times as you’re exploring or\n",
    "wrangling your data, you’re going to want to pull up some diagnostic plots quickly in order to see\n",
    "what features you have. So that’s really easy and in pandas.\n",
    "I’m going to type grade book dot plot, which gives me access to a several plotting methods. And\n",
    "in this case, I want a scatterplot. So in order to have a scatterplot, I have to tell PANDAS what\n",
    "variable I want on the x-axis. So maybe I want the midterm on the x, and I have to tell it what\n",
    "I want on the y-axis, and maybe the final on the y-axis, and you can see that was really nice and\n",
    "easy. I have this great scatterplot just for, you know– because it’s such an important practice, I’m\n",
    "going to go ahead and give it title.\n",
    "And there you can see our nice scatterplot, and actually the names of the variables are automatically\n",
    "placed along on the axes, so you have a good idea of what you’re doing. You have to do a lot more\n",
    "work if you want to make this maybe a publication quality plot, but as long as what you’re doing\n",
    "is just exploring and trying to understand your data, this is a really nice and easy fast way to pull\n",
    "up some graphics. That’s very important.\n"
   ]
  },
  {
   "cell_type": "code",
   "execution_count": 57,
   "id": "ee0d612f",
   "metadata": {},
   "outputs": [
    {
     "data": {
      "text/plain": [
       "<Axes: title={'center': 'Midterm and Final Grades'}, xlabel='midterm', ylabel='final'>"
      ]
     },
     "execution_count": 57,
     "metadata": {},
     "output_type": "execute_result"
    },
    {
     "data": {
      "image/png": "[encoded data removed]",
      "text/plain": [
       "<Figure size 640x480 with 1 Axes>"
      ]
     },
     "metadata": {},
     "output_type": "display_data"
    }
   ],
   "source": [
    " gradebook.plot.scatter(x = 'midterm', y= 'final', title = 'Midterm and Final Grades', color = 'green')"
   ]
  },
  {
   "cell_type": "markdown",
   "id": "b3bf92ad",
   "metadata": {},
   "source": [
    "And finally, one thing that we might want to do is just save our progress, and maybe we want to\n",
    "save to a CSV file, so we can take grade book, and there’s this really handy two CSV method. And\n",
    "all you have to do is type in the file name that you want, and when I execute this, I’m going to save\n",
    "it to the CSV, and that means we can come back later on and continue playing with this data"
   ]
  },
  {
   "cell_type": "code",
   "execution_count": 58,
   "id": "207c0eaf",
   "metadata": {},
   "outputs": [],
   "source": [
    "gradebook.to_csv('gradebook.csv')"
   ]
  },
  {
   "cell_type": "markdown",
   "id": "6b39c65d",
   "metadata": {},
   "source": [
    "## PANDAS SERIES PRACTICE"
   ]
  },
  {
   "cell_type": "markdown",
   "id": "4e04d669",
   "metadata": {},
   "source": [
    "Use Pandas \"read_csv()\" function to import the gradebook_v2 file"
   ]
  },
  {
   "cell_type": "code",
   "execution_count": 59,
   "id": "12eb0f36",
   "metadata": {},
   "outputs": [],
   "source": [
    "file_path = '/Users/rakkshetsinghaal/Desktop/Yale University/GLBL 5050/GLBL5050/gradebook.csv'\n",
    "gradebook = pd.read_csv(file_path)"
   ]
  },
  {
   "cell_type": "markdown",
   "id": "6bd05481",
   "metadata": {},
   "source": [
    "As discussed, DataFrames are made up of Series. Let's prove it. Extract any one Series from your DataFrame into a new variable. Then, run the \"type()\" function on both your extracted Series and the entire DataFrame.\n"
   ]
  },
  {
   "cell_type": "code",
   "execution_count": 60,
   "id": "056cc77e",
   "metadata": {},
   "outputs": [
    {
     "name": "stdout",
     "output_type": "stream",
     "text": [
      "0    88\n",
      "1    78\n",
      "2    92\n",
      "3    56\n",
      "4    79\n",
      "5    92\n",
      "Name: midterm, dtype: int64\n"
     ]
    },
    {
     "data": {
      "text/plain": [
       "pandas.core.series.Series"
      ]
     },
     "execution_count": 60,
     "metadata": {},
     "output_type": "execute_result"
    }
   ],
   "source": [
    "midterm_exam = gradebook['midterm']\n",
    "print(midterm_exam)\n",
    "type(midterm_exam)"
   ]
  },
  {
   "cell_type": "code",
   "execution_count": 61,
   "id": "ab29351d",
   "metadata": {},
   "outputs": [
    {
     "data": {
      "text/plain": [
       "pandas.core.frame.DataFrame"
      ]
     },
     "execution_count": 61,
     "metadata": {},
     "output_type": "execute_result"
    }
   ],
   "source": [
    "type(gradebook)"
   ]
  },
  {
   "cell_type": "markdown",
   "id": "4edc4321",
   "metadata": {},
   "source": [
    "Set the Index of your DataFrame to be equal to the values of the \"student\" variable, and then drop the variable from the dataset. Note, you can do this as separate steps, or using the \"set_index()\" function as described in 11.09.\n"
   ]
  },
  {
   "cell_type": "code",
   "execution_count": 62,
   "id": "16f38170",
   "metadata": {},
   "outputs": [],
   "source": [
    "student=pd.Series([\"Ben\",\"Blake\",\"Vicky\",\"Maria\",\"Sasha\",\"Drogo\"])\n",
    "midterm_exam.index=pd.Index(student, name='Names')"
   ]
  },
  {
   "cell_type": "code",
   "execution_count": 64,
   "id": "5d67cc83",
   "metadata": {},
   "outputs": [
    {
     "data": {
      "text/html": [
       "<div>\n",
       "<style scoped>\n",
       "    .dataframe tbody tr th:only-of-type {\n",
       "        vertical-align: middle;\n",
       "    }\n",
       "\n",
       "    .dataframe tbody tr th {\n",
       "        vertical-align: top;\n",
       "    }\n",
       "\n",
       "    .dataframe thead th {\n",
       "        text-align: right;\n",
       "    }\n",
       "</style>\n",
       "<table border=\"1\" class=\"dataframe\">\n",
       "  <thead>\n",
       "    <tr style=\"text-align: right;\">\n",
       "      <th></th>\n",
       "      <th>final</th>\n",
       "      <th>midterm</th>\n",
       "    </tr>\n",
       "  </thead>\n",
       "  <tbody>\n",
       "    <tr>\n",
       "      <th>0</th>\n",
       "      <td>85</td>\n",
       "      <td>88</td>\n",
       "    </tr>\n",
       "    <tr>\n",
       "      <th>1</th>\n",
       "      <td>82</td>\n",
       "      <td>78</td>\n",
       "    </tr>\n",
       "    <tr>\n",
       "      <th>2</th>\n",
       "      <td>51</td>\n",
       "      <td>92</td>\n",
       "    </tr>\n",
       "    <tr>\n",
       "      <th>3</th>\n",
       "      <td>85</td>\n",
       "      <td>56</td>\n",
       "    </tr>\n",
       "    <tr>\n",
       "      <th>4</th>\n",
       "      <td>91</td>\n",
       "      <td>79</td>\n",
       "    </tr>\n",
       "    <tr>\n",
       "      <th>5</th>\n",
       "      <td>79</td>\n",
       "      <td>92</td>\n",
       "    </tr>\n",
       "  </tbody>\n",
       "</table>\n",
       "</div>"
      ],
      "text/plain": [
       "   final  midterm\n",
       "0     85       88\n",
       "1     82       78\n",
       "2     51       92\n",
       "3     85       56\n",
       "4     91       79\n",
       "5     79       92"
      ]
     },
     "execution_count": 64,
     "metadata": {},
     "output_type": "execute_result"
    }
   ],
   "source": [
    "gradebook.drop('student', axis = 1)"
   ]
  },
  {
   "cell_type": "markdown",
   "id": "9a3211c9",
   "metadata": {},
   "source": [
    "Excellent! Now let's practice subsetting. Complete the following:"
   ]
  },
  {
   "cell_type": "markdown",
   "id": "329e5190",
   "metadata": {},
   "source": [
    "Subset the DataFrame to only include Ben and Blake."
   ]
  },
  {
   "cell_type": "code",
   "execution_count": 66,
   "id": "40ccd67a",
   "metadata": {},
   "outputs": [
    {
     "data": {
      "text/html": [
       "<div>\n",
       "<style scoped>\n",
       "    .dataframe tbody tr th:only-of-type {\n",
       "        vertical-align: middle;\n",
       "    }\n",
       "\n",
       "    .dataframe tbody tr th {\n",
       "        vertical-align: top;\n",
       "    }\n",
       "\n",
       "    .dataframe thead th {\n",
       "        text-align: right;\n",
       "    }\n",
       "</style>\n",
       "<table border=\"1\" class=\"dataframe\">\n",
       "  <thead>\n",
       "    <tr style=\"text-align: right;\">\n",
       "      <th></th>\n",
       "      <th>student</th>\n",
       "      <th>final</th>\n",
       "      <th>midterm</th>\n",
       "    </tr>\n",
       "  </thead>\n",
       "  <tbody>\n",
       "    <tr>\n",
       "      <th>0</th>\n",
       "      <td>Ben</td>\n",
       "      <td>85</td>\n",
       "      <td>88</td>\n",
       "    </tr>\n",
       "    <tr>\n",
       "      <th>3</th>\n",
       "      <td>Blake</td>\n",
       "      <td>85</td>\n",
       "      <td>56</td>\n",
       "    </tr>\n",
       "  </tbody>\n",
       "</table>\n",
       "</div>"
      ],
      "text/plain": [
       "  student  final  midterm\n",
       "0     Ben     85       88\n",
       "3   Blake     85       56"
      ]
     },
     "execution_count": 66,
     "metadata": {},
     "output_type": "execute_result"
    }
   ],
   "source": [
    "subset_1 = gradebook[gradebook['student'].isin(['Ben', 'Blake'])]\n",
    "subset_1"
   ]
  },
  {
   "cell_type": "markdown",
   "id": "e1d0413e",
   "metadata": {},
   "source": [
    "Subset the DataFrame to only include students who scored under an 85 on the midterm."
   ]
  },
  {
   "cell_type": "code",
   "execution_count": 67,
   "id": "f53d7dc0",
   "metadata": {},
   "outputs": [
    {
     "data": {
      "text/plain": [
       "Names\n",
       "Ben      False\n",
       "Blake     True\n",
       "Vicky    False\n",
       "Maria     True\n",
       "Sasha     True\n",
       "Drogo    False\n",
       "Name: midterm, dtype: bool"
      ]
     },
     "execution_count": 67,
     "metadata": {},
     "output_type": "execute_result"
    }
   ],
   "source": [
    "subset_2 = gradebook['midterm'] < 85\n",
    "subset_2"
   ]
  },
  {
   "cell_type": "markdown",
   "id": "0c431b01",
   "metadata": {},
   "source": [
    "\n",
    "Subset the DataFrame to only include students who scored a B.\n",
    "\n"
   ]
  },
  {
   "cell_type": "code",
   "execution_count": 68,
   "id": "f077f832",
   "metadata": {},
   "outputs": [],
   "source": [
    "bins = [0, 50, 60, 70, 80, 90, 100]\n",
    "labels = ['F', 'E', 'D', 'C', 'B', 'A']\n",
    "gradebook['Final Letter Grade'] = pd.cut(gradebook['final'], bins=bins, labels=labels)\n",
    "gradebook['Midterm Letter Grade'] = pd.cut(gradebook['midterm'], bins=bins, labels=labels)"
   ]
  },
  {
   "cell_type": "code",
   "execution_count": 69,
   "id": "4043a192",
   "metadata": {},
   "outputs": [
    {
     "name": "stdout",
     "output_type": "stream",
     "text": [
      "  student  final Final Letter Grade  midterm Midterm Letter Grade\n",
      "0     Ben     85                  B       88                  NaN\n",
      "1     Sue     82                  B       78                  NaN\n",
      "3   Blake     85                  B       56                  NaN\n"
     ]
    }
   ],
   "source": [
    "subset_3 = gradebook[gradebook['Final Letter Grade'] == 'B'][['student', 'final','Final Letter Grade','midterm','Midterm Letter Grade']]\n",
    "\n",
    "print(subset_3)"
   ]
  },
  {
   "cell_type": "markdown",
   "id": "89391e34",
   "metadata": {},
   "source": [
    "Subset the DataFrame to students who are missing a final score (hint - look up the \"isnull()\" function).\n",
    "Update your subset function to to use the \"\" special character. That is, instead of [x < 4], try [x < 4]. What does this do?\n",
    "Use the \"~\" character to subset the DataFrame to students who are NOT missing a final score.\n",
    "\n"
   ]
  },
  {
   "cell_type": "code",
   "execution_count": 70,
   "id": "5b5dd743",
   "metadata": {},
   "outputs": [],
   "source": [
    "new_rows = pd.DataFrame({'student': ['Josh', 'Robert'], 'final': [None, None], 'midterm': [93, 20]})\n",
    "updated_gradebook = pd.concat([gradebook, new_rows], ignore_index=True)"
   ]
  },
  {
   "cell_type": "code",
   "execution_count": 71,
   "id": "ed593836",
   "metadata": {},
   "outputs": [
    {
     "name": "stdout",
     "output_type": "stream",
     "text": [
      "  student final  midterm Final Letter Grade Midterm Letter Grade\n",
      "0     Ben    85       88                  B                    B\n",
      "1     Sue    82       78                  B                    C\n",
      "2     May    51       92                  E                    A\n",
      "3   Blake    85       56                  B                    E\n",
      "4     Amy    91       79                  A                    C\n",
      "5   Steve    79       92                  C                    A\n",
      "6    Josh  None       93                NaN                    A\n",
      "7  Robert  None       20                NaN                    F\n"
     ]
    }
   ],
   "source": [
    "bins = [0, 50, 60, 70, 80, 90, 100]\n",
    "labels = ['F', 'E', 'D', 'C', 'B', 'A']\n",
    "updated_gradebook['Midterm Letter Grade'] = pd.cut(updated_gradebook['midterm'], bins=bins, labels=labels)\n",
    "print(updated_gradebook)"
   ]
  },
  {
   "cell_type": "code",
   "execution_count": 72,
   "id": "5aa8da44",
   "metadata": {},
   "outputs": [
    {
     "name": "stdout",
     "output_type": "stream",
     "text": [
      "  student\n",
      "6    Josh\n",
      "7  Robert\n"
     ]
    }
   ],
   "source": [
    "subset_4 = updated_gradebook['final'].isnull()\n",
    "subset_4a = updated_gradebook[subset_4][['student']]\n",
    "\n",
    "print(subset_4a)"
   ]
  },
  {
   "cell_type": "markdown",
   "id": "090a66a6",
   "metadata": {},
   "source": [
    "Create a scatterplot of midterm vs. final grades. Title it \"Midterm and Final Grades.\" What happens to points with missing values?\n"
   ]
  },
  {
   "cell_type": "code",
   "execution_count": 74,
   "id": "2fa097e6",
   "metadata": {},
   "outputs": [
    {
     "data": {
      "text/plain": [
       "<Axes: title={'center': 'Midterm and Final Grades'}, xlabel='midterm', ylabel='final'>"
      ]
     },
     "execution_count": 74,
     "metadata": {},
     "output_type": "execute_result"
    },
    {
     "data": {
      "image/png": "[encoded data removed]",
      "text/plain": [
       "<Figure size 640x480 with 1 Axes>"
      ]
     },
     "metadata": {},
     "output_type": "display_data"
    }
   ],
   "source": [
    "updated_gradebook.plot.scatter(x = 'midterm', y= 'final', title = 'Midterm and Final Grades', color = 'red')\n",
    "#The students with missing value are not included in the plot.  "
   ]
  },
  {
   "cell_type": "markdown",
   "id": "0612ab3c",
   "metadata": {},
   "source": [
    "Manually create a new gradebook DataFrame with 5 more students (hint: use the dictionary method of creating a dataframe). Then, look up how to use the \"DataFrame.append\" function to combine this new gradebook with the one used above. Finally, plot your updated gradebook."
   ]
  },
  {
   "cell_type": "code",
   "execution_count": 75,
   "id": "f2c242a3",
   "metadata": {},
   "outputs": [
    {
     "name": "stdout",
     "output_type": "stream",
     "text": [
      "     student final  midterm Final Letter Grade Midterm Letter Grade\n",
      "0        Ben    85       88                  B                    B\n",
      "1        Sue    82       78                  B                    C\n",
      "2        May    51       92                  E                    A\n",
      "3      Blake    85       56                  B                    E\n",
      "4        Amy    91       79                  A                    C\n",
      "5      Steve    79       92                  C                    A\n",
      "6       Josh  None       93                NaN                    A\n",
      "7     Robert  None       20                NaN                    F\n",
      "8       Ross    98       95                NaN                  NaN\n",
      "9     Rachel    69       70                NaN                  NaN\n",
      "10    Monica    86       90                NaN                  NaN\n",
      "11  Chandler    91       86                NaN                  NaN\n",
      "12      Joey    52       55                NaN                  NaN\n"
     ]
    },
    {
     "name": "stderr",
     "output_type": "stream",
     "text": [
      "/var/folders/jr/yk_drf0n3ys0hbglvhv_fsth0000gn/T/ipykernel_27461/1662061679.py:7: FutureWarning: The frame.append method is deprecated and will be removed from pandas in a future version. Use pandas.concat instead.\n",
      "  final_gradebook = updated_gradebook.append(new_gradebook, ignore_index=True)\n"
     ]
    }
   ],
   "source": [
    "new_students_data = {\n",
    "    'student': ['Ross', 'Rachel', 'Monica', 'Chandler', 'Joey'],\n",
    "    'final': [98, 69, 86, 91, 52],\n",
    "    'midterm': [95, 70, 90, 86, 55]\n",
    "}\n",
    "new_gradebook = pd.DataFrame(new_students_data)\n",
    "final_gradebook = updated_gradebook.append(new_gradebook, ignore_index=True)\n",
    "\n",
    "print(final_gradebook)"
   ]
  },
  {
   "cell_type": "code",
   "execution_count": 76,
   "id": "42961ac8",
   "metadata": {},
   "outputs": [
    {
     "data": {
      "text/plain": [
       "<Axes: title={'center': 'Midterm and Final Grades'}, xlabel='midterm', ylabel='final'>"
      ]
     },
     "execution_count": 76,
     "metadata": {},
     "output_type": "execute_result"
    },
    {
     "data": {
      "image/png": "[encoded data removed]",
      "text/plain": [
       "<Figure size 640x480 with 1 Axes>"
      ]
     },
     "metadata": {},
     "output_type": "display_data"
    }
   ],
   "source": [
    "final_gradebook.plot.scatter(x = 'midterm', y= 'final', title = 'Midterm and Final Grades', color = 'red')"
   ]
  },
  {
   "cell_type": "markdown",
   "id": "cf4b3e11",
   "metadata": {},
   "source": [
    "Set the name property of your DataFrame to 'student'. Then, save your new csv as \"gradebook_v3.csv\""
   ]
  },
  {
   "cell_type": "code",
   "execution_count": 77,
   "id": "5919d695",
   "metadata": {},
   "outputs": [
    {
     "name": "stdout",
     "output_type": "stream",
     "text": [
      "          student final  midterm Final Letter Grade Midterm Letter Grade\n",
      "student                                                                 \n",
      "0             Ben    85       88                  B                    B\n",
      "1             Sue    82       78                  B                    C\n",
      "2             May    51       92                  E                    A\n",
      "3           Blake    85       56                  B                    E\n",
      "4             Amy    91       79                  A                    C\n",
      "5           Steve    79       92                  C                    A\n",
      "6            Josh  None       93                NaN                    A\n",
      "7          Robert  None       20                NaN                    F\n",
      "8            Ross    98       95                NaN                  NaN\n",
      "9          Rachel    69       70                NaN                  NaN\n",
      "10         Monica    86       90                NaN                  NaN\n",
      "11       Chandler    91       86                NaN                  NaN\n",
      "12           Joey    52       55                NaN                  NaN\n"
     ]
    }
   ],
   "source": [
    "final_gradebook = final_gradebook.rename_axis(\"student\")\n",
    "print(final_gradebook)"
   ]
  },
  {
   "cell_type": "code",
   "execution_count": 78,
   "id": "da2ce748",
   "metadata": {},
   "outputs": [],
   "source": [
    "final_gradebook.to_csv('gradebook_v3.csv')"
   ]
  },
  {
   "cell_type": "markdown",
   "id": "6d21e83c",
   "metadata": {},
   "source": [
    "## Final Project\n",
    "Three ideas for final project below:\n",
    "\n",
    "1. A comparative analysis of political polarization in the United States and countries with overthrown democracies and political crises\n",
    "2. An evaluation of the efficacy of universal basic income policies in South America\n",
    "3. Navigating fluctuating flight prices in order to find the best time to buy tickets"
   ]
  }
 ],
 "metadata": {
  "kernelspec": {
   "display_name": "Python 3 (ipykernel)",
   "language": "python",
   "name": "python3"
  },
  "language_info": {
   "codemirror_mode": {
    "name": "ipython",
    "version": 3
   },
   "file_extension": ".py",
   "mimetype": "text/x-python",
   "name": "python",
   "nbconvert_exporter": "python",
   "pygments_lexer": "ipython3",
   "version": "3.11.4"
  }
 },
 "nbformat": 4,
 "nbformat_minor": 5
}
