{
 "cells": [
  {
   "cell_type": "markdown",
   "id": "e9e0ba81",
   "metadata": {},
   "source": [
    "# GLBL 5050 Homework 3"
   ]
  },
  {
   "cell_type": "markdown",
   "id": "9380bb1c",
   "metadata": {},
   "source": [
    "### 1.0 Putting the fun in functions:\n",
    "Please write the following functions, call the function to show me that it works! \n",
    "Please use \"return\" rather than \"print\"\n",
    "Don't forget doc strings! \n",
    "\n",
    "These problem focus on getting you to understand how to design functions and use conditions to solve problems.\n"
   ]
  },
  {
   "cell_type": "markdown",
   "id": "c9d87b25",
   "metadata": {},
   "source": [
    "1.1 **Function for Currency Conversion:**\n",
    "Write a function that converts an amount from USD to EUR. Use a fixed conversion rate."
   ]
  },
  {
   "cell_type": "code",
   "execution_count": 6,
   "id": "4022e735",
   "metadata": {},
   "outputs": [],
   "source": [
    "def currency (US):\n",
    "        \"\"\"Function to convert USD to EUR\"\"\"\n",
    "        cur_con=(US*0.94)\n",
    "        print(f\"{US} USD amounts to {cur_con:.2f} EURO\")"
   ]
  },
  {
   "cell_type": "code",
   "execution_count": 7,
   "id": "a5803feb",
   "metadata": {},
   "outputs": [
    {
     "name": "stdout",
     "output_type": "stream",
     "text": [
      "100.11 USD amounts to 94.10 EURO\n"
     ]
    }
   ],
   "source": [
    "currency(100.11)"
   ]
  },
  {
   "cell_type": "markdown",
   "id": "a9d8f34b",
   "metadata": {},
   "source": [
    "1.2 **Calculate Carbon Footprint:**\n",
    "Given the number of miles a person travels by car and plane, write a function to calculate their carbon footprint. Use average values like 0.2kg CO2 per mile for cars and 0.15kg CO2 per mile for planes.\n"
   ]
  },
  {
   "cell_type": "code",
   "execution_count": 39,
   "id": "aec5a7d1",
   "metadata": {},
   "outputs": [],
   "source": [
    "def carbon_foot (PMC,PMP):\n",
    "        \"\"\"Function to calculate carboon footprint\"\"\"\n",
    "        carbon_car=(PMC*0.2)\n",
    "        carbon_plane=(PMP*0.15)\n",
    "        total_carbon=carbon_car+carbon_plane\n",
    "        print(f\"If you travel {PMC} miles in car and {PMP} miles in plane, then your estimate total carbon footprint is {total_carbon:.2f}kg.\")"
   ]
  },
  {
   "cell_type": "code",
   "execution_count": 40,
   "id": "1f6945eb",
   "metadata": {},
   "outputs": [
    {
     "name": "stdout",
     "output_type": "stream",
     "text": [
      "If you travel 10 miles in car and 10 miles in plane, then your estimate total carbon footprint is 3.50kg.\n"
     ]
    }
   ],
   "source": [
    "carbon_foot(10,10)"
   ]
  },
  {
   "cell_type": "markdown",
   "id": "189e2e32",
   "metadata": {},
   "source": [
    "1.3 **Check if a Country is in the G7:**\n",
    "Given the name of a country, check if it's one of the G7 countries (USA, Canada, France, Germany, Italy, Japan, United Kingdom) using if, elif, and else."
   ]
  },
  {
   "cell_type": "code",
   "execution_count": 41,
   "id": "2914b41d",
   "metadata": {},
   "outputs": [],
   "source": [
    "def g7(country):\n",
    "        \"\"\"Function to determine whether a country is part of G7\"\"\"\n",
    "        g7_countries=[\"USA\", \"Canada\", \"United Kingdom\", \"France\", \"Germany\", \"Italy\", \"Japan\"]\n",
    "        if country in g7_countries:\n",
    "            print(f\"{country} is part of G7\")\n",
    "        else:\n",
    "            print(f\"{country} is not part of G7\")"
   ]
  },
  {
   "cell_type": "code",
   "execution_count": 42,
   "id": "49edd370",
   "metadata": {},
   "outputs": [
    {
     "name": "stdout",
     "output_type": "stream",
     "text": [
      "India is not part of G7\n"
     ]
    }
   ],
   "source": [
    "g7(\"India\")"
   ]
  },
  {
   "cell_type": "markdown",
   "id": "e8fb25ad",
   "metadata": {},
   "source": [
    "1.4 **Determine Continent by Country:**\n",
    "Given the name of a country, return the continent it's located in. For simplicity, let's just consider 5 countries: USA (North America), Brazil (South America), France (Europe), Nigeria (Africa), China (Asia)."
   ]
  },
  {
   "cell_type": "code",
   "execution_count": 43,
   "id": "eeaa0f57",
   "metadata": {},
   "outputs": [],
   "source": [
    "def continent(country):\n",
    "        \"\"\"Function to determine which continent the country is located in\"\"\"\n",
    "        NA=[\"USA\"]\n",
    "        SA=[\"Brazil\"]\n",
    "        EU=[\"France\"]\n",
    "        AF=[\"Nigeria\"]\n",
    "        AS=[\"China\"]\n",
    "    \n",
    "        if country in NA:\n",
    "            print(f\"{country} is part of North America\")\n",
    "        elif country in SA:\n",
    "            print(f\"{country} is part of South America\")\n",
    "        elif country in EU:\n",
    "            print(f\"{country} is part of Europe\")\n",
    "        elif country in AF:\n",
    "            print(f\"{country} is part of Africa\")\n",
    "        else:\n",
    "            print(f\"{country} is part of Asia\")"
   ]
  },
  {
   "cell_type": "code",
   "execution_count": 44,
   "id": "ce972d94",
   "metadata": {},
   "outputs": [
    {
     "name": "stdout",
     "output_type": "stream",
     "text": [
      "France is part of Europe\n"
     ]
    }
   ],
   "source": [
    "continent(\"France\")"
   ]
  },
  {
   "cell_type": "markdown",
   "id": "1842cfd6",
   "metadata": {},
   "source": [
    "1.5 **Offical UN languges**\n",
    "The United Nations has six official languages: English, French, Spanish, Russian, Chinese, and Arabic. Write a function that accepts a language as a parameter and returns if it is an official UN language."
   ]
  },
  {
   "cell_type": "code",
   "execution_count": 45,
   "id": "9047907e",
   "metadata": {},
   "outputs": [],
   "source": [
    "def UN_lang(language):\n",
    "        \"\"\"Function to determine whether a language is one of the six official UN languages\"\"\"\n",
    "        UN_language=[\"English\", \"French\", \"Spanish\", \"Russian\", \"Chinese\", \"Arabic\"]\n",
    "        if language in UN_language:\n",
    "            print(f\"{language} is one of the official UN languages.\")\n",
    "        else:\n",
    "            print(f\"{language} is not one of the official UN languages.\")"
   ]
  },
  {
   "cell_type": "code",
   "execution_count": 46,
   "id": "128df7b0",
   "metadata": {},
   "outputs": [
    {
     "name": "stdout",
     "output_type": "stream",
     "text": [
      "Russian is one of the official UN languages.\n"
     ]
    }
   ],
   "source": [
    "UN_lang(\"Russian\")"
   ]
  },
  {
   "cell_type": "markdown",
   "id": "ce7e1140",
   "metadata": {},
   "source": [
    "1.6 **Average Life Expectancy:**\n",
    "Given the name of a continent, write a function that returns the average life expectancy. For this problem, use the following sample data: Africa (60), Europe (80), Asia (73), North America (79), South America (75)."
   ]
  },
  {
   "cell_type": "code",
   "execution_count": 47,
   "id": "c7e089fc",
   "metadata": {},
   "outputs": [],
   "source": [
    "def life_exp(continent):\n",
    "        \"\"\"Function to determine the average life expectancy of the continent\"\"\"\n",
    "        NA=[\"North America\"]\n",
    "        SA=[\"South America\"]\n",
    "        EU=[\"Europe\"]\n",
    "        AF=[\"Africa\"]\n",
    "        AS=[\"Asia\"]\n",
    "    \n",
    "        if continent in NA:\n",
    "            print(f\"The average life expectancy in {continent} is 79\")\n",
    "        elif continent in SA:\n",
    "            print(f\"The average life expectancy in {continent} is 75\")\n",
    "        elif continent in EU:\n",
    "            print(f\"The average life expectancy in {continent} is 80\")\n",
    "        elif continent in AF:\n",
    "            print(f\"The average life expectancy in {continent} is 60\")\n",
    "        else:\n",
    "            print(f\"The average life expectancy in {continent} is 73\")"
   ]
  },
  {
   "cell_type": "code",
   "execution_count": 48,
   "id": "31cf1566",
   "metadata": {},
   "outputs": [
    {
     "name": "stdout",
     "output_type": "stream",
     "text": [
      "The average life expectancy in Asia is 73\n"
     ]
    }
   ],
   "source": [
    "life_exp(\"Asia\")"
   ]
  },
  {
   "cell_type": "markdown",
   "id": "b83ae3bf",
   "metadata": {},
   "source": [
    "1.7 **Peace Index Rating:**\n",
    "Write a function that rates the peacefulness of a country based on a score from 1 to 5 (1 being the most peaceful and 5 being the least peaceful). Consider these sample countries: Iceland (1), Afghanistan (5), Canada (2), Brazil (3), and Nigeria (4)."
   ]
  },
  {
   "cell_type": "code",
   "execution_count": 49,
   "id": "d45fc75e",
   "metadata": {},
   "outputs": [],
   "source": [
    "def peace(country):\n",
    "        \"\"\"Function to determine the peacefulness of a country\"\"\"\n",
    "        MP=[\"Iceland\"]\n",
    "        P=[\"Canada\"]\n",
    "        AP=[\"Brazil\"]\n",
    "        NP=[\"Nigeria\"]\n",
    "        LP=[\"Afghanistan\"]\n",
    "    \n",
    "        if country in MP:\n",
    "            print(f\"On the Peace Index Rating, {country} has a score of 1\")\n",
    "        elif country in P:\n",
    "            print(f\"On the Peace Index Rating, {country} has a score of 2\")\n",
    "        elif country in AP:\n",
    "            print(f\"On the Peace Index Rating, {country} has a score of 3\")\n",
    "        elif country in NP:\n",
    "            print(f\"On the Peace Index Rating, {country} has a score of 4\")\n",
    "        else:\n",
    "            print(f\"On the Peace Index Rating, {country} has a score of 5\")"
   ]
  },
  {
   "cell_type": "code",
   "execution_count": 50,
   "id": "ca4c48a1",
   "metadata": {},
   "outputs": [
    {
     "name": "stdout",
     "output_type": "stream",
     "text": [
      "On the Peace Index Rating, Afghanistan has a score of 5\n"
     ]
    }
   ],
   "source": [
    "peace(\"Afghanistan\")"
   ]
  },
  {
   "cell_type": "markdown",
   "id": "871059f0",
   "metadata": {},
   "source": [
    "1.8 **Calculate Refugee Aid:**\n",
    "Given the number of refugees a country has accepted, write a function to calculate the total amount of aid required. Assume a fixed aid amount of $500 per refugee."
   ]
  },
  {
   "cell_type": "code",
   "execution_count": 51,
   "id": "cd5f03ea",
   "metadata": {},
   "outputs": [],
   "source": [
    "def aid(refugee):\n",
    "        \"\"\"Function to calculate total amount of aid required per refugee\"\"\"\n",
    "        aid_total=(refugee*500)\n",
    "        print(f\"The toal amount required to host {refugee} refugees is USD {aid_total:.2f}.\")"
   ]
  },
  {
   "cell_type": "code",
   "execution_count": 52,
   "id": "707c8cbf",
   "metadata": {},
   "outputs": [
    {
     "name": "stdout",
     "output_type": "stream",
     "text": [
      "The toal amount required to host 100 refugees is USD 50000.00.\n"
     ]
    }
   ],
   "source": [
    "aid(100)"
   ]
  },
  {
   "cell_type": "markdown",
   "id": "94dd3359",
   "metadata": {},
   "source": [
    "1.9\n",
    "**Information campaign**\n",
    "It's important to approach this task with sensitivity and care, given the real-world implications and the potential harm that can arise from disseminating biased information. Generating messages with different biases can be a useful exercise for understanding the power of narrative and the way in which information can be framed, but it should be used responsibly and ethically.\n",
    "Write a function that generates a pro-Russain message, a neutral-Russian message, and a anti-Russian message regarding the Russian military action in Ukraine. "
   ]
  },
  {
   "cell_type": "code",
   "execution_count": 1,
   "id": "c8afe22a",
   "metadata": {},
   "outputs": [],
   "source": [
    "def generate_messages(message):\n",
    "    pro_messages=[\"Pro-Russian Message\"]\n",
    "    neutral_messages=[\"Neutral-Russian Message\"]\n",
    "    anti_messages=[\"Anti-Russian Message\"]\n",
    "    \n",
    "    if message in pro_messages:\n",
    "        print(\"Russia had the complete right to invade Ukraine.\")\n",
    "    elif message in neutral_messages:\n",
    "        print(\"With the available information, it is hard to say whether Russia was right to invade Ukraine or not.\")\n",
    "    else:\n",
    "        print(\"Russia has violated Ukraine's sovereignty and they should be held accountable.\")"
   ]
  },
  {
   "cell_type": "code",
   "execution_count": 2,
   "id": "4dde2403",
   "metadata": {},
   "outputs": [
    {
     "name": "stdout",
     "output_type": "stream",
     "text": [
      "Russia had the complete right to invade Ukraine.\n"
     ]
    }
   ],
   "source": [
    "generate_messages(\"Pro-Russian Message\")"
   ]
  },
  {
   "cell_type": "markdown",
   "id": "14e2172b",
   "metadata": {},
   "source": [
    "1.10 **Propagating your message**\n",
    "Now use a while loop to demonstrate how you would generate 100 of the neutral messages"
   ]
  },
  {
   "cell_type": "code",
   "execution_count": 55,
   "id": "79fdc549",
   "metadata": {},
   "outputs": [
    {
     "name": "stdout",
     "output_type": "stream",
     "text": [
      "With the available information, it is hard to say whether Russia was right to invade Ukraine or not.\n",
      "With the available information, it is hard to say whether Russia was right to invade Ukraine or not.\n",
      "With the available information, it is hard to say whether Russia was right to invade Ukraine or not.\n",
      "With the available information, it is hard to say whether Russia was right to invade Ukraine or not.\n",
      "With the available information, it is hard to say whether Russia was right to invade Ukraine or not.\n",
      "With the available information, it is hard to say whether Russia was right to invade Ukraine or not.\n",
      "With the available information, it is hard to say whether Russia was right to invade Ukraine or not.\n",
      "With the available information, it is hard to say whether Russia was right to invade Ukraine or not.\n",
      "With the available information, it is hard to say whether Russia was right to invade Ukraine or not.\n",
      "With the available information, it is hard to say whether Russia was right to invade Ukraine or not.\n",
      "With the available information, it is hard to say whether Russia was right to invade Ukraine or not.\n",
      "With the available information, it is hard to say whether Russia was right to invade Ukraine or not.\n",
      "With the available information, it is hard to say whether Russia was right to invade Ukraine or not.\n",
      "With the available information, it is hard to say whether Russia was right to invade Ukraine or not.\n",
      "With the available information, it is hard to say whether Russia was right to invade Ukraine or not.\n",
      "With the available information, it is hard to say whether Russia was right to invade Ukraine or not.\n",
      "With the available information, it is hard to say whether Russia was right to invade Ukraine or not.\n",
      "With the available information, it is hard to say whether Russia was right to invade Ukraine or not.\n",
      "With the available information, it is hard to say whether Russia was right to invade Ukraine or not.\n",
      "With the available information, it is hard to say whether Russia was right to invade Ukraine or not.\n",
      "With the available information, it is hard to say whether Russia was right to invade Ukraine or not.\n",
      "With the available information, it is hard to say whether Russia was right to invade Ukraine or not.\n",
      "With the available information, it is hard to say whether Russia was right to invade Ukraine or not.\n",
      "With the available information, it is hard to say whether Russia was right to invade Ukraine or not.\n",
      "With the available information, it is hard to say whether Russia was right to invade Ukraine or not.\n",
      "With the available information, it is hard to say whether Russia was right to invade Ukraine or not.\n",
      "With the available information, it is hard to say whether Russia was right to invade Ukraine or not.\n",
      "With the available information, it is hard to say whether Russia was right to invade Ukraine or not.\n",
      "With the available information, it is hard to say whether Russia was right to invade Ukraine or not.\n",
      "With the available information, it is hard to say whether Russia was right to invade Ukraine or not.\n",
      "With the available information, it is hard to say whether Russia was right to invade Ukraine or not.\n",
      "With the available information, it is hard to say whether Russia was right to invade Ukraine or not.\n",
      "With the available information, it is hard to say whether Russia was right to invade Ukraine or not.\n",
      "With the available information, it is hard to say whether Russia was right to invade Ukraine or not.\n",
      "With the available information, it is hard to say whether Russia was right to invade Ukraine or not.\n",
      "With the available information, it is hard to say whether Russia was right to invade Ukraine or not.\n",
      "With the available information, it is hard to say whether Russia was right to invade Ukraine or not.\n",
      "With the available information, it is hard to say whether Russia was right to invade Ukraine or not.\n",
      "With the available information, it is hard to say whether Russia was right to invade Ukraine or not.\n",
      "With the available information, it is hard to say whether Russia was right to invade Ukraine or not.\n",
      "With the available information, it is hard to say whether Russia was right to invade Ukraine or not.\n",
      "With the available information, it is hard to say whether Russia was right to invade Ukraine or not.\n",
      "With the available information, it is hard to say whether Russia was right to invade Ukraine or not.\n",
      "With the available information, it is hard to say whether Russia was right to invade Ukraine or not.\n",
      "With the available information, it is hard to say whether Russia was right to invade Ukraine or not.\n",
      "With the available information, it is hard to say whether Russia was right to invade Ukraine or not.\n",
      "With the available information, it is hard to say whether Russia was right to invade Ukraine or not.\n",
      "With the available information, it is hard to say whether Russia was right to invade Ukraine or not.\n",
      "With the available information, it is hard to say whether Russia was right to invade Ukraine or not.\n",
      "With the available information, it is hard to say whether Russia was right to invade Ukraine or not.\n",
      "With the available information, it is hard to say whether Russia was right to invade Ukraine or not.\n",
      "With the available information, it is hard to say whether Russia was right to invade Ukraine or not.\n",
      "With the available information, it is hard to say whether Russia was right to invade Ukraine or not.\n",
      "With the available information, it is hard to say whether Russia was right to invade Ukraine or not.\n",
      "With the available information, it is hard to say whether Russia was right to invade Ukraine or not.\n",
      "With the available information, it is hard to say whether Russia was right to invade Ukraine or not.\n",
      "With the available information, it is hard to say whether Russia was right to invade Ukraine or not.\n",
      "With the available information, it is hard to say whether Russia was right to invade Ukraine or not.\n",
      "With the available information, it is hard to say whether Russia was right to invade Ukraine or not.\n",
      "With the available information, it is hard to say whether Russia was right to invade Ukraine or not.\n",
      "With the available information, it is hard to say whether Russia was right to invade Ukraine or not.\n",
      "With the available information, it is hard to say whether Russia was right to invade Ukraine or not.\n",
      "With the available information, it is hard to say whether Russia was right to invade Ukraine or not.\n",
      "With the available information, it is hard to say whether Russia was right to invade Ukraine or not.\n",
      "With the available information, it is hard to say whether Russia was right to invade Ukraine or not.\n",
      "With the available information, it is hard to say whether Russia was right to invade Ukraine or not.\n",
      "With the available information, it is hard to say whether Russia was right to invade Ukraine or not.\n",
      "With the available information, it is hard to say whether Russia was right to invade Ukraine or not.\n",
      "With the available information, it is hard to say whether Russia was right to invade Ukraine or not.\n",
      "With the available information, it is hard to say whether Russia was right to invade Ukraine or not.\n",
      "With the available information, it is hard to say whether Russia was right to invade Ukraine or not.\n",
      "With the available information, it is hard to say whether Russia was right to invade Ukraine or not.\n",
      "With the available information, it is hard to say whether Russia was right to invade Ukraine or not.\n",
      "With the available information, it is hard to say whether Russia was right to invade Ukraine or not.\n",
      "With the available information, it is hard to say whether Russia was right to invade Ukraine or not.\n",
      "With the available information, it is hard to say whether Russia was right to invade Ukraine or not.\n",
      "With the available information, it is hard to say whether Russia was right to invade Ukraine or not.\n",
      "With the available information, it is hard to say whether Russia was right to invade Ukraine or not.\n",
      "With the available information, it is hard to say whether Russia was right to invade Ukraine or not.\n",
      "With the available information, it is hard to say whether Russia was right to invade Ukraine or not.\n",
      "With the available information, it is hard to say whether Russia was right to invade Ukraine or not.\n",
      "With the available information, it is hard to say whether Russia was right to invade Ukraine or not.\n",
      "With the available information, it is hard to say whether Russia was right to invade Ukraine or not.\n",
      "With the available information, it is hard to say whether Russia was right to invade Ukraine or not.\n",
      "With the available information, it is hard to say whether Russia was right to invade Ukraine or not.\n",
      "With the available information, it is hard to say whether Russia was right to invade Ukraine or not.\n",
      "With the available information, it is hard to say whether Russia was right to invade Ukraine or not.\n",
      "With the available information, it is hard to say whether Russia was right to invade Ukraine or not.\n",
      "With the available information, it is hard to say whether Russia was right to invade Ukraine or not.\n",
      "With the available information, it is hard to say whether Russia was right to invade Ukraine or not.\n",
      "With the available information, it is hard to say whether Russia was right to invade Ukraine or not.\n",
      "With the available information, it is hard to say whether Russia was right to invade Ukraine or not.\n",
      "With the available information, it is hard to say whether Russia was right to invade Ukraine or not.\n",
      "With the available information, it is hard to say whether Russia was right to invade Ukraine or not.\n",
      "With the available information, it is hard to say whether Russia was right to invade Ukraine or not.\n",
      "With the available information, it is hard to say whether Russia was right to invade Ukraine or not.\n",
      "With the available information, it is hard to say whether Russia was right to invade Ukraine or not.\n",
      "With the available information, it is hard to say whether Russia was right to invade Ukraine or not.\n",
      "With the available information, it is hard to say whether Russia was right to invade Ukraine or not.\n",
      "With the available information, it is hard to say whether Russia was right to invade Ukraine or not.\n"
     ]
    }
   ],
   "source": [
    "count=100\n",
    "while count>0:\n",
    "    generate_messages(\"Neutral-Russian Message\")\n",
    "    count=count-1"
   ]
  },
  {
   "cell_type": "markdown",
   "id": "6efb0bc1",
   "metadata": {},
   "source": [
    "**Extra Credit**\n",
    "Use ChatGPT to generate 10 pro Russian messages that are synonymous to the one you generated above. Then write a function that takes no parameter of argument called:"
   ]
  },
  {
   "cell_type": "code",
   "execution_count": 56,
   "id": "bbba0778",
   "metadata": {},
   "outputs": [],
   "source": [
    "import random\n",
    "\n",
    "def get_proZ_sent():\n",
    "    proZ = random.randint(1,10)\n",
    "    if proZ == 1:\n",
    "        print(\"We support Russia!\")\n",
    "    elif proZ == 2:\n",
    "        print (\"Russia is right!\")\n",
    "    elif proZ == 3:\n",
    "        print (\"Nohing wrong with Russia's actions.\")\n",
    "    elif proZ == 4:\n",
    "        print (\"Let Russia do what it wants to do to protect itself.\")\n",
    "    elif proZ == 5:\n",
    "        print (\"We shouldn't interfere in Russia's decision.\")\n",
    "    elif proZ == 6:\n",
    "        print (\"Ukraine should be part of Russia.\")\n",
    "    elif proZ == 7:\n",
    "        print (\"West shouldn't support Ukraine.\")\n",
    "    elif proZ == 8:\n",
    "        print (\"It's wrong to provide billions of dollar to Ukraine.\")\n",
    "    elif proZ == 9:\n",
    "        print (\"We shouldn't sanction Russia.\")\n",
    "    else:\n",
    "         print(\"Russia has the right to protect it's territory.\")"
   ]
  },
  {
   "cell_type": "markdown",
   "id": "f6e3be7c",
   "metadata": {},
   "source": [
    "Using if, elif, else and Python's random function, write a function that randomly returns one of those messages. **hint: your first line should be \"import random\" which brings the random function into your environment so you can use it**\n",
    "\n",
    "**Note on functions without arguments**\n",
    "Functions that take no arguments are typically used in situations where:\n",
    "\n",
    "1.The function always produces the same result or side-effect:\n",
    "If calling the function always gives the same output or causes the same action to occur, it might not need arguments. For example, a function that always returns the current time.\n",
    "\n",
    "2.All required data is encapsulated within the function: \n",
    "For instance, if you have a function that provides some constant value or some fixed message, it might not need external data to work.\n",
    "\n",
    "3.Configurability is not required: \n",
    "If the function does not need to be customizable or adaptable to different situations, then arguments might not be necessary.\n",
    "\n",
    "Because we have defined sentences all encapsulated within our function and the message is fixed, we don't need to define a parameter here!  "
   ]
  },
  {
   "cell_type": "code",
   "execution_count": 57,
   "id": "e3ddc8e8",
   "metadata": {},
   "outputs": [
    {
     "name": "stdout",
     "output_type": "stream",
     "text": [
      "It's wrong to provide billions of dollar to Ukraine.\n"
     ]
    }
   ],
   "source": [
    "get_proZ_sent()"
   ]
  }
 ],
 "metadata": {
  "kernelspec": {
   "display_name": "Python 3 (ipykernel)",
   "language": "python",
   "name": "python3"
  },
  "language_info": {
   "codemirror_mode": {
    "name": "ipython",
    "version": 3
   },
   "file_extension": ".py",
   "mimetype": "text/x-python",
   "name": "python",
   "nbconvert_exporter": "python",
   "pygments_lexer": "ipython3",
   "version": "3.11.4"
  }
 },
 "nbformat": 4,
 "nbformat_minor": 5
}
