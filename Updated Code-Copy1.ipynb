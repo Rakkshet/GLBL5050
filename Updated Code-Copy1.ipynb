{
 "cells": [
  {
   "cell_type": "code",
   "execution_count": 49,
   "id": "ff09ad90",
   "metadata": {},
   "outputs": [],
   "source": [
    "import pandas as pd\n",
    "import numpy as np\n",
    "import plotly.express as px\n",
    "import geopandas as gpd\n",
    "import matplotlib.pyplot as plt\n",
    "import seaborn as sns\n",
    "import dash\n",
    "import json"
   ]
  },
  {
   "cell_type": "code",
   "execution_count": 2,
   "id": "3945d418",
   "metadata": {},
   "outputs": [
    {
     "name": "stderr",
     "output_type": "stream",
     "text": [
      "/var/folders/jr/yk_drf0n3ys0hbglvhv_fsth0000gn/T/ipykernel_4119/3707769492.py:1: DtypeWarning: Columns (364,365,366,394,410,821,831,832,930,1235,1252,1481,3063,3282,3283,3351,3353,3357,3358,3360,3361,3362) have mixed types. Specify dtype option on import or set low_memory=False.\n",
      "  df_vdem = pd.read_csv(\"V-Dem-CY-Full+Others-v13.csv\")\n"
     ]
    }
   ],
   "source": [
    "df_vdem = pd.read_csv(\"V-Dem-CY-Full+Others-v13.csv\")"
   ]
  },
  {
   "cell_type": "code",
   "execution_count": 3,
   "id": "223b2b77",
   "metadata": {},
   "outputs": [],
   "source": [
    "df_regime_1 = df_vdem.pivot(index='country_name', columns='year', values='v2x_regime')\n",
    "df_dem_1 = df_vdem.pivot(index='country_name', columns='year', values='e_boix_regime')\n",
    "df_polity_1 = df_vdem.pivot(index='country_name', columns='year', values='e_polity2')"
   ]
  },
  {
   "cell_type": "code",
   "execution_count": 4,
   "id": "49526a86",
   "metadata": {},
   "outputs": [],
   "source": [
    "df_regime_2 = df_regime_1.drop(columns=list(range(1789, 1991))+ [2019, 2020, 2021, 2022])\n",
    "df_dem_2 = df_dem_1.drop(columns=list(range(1789, 1991)) + [2019, 2020, 2021, 2022])\n",
    "df_polity_2 = df_polity_1.drop(columns=list(range(1789, 1991)) + [2019, 2020, 2021, 2022])\n",
    "\n",
    "df_regime_3 = df_regime_2.dropna()\n",
    "df_dem_3 = df_dem_2.dropna()\n",
    "df_polity_3 = df_polity_2.dropna()"
   ]
  },
  {
   "cell_type": "code",
   "execution_count": 5,
   "id": "7b61767d",
   "metadata": {},
   "outputs": [],
   "source": [
    "regime_transitions_list = []\n",
    "for index, row in df_regime_3.iterrows():\n",
    "    country_name = index\n",
    "    transition_started = False\n",
    "    \n",
    "    for year in df_regime_3.columns[:-1]:\n",
    "        current_value = row[year]\n",
    "        \n",
    "        if (current_value >= 2) and all(row[year + i] < 2 for i in range(1, len(df_regime_3.columns) - df_regime_3.columns.get_loc(year))):\n",
    "            transition_started = True\n",
    "            transition_start_year = year\n",
    "\n",
    "        elif transition_started and all(row[year + i] < 2 for i in range(1, len(df_regime_3.columns) - df_regime_3.columns.get_loc(year))):\n",
    "            transition_info = {\"country\": country_name, \"start_year\": transition_start_year}\n",
    "            regime_transitions_list.append(transition_info)\n",
    "            transition_started = False\n",
    "            break\n",
    "\n",
    "dem_transitions_list = []\n",
    "for index, row in df_dem_3.iterrows():\n",
    "    country_name = index\n",
    "    transition_started = False\n",
    "    \n",
    "    for year in df_dem_3.columns[:-1]:\n",
    "        current_value = row[year]\n",
    "        \n",
    "        if current_value == 1.0 and all(row[year + i] == 0.0 for i in range(1, len(df_dem_3.columns) - df_dem_3.columns.get_loc(year) - 1)):\n",
    "            transition_started = True\n",
    "            transition_start_year = year\n",
    "\n",
    "        elif transition_started and all(row[year + i] == 0.0 for i in range(1, len(df_dem_3.columns) - df_dem_3.columns.get_loc(year) - 1)):\n",
    "            transition_info = {\"country\": country_name, \"start_year\": transition_start_year}\n",
    "            dem_transitions_list.append(transition_info)\n",
    "            transition_started = False\n",
    "            break\n",
    "            \n",
    "polity_transitions_list = []\n",
    "for index, row in df_polity_3.iterrows():\n",
    "    country_name = index\n",
    "    transition_started = False\n",
    "    \n",
    "    for year in df_polity_3.columns[:-1]:\n",
    "        current_value = row[year]\n",
    "        \n",
    "        if (current_value >= 7) and all(row[year + i] < 7 for i in range(1, len(df_polity_3.columns) - df_polity_3.columns.get_loc(year) - 1)):\n",
    "            transition_started = True\n",
    "            transition_start_year = year\n",
    "\n",
    "        elif transition_started and all(row[year + i] < 7 for i in range(1, len(df_polity_3.columns) - df_polity_3.columns.get_loc(year) - 1)):\n",
    "            transition_info = {\"country\": country_name, \"start_year\": transition_start_year}\n",
    "            dem_transitions_list.append(transition_info)\n",
    "            transition_started = False\n",
    "            break\n",
    "\n",
    "regime_set = {entry[\"country\"] for entry in regime_transitions_list}\n",
    "dem_set = {entry[\"country\"] for entry in dem_transitions_list}\n",
    "polity_set = {entry[\"country\"] for entry in polity_transitions_list}\n",
    "\n",
    "intersection_set_1 = regime_set.intersection(dem_set)\n",
    "intersection_set_2 = regime_set.intersection(polity_set)\n",
    "intersection_set_3 = dem_set.intersection(polity_set)\n",
    "\n",
    "union_of_sets = (intersection_set_1.union(intersection_set_2)).union(intersection_set_3)\n",
    "\n",
    "union_list = [{\"country\": entry} for entry in union_of_sets]\n",
    "\n",
    "union_list_2 = [{\"country\": entry[\"country\"], \"start_year\": entry[\"start_year\"]} for entry in regime_transitions_list if entry[\"country\"] in union_of_sets]\n",
    "\n",
    "df_union_list_2 = pd.DataFrame(union_list_2)"
   ]
  },
  {
   "cell_type": "code",
   "execution_count": 6,
   "id": "b36c677d",
   "metadata": {},
   "outputs": [],
   "source": [
    "df_wdi_1 = pd.read_excel(\"P_Data_Extract_From_World_Development_Indicators.xlsx\")"
   ]
  },
  {
   "cell_type": "code",
   "execution_count": 7,
   "id": "2d2cc498",
   "metadata": {},
   "outputs": [],
   "source": [
    "country_names = [country_dict['country'] for country_dict in union_list]\n",
    "\n",
    "df_wdi_2 = df_wdi_1[df_wdi_1['Country Name'].isin(country_names)]"
   ]
  },
  {
   "cell_type": "code",
   "execution_count": 8,
   "id": "abcfbca0",
   "metadata": {},
   "outputs": [
    {
     "name": "stderr",
     "output_type": "stream",
     "text": [
      "/var/folders/jr/yk_drf0n3ys0hbglvhv_fsth0000gn/T/ipykernel_4119/3393385148.py:1: SettingWithCopyWarning: \n",
      "A value is trying to be set on a copy of a slice from a DataFrame\n",
      "\n",
      "See the caveats in the documentation: https://pandas.pydata.org/pandas-docs/stable/user_guide/indexing.html#returning-a-view-versus-a-copy\n",
      "  df_wdi_2.replace({\"..\": np.nan, \"...\": np.nan}, inplace=True)\n",
      "/var/folders/jr/yk_drf0n3ys0hbglvhv_fsth0000gn/T/ipykernel_4119/3393385148.py:2: SettingWithCopyWarning: \n",
      "A value is trying to be set on a copy of a slice from a DataFrame\n",
      "\n",
      "See the caveats in the documentation: https://pandas.pydata.org/pandas-docs/stable/user_guide/indexing.html#returning-a-view-versus-a-copy\n",
      "  df_wdi_2.dropna(inplace=True)\n"
     ]
    }
   ],
   "source": [
    "df_wdi_2.replace({\"..\": np.nan, \"...\": np.nan}, inplace=True)\n",
    "df_wdi_2.dropna(inplace=True)"
   ]
  },
  {
   "cell_type": "code",
   "execution_count": 9,
   "id": "03797c97",
   "metadata": {},
   "outputs": [],
   "source": [
    "common_indicators = set(df_wdi_2['Series Name'])\n",
    "for country in df_wdi_2['Country Name'].unique():\n",
    "    country_indicators = set(df_wdi_2[df_wdi_2['Country Name'] == country]['Series Name'])\n",
    "    common_indicators = common_indicators.intersection(country_indicators)\n",
    "\n",
    "df_wdi_3 = df_wdi_2[df_wdi_2['Series Name'].isin(common_indicators)]"
   ]
  },
  {
   "cell_type": "code",
   "execution_count": 10,
   "id": "25e6ffcc",
   "metadata": {},
   "outputs": [],
   "source": [
    "df_wdi_melted = df_wdi_2.melt(id_vars=['Country Name', 'Series Name', 'Series Code'], var_name='Year', value_name='Value')"
   ]
  },
  {
   "cell_type": "code",
   "execution_count": 12,
   "id": "867ebca1",
   "metadata": {},
   "outputs": [],
   "source": [
    "df_plots = pd.DataFrame([\n",
    "    {\"plot\": \"Line Plot\"},\n",
    "    {\"plot\": \"Bivariable Scatter Plot\"},\n",
    "    {\"plot\": \"Bivariable Scatter Plot (Log)\"}\n",
    "])"
   ]
  },
  {
   "cell_type": "code",
   "execution_count": 19,
   "id": "8882ca1e",
   "metadata": {},
   "outputs": [],
   "source": [
    "from dash import Dash, html, dcc, dash_table, callback, Output, Input"
   ]
  },
  {
   "cell_type": "code",
   "execution_count": 50,
   "id": "03bb0eb9",
   "metadata": {},
   "outputs": [
    {
     "data": {
      "text/html": [
       "\n",
       "        <iframe\n",
       "            width=\"100%\"\n",
       "            height=\"650\"\n",
       "            src=\"http://127.0.0.1:8050/\"\n",
       "            frameborder=\"0\"\n",
       "            allowfullscreen\n",
       "            \n",
       "        ></iframe>\n",
       "        "
      ],
      "text/plain": [
       "<IPython.lib.display.IFrame at 0x130aae290>"
      ]
     },
     "metadata": {},
     "output_type": "display_data"
    },
    {
     "name": "stderr",
     "output_type": "stream",
     "text": [
      "/var/folders/jr/yk_drf0n3ys0hbglvhv_fsth0000gn/T/ipykernel_4119/856095971.py:37: RuntimeWarning:\n",
      "\n",
      "invalid value encountered in log10\n",
      "\n",
      "/var/folders/jr/yk_drf0n3ys0hbglvhv_fsth0000gn/T/ipykernel_4119/856095971.py:37: RuntimeWarning:\n",
      "\n",
      "invalid value encountered in log10\n",
      "\n",
      "/var/folders/jr/yk_drf0n3ys0hbglvhv_fsth0000gn/T/ipykernel_4119/856095971.py:37: RuntimeWarning:\n",
      "\n",
      "invalid value encountered in log10\n",
      "\n"
     ]
    }
   ],
   "source": [
    "import pandas as pd\n",
    "import numpy as np\n",
    "import plotly.express as px\n",
    "import dash\n",
    "from dash import html, dcc, dash_table\n",
    "from dash.dependencies import Input, Output\n",
    "\n",
    "def line_plot(data, x_column, y_column, color_column, title):\n",
    "    fig = px.line(data, x=x_column, y=y_column, color=color_column, title=title)\n",
    "    fig.update_traces(mode=\"lines\")    \n",
    "    return fig\n",
    "\n",
    "def scatter_plot(data, x_column, y_column, color_column, hover_column, animation_column, title, x_label, y_label):\n",
    "    min_value_x = data[x_column].min()\n",
    "    max_value_x = data[x_column].max()\n",
    "    min_value_y = data[y_column].min()\n",
    "    max_value_y = data[y_column].max()\n",
    "    fig = px.scatter(data, x=x_column, y=y_column, color=color_column,\n",
    "                     hover_name=hover_column, animation_frame=animation_column,\n",
    "                     title=title, animation_group=hover_column,\n",
    "                     labels={x_column: x_label, y_column: y_label})\n",
    "    fig.update_traces(marker=dict(size=10))\n",
    "    fig.update_layout(xaxis=dict(range=[min_value_x, max_value_x]), yaxis=dict(range=[min_value_y, max_value_y]))\n",
    "    return fig\n",
    "\n",
    "def log_scatter_plot(data, x_column, y_column, color_column, hover_column, animation_column, title, x_label, y_label):\n",
    "    min_value_x = data[x_column].min()\n",
    "    max_value_x = data[x_column].max()\n",
    "    min_value_y = data[y_column].min()\n",
    "    max_value_y = data[y_column].max()\n",
    "    fig = px.scatter(data, x=x_column, y=y_column, color=color_column,\n",
    "                     hover_name=hover_column, animation_frame=animation_column, log_x=True, log_y=True,\n",
    "                     title=title, animation_group=hover_column,\n",
    "                     labels={x_column: x_label, y_column: y_label})\n",
    "    fig.update_traces(marker=dict(size=10))\n",
    "    fig.update_layout(xaxis=dict(range=np.log10([min_value_x, max_value_x])),\n",
    "                      yaxis=dict(range=np.log10([min_value_y, max_value_y])))\n",
    "    return fig\n",
    "\n",
    "app = dash.Dash(__name__)\n",
    "\n",
    "app.layout = html.Div([\n",
    "    html.Div(children='Democracy Backsliding and Analysis', style={'textAlign': 'center', 'fontSize': 24, 'fontWeight': 'bold'}),\n",
    "    dcc.Markdown('''\n",
    "        #### Understanding Democracy Backsliding\n",
    "        In examining democracy backsliding across countries spanning the years 1991 to 2018, \n",
    "        our project relies on democracy metrics sourced from the Varieties of Democracy (V-Dem) dataset, version 13. \n",
    "        A nation is categorized as a democratic backslider under two specific conditions: \n",
    "        firstly, it must have attained a notable level of democracy, and subsequently, \n",
    "        it should undergo significant erosion of democratic institutions. \n",
    "        Our approach to defining a significant level of democracy considers a country to have achieved this status \n",
    "        when meeting criteria such as a Regimes of the World (ROW) measure of equal to or greater than 2, \n",
    "        a Democracy (BMR) score of 1, and a Polity revised combined score equal to or greater than 7. \n",
    "        Similarly, our criteria for democratic decline inclusively encompass countries experiencing a \n",
    "        qualitative rating decline or identified as backsliders by at least two major democracy indices. \n",
    "        This involves a ROW measure of less than 2, a Democracy (BMR) score of 0, and a Polity revised combined score of less than 7. \n",
    "        Based on our approach produces eleven cases of democratic backsliding since the end of the Cold War.\n",
    "    ''', style={'textAlign': 'justify'}),\n",
    "    html.Div([\n",
    "        dash_table.DataTable(\n",
    "            data=df_union_list_2.to_dict('records'),\n",
    "            columns=[\n",
    "            {'name': 'Country', 'id': 'country'},\n",
    "            {'name': 'Year of Democracy Backsliding', 'id': 'start_year'},\n",
    "            ],\n",
    "            style_table={'height': '800px', 'overflowY': 'auto', 'width': '400px', 'margin': '0px'},\n",
    "            style_cell={'textAlign': 'center'}\n",
    "        )\n",
    "    ], style={'display': 'flex', 'justify-content': 'center', 'margin-bottom': '10px'}),\n",
    "\n",
    "    dcc.Graph(\n",
    "        figure=px.choropleth(\n",
    "            df_union_list_2,\n",
    "            locations='country',\n",
    "            locationmode='country names',\n",
    "            hover_name='country',\n",
    "            color='start_year',\n",
    "            color_continuous_scale=px.colors.sequential.Plasma,\n",
    "            title='Democracy Consolidation and Backsliding (Year 1991 to 2019)',\n",
    "            labels={'start_year': 'Year of Democracy Backsliding', 'country': 'Country'},\n",
    "        ),\n",
    "        style={'width': '100%', 'height': '800px', 'margin-top': '-350px'}),\n",
    "    \n",
    "    dcc.Markdown('''\n",
    "        #### Economics Analysis\n",
    "        In order to further understand economic background of the countries that have experienced democracy backsliding,\n",
    "        you can select indictors to graph.\n",
    "    ''', style={'textAlign': 'justify'}),\n",
    "    \n",
    "    dcc.Dropdown(\n",
    "        id='graph-dropdown',\n",
    "        options=[\n",
    "            {'label': 'Line Plot', 'value': 'Line Plot'},\n",
    "            {'label': 'Scatter Plot', 'value': 'Scatter Plot'},\n",
    "            {'label': 'Scatter Plot (Log)', 'value': 'Scatter Plot (Log)'}\n",
    "        ],\n",
    "        value='Line Plot',\n",
    "        style={'width': '50%', 'margin-top': '10px'}),\n",
    "\n",
    "    dcc.Dropdown(\n",
    "        id='indicator-dropdown',\n",
    "        options=[{'label': indicator, 'value': indicator} for indicator in df_wdi_melted['Series Name'].unique()],\n",
    "        value=df_wdi_melted['Series Name'].iloc[0],\n",
    "        style={'width': '50%', 'margin-top': '10px'}\n",
    "    ),\n",
    "\n",
    "    dcc.Graph(id='selected-graph', style={'width': '100%', 'height': '600px'})\n",
    "])\n",
    "\n",
    "@app.callback(\n",
    "    Output('selected-graph', 'figure'),\n",
    "    [Input('graph-dropdown', 'value'),\n",
    "     Input('indicator-dropdown', 'value')]\n",
    ")\n",
    "def update_graph(selected_graph, selected_indicator):\n",
    "    if selected_graph == 'Line Plot':\n",
    "        return line_plot(df_wdi_melted, 'Year', 'Value', 'Country Name', f'{selected_indicator} Over Time')\n",
    "\n",
    "    elif selected_graph == 'Scatter Plot':\n",
    "        return scatter_plot(df_wdi_melted, 'Year', 'Value', 'Country Name', 'Country Name', 'Year',\n",
    "                            f'{selected_indicator} vs. Time', 'Year', selected_indicator)\n",
    "\n",
    "    elif selected_graph == 'Scatter Plot (Log)':\n",
    "        return log_scatter_plot(df_wdi_melted, 'Year', 'Value', 'Country Name', 'Country Name', 'Year',\n",
    "                                f'{selected_indicator} vs. Time (Log Scale)', 'Year', selected_indicator)\n",
    "\n",
    "if __name__ == '__main__':\n",
    "    app.run_server(debug=True, use_reloader=False, open_browser=False)\n"
   ]
  },
  {
   "cell_type": "code",
   "execution_count": null,
   "id": "3d9613ff",
   "metadata": {},
   "outputs": [],
   "source": []
  }
 ],
 "metadata": {
  "kernelspec": {
   "display_name": "Python 3 (ipykernel)",
   "language": "python",
   "name": "python3"
  },
  "language_info": {
   "codemirror_mode": {
    "name": "ipython",
    "version": 3
   },
   "file_extension": ".py",
   "mimetype": "text/x-python",
   "name": "python",
   "nbconvert_exporter": "python",
   "pygments_lexer": "ipython3",
   "version": "3.11.4"
  }
 },
 "nbformat": 4,
 "nbformat_minor": 5
}
